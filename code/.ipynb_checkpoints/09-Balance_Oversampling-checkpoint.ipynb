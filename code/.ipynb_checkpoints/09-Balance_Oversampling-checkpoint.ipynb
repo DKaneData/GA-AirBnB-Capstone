{
 "cells": [
  {
   "cell_type": "code",
   "execution_count": 1,
   "id": "54aa7248-118b-4aaf-a765-617ddb96248f",
   "metadata": {},
   "outputs": [],
   "source": [
    "import pandas as pd\n",
    "import numpy as np\n",
    "import matplotlib.pyplot as plt\n",
    "import seaborn as sns\n",
    "\n",
    "from sklearn.feature_extraction.text import TfidfVectorizer, CountVectorizer\n",
    "\n",
    "from sklearn.model_selection import train_test_split, GridSearchCV\n",
    "#from sklearn.pipeline import Pipeline\n",
    "from sklearn.metrics import ConfusionMatrixDisplay, RocCurveDisplay, confusion_matrix, classification_report, recall_score, precision_score, f1_score\n",
    "\n",
    "from sklearn.linear_model import LogisticRegression\n",
    "\n",
    "from imblearn.over_sampling import RandomOverSampler\n",
    "\n",
    "from nltk.corpus import stopwords\n",
    "from imblearn.pipeline import Pipeline # Need to use the imblearn.pipeline since gridsearching over oversampled data"
   ]
  },
  {
   "cell_type": "code",
   "execution_count": 2,
   "id": "6925dd8c-078a-435f-96c9-0eb76f7dedda",
   "metadata": {},
   "outputs": [
    {
     "data": {
      "text/html": [
       "<div>\n",
       "<style scoped>\n",
       "    .dataframe tbody tr th:only-of-type {\n",
       "        vertical-align: middle;\n",
       "    }\n",
       "\n",
       "    .dataframe tbody tr th {\n",
       "        vertical-align: top;\n",
       "    }\n",
       "\n",
       "    .dataframe thead th {\n",
       "        text-align: right;\n",
       "    }\n",
       "</style>\n",
       "<table border=\"1\" class=\"dataframe\">\n",
       "  <thead>\n",
       "    <tr style=\"text-align: right;\">\n",
       "      <th></th>\n",
       "      <th>listing_id</th>\n",
       "      <th>id</th>\n",
       "      <th>date</th>\n",
       "      <th>reviewer_id</th>\n",
       "      <th>reviewer_name</th>\n",
       "      <th>comments</th>\n",
       "      <th>avg_rating</th>\n",
       "      <th>avg_score_below_4</th>\n",
       "      <th>avg_score_below_5th_percentile</th>\n",
       "      <th>comments_clean</th>\n",
       "    </tr>\n",
       "  </thead>\n",
       "  <tbody>\n",
       "    <tr>\n",
       "      <th>82925</th>\n",
       "      <td>14233774</td>\n",
       "      <td>170890632</td>\n",
       "      <td>2017-07-16</td>\n",
       "      <td>114004588</td>\n",
       "      <td>Kayla</td>\n",
       "      <td>We loved staying at Alper's place. We got so m...</td>\n",
       "      <td>4.898571</td>\n",
       "      <td>0</td>\n",
       "      <td>0</td>\n",
       "      <td>we loved staying at alper s place we got so mu...</td>\n",
       "    </tr>\n",
       "    <tr>\n",
       "      <th>117811</th>\n",
       "      <td>18096306</td>\n",
       "      <td>688337141646144533</td>\n",
       "      <td>2022-08-07</td>\n",
       "      <td>29499820</td>\n",
       "      <td>Anne</td>\n",
       "      <td>Great location and great communication with Br...</td>\n",
       "      <td>4.904286</td>\n",
       "      <td>0</td>\n",
       "      <td>0</td>\n",
       "      <td>great location and great communication with brent</td>\n",
       "    </tr>\n",
       "    <tr>\n",
       "      <th>23318</th>\n",
       "      <td>3317645</td>\n",
       "      <td>765055811</td>\n",
       "      <td>2021-05-31</td>\n",
       "      <td>13956522</td>\n",
       "      <td>Jonathan</td>\n",
       "      <td>We enjoyed staying at Meseret’s place.  The sp...</td>\n",
       "      <td>4.892857</td>\n",
       "      <td>0</td>\n",
       "      <td>0</td>\n",
       "      <td>we enjoyed staying at meseret s place the spac...</td>\n",
       "    </tr>\n",
       "    <tr>\n",
       "      <th>115308</th>\n",
       "      <td>17944480</td>\n",
       "      <td>1029327171690939454</td>\n",
       "      <td>2023-11-20</td>\n",
       "      <td>542791150</td>\n",
       "      <td>Alberto</td>\n",
       "      <td>La habitación salvo por el frío que hace, sí q...</td>\n",
       "      <td>4.417143</td>\n",
       "      <td>0</td>\n",
       "      <td>1</td>\n",
       "      <td>la habitación salvo por el frío que hace sí qu...</td>\n",
       "    </tr>\n",
       "    <tr>\n",
       "      <th>133110</th>\n",
       "      <td>20138171</td>\n",
       "      <td>522448858874809964</td>\n",
       "      <td>2021-12-21</td>\n",
       "      <td>393031240</td>\n",
       "      <td>Ernie</td>\n",
       "      <td>They were great at communication, and prompt i...</td>\n",
       "      <td>4.881429</td>\n",
       "      <td>0</td>\n",
       "      <td>0</td>\n",
       "      <td>they were great at communication and prompt in...</td>\n",
       "    </tr>\n",
       "  </tbody>\n",
       "</table>\n",
       "</div>"
      ],
      "text/plain": [
       "        listing_id                   id        date  reviewer_id  \\\n",
       "82925     14233774            170890632  2017-07-16    114004588   \n",
       "117811    18096306   688337141646144533  2022-08-07     29499820   \n",
       "23318      3317645            765055811  2021-05-31     13956522   \n",
       "115308    17944480  1029327171690939454  2023-11-20    542791150   \n",
       "133110    20138171   522448858874809964  2021-12-21    393031240   \n",
       "\n",
       "       reviewer_name                                           comments  \\\n",
       "82925          Kayla  We loved staying at Alper's place. We got so m...   \n",
       "117811          Anne  Great location and great communication with Br...   \n",
       "23318       Jonathan  We enjoyed staying at Meseret’s place.  The sp...   \n",
       "115308       Alberto  La habitación salvo por el frío que hace, sí q...   \n",
       "133110         Ernie  They were great at communication, and prompt i...   \n",
       "\n",
       "        avg_rating  avg_score_below_4  avg_score_below_5th_percentile  \\\n",
       "82925     4.898571                  0                               0   \n",
       "117811    4.904286                  0                               0   \n",
       "23318     4.892857                  0                               0   \n",
       "115308    4.417143                  0                               1   \n",
       "133110    4.881429                  0                               0   \n",
       "\n",
       "                                           comments_clean  \n",
       "82925   we loved staying at alper s place we got so mu...  \n",
       "117811  great location and great communication with brent  \n",
       "23318   we enjoyed staying at meseret s place the spac...  \n",
       "115308  la habitación salvo por el frío que hace sí qu...  \n",
       "133110  they were great at communication and prompt in...  "
      ]
     },
     "execution_count": 2,
     "metadata": {},
     "output_type": "execute_result"
    }
   ],
   "source": [
    "df = pd.read_csv('../data/reviews_with_ratings_cleaned.csv', index_col = 'Unnamed: 0', keep_default_na = False)\n",
    "df.sample(5)"
   ]
  },
  {
   "cell_type": "code",
   "execution_count": 4,
   "id": "0bace80d-941c-4e2f-ae0a-f347c30c3be9",
   "metadata": {},
   "outputs": [
    {
     "data": {
      "text/plain": [
       "listing_id                        0\n",
       "id                                0\n",
       "date                              0\n",
       "reviewer_id                       0\n",
       "reviewer_name                     0\n",
       "comments                          0\n",
       "avg_rating                        0\n",
       "avg_score_below_4                 0\n",
       "avg_score_below_5th_percentile    0\n",
       "comments_clean                    0\n",
       "dtype: int64"
      ]
     },
     "execution_count": 4,
     "metadata": {},
     "output_type": "execute_result"
    }
   ],
   "source": [
    "df.isnull().sum()"
   ]
  },
  {
   "cell_type": "code",
   "execution_count": 5,
   "id": "4673d820-a761-41bf-9ee1-df1bbc88b955",
   "metadata": {},
   "outputs": [
    {
     "name": "stdout",
     "output_type": "stream",
     "text": [
      "avg_score_below_5th_percentile\n",
      "0    320774\n",
      "1      2033\n",
      "Name: count, dtype: int64\n",
      "******************************\n"
     ]
    },
    {
     "data": {
      "text/plain": [
       "avg_score_below_5th_percentile\n",
       "0    0.993702\n",
       "1    0.006298\n",
       "Name: proportion, dtype: float64"
      ]
     },
     "execution_count": 5,
     "metadata": {},
     "output_type": "execute_result"
    }
   ],
   "source": [
    "print(df['avg_score_below_5th_percentile'].value_counts()),\n",
    "print('*'*30)\n",
    "df['avg_score_below_5th_percentile'].value_counts(normalize = True)"
   ]
  },
  {
   "cell_type": "code",
   "execution_count": 6,
   "id": "58145253-8177-49b9-b47a-f426cd8f626e",
   "metadata": {},
   "outputs": [
    {
     "data": {
      "text/plain": [
       "(322807, 1)"
      ]
     },
     "execution_count": 6,
     "metadata": {},
     "output_type": "execute_result"
    }
   ],
   "source": [
    "X = df[['comments_clean']] # Had to make it double square brackets to make it a 2D array\n",
    "X.shape"
   ]
  },
  {
   "cell_type": "code",
   "execution_count": 7,
   "id": "dca3cc5e-a413-4992-9301-38a48f722f65",
   "metadata": {},
   "outputs": [
    {
     "data": {
      "text/plain": [
       "(322807,)"
      ]
     },
     "execution_count": 7,
     "metadata": {},
     "output_type": "execute_result"
    }
   ],
   "source": [
    "y = df['avg_score_below_5th_percentile']\n",
    "y.shape"
   ]
  },
  {
   "cell_type": "code",
   "execution_count": 8,
   "id": "523a7046-e2e6-4528-93aa-27a10098cc8f",
   "metadata": {},
   "outputs": [],
   "source": [
    "X_train, X_test, y_train, y_test = train_test_split(X, y, random_state = 42, stratify = y)"
   ]
  },
  {
   "cell_type": "code",
   "execution_count": 9,
   "id": "5f5a59e2-69dc-46b0-a483-2f27eb65b5d1",
   "metadata": {},
   "outputs": [
    {
     "data": {
      "text/plain": [
       "((242105, 1), (80702, 1), (242105,), (80702,))"
      ]
     },
     "execution_count": 9,
     "metadata": {},
     "output_type": "execute_result"
    }
   ],
   "source": [
    "X_train.shape, X_test.shape, y_train.shape, y_test.shape"
   ]
  },
  {
   "cell_type": "markdown",
   "id": "9243b36c-4728-44b2-b663-0e6d6bf462c0",
   "metadata": {},
   "source": [
    "#### With oversampling so minority class is 25% of majority class, would make minority class at 60,145 observations in training set - or 39x current observations\n",
    "\n",
    "#### With oversampling so minority is 10% of majority class, would make minority class at 24,058 observations in training set - or 16x current observations"
   ]
  },
  {
   "cell_type": "code",
   "execution_count": 10,
   "id": "81cb128a-fd62-4971-9666-477b24cada1f",
   "metadata": {},
   "outputs": [
    {
     "data": {
      "text/plain": [
       "(avg_score_below_5th_percentile\n",
       " 0    240580\n",
       " 1      1525\n",
       " Name: count, dtype: int64,\n",
       " avg_score_below_5th_percentile\n",
       " 0    80194\n",
       " 1      508\n",
       " Name: count, dtype: int64)"
      ]
     },
     "execution_count": 10,
     "metadata": {},
     "output_type": "execute_result"
    }
   ],
   "source": [
    "y_train.value_counts(), y_test.value_counts()"
   ]
  },
  {
   "cell_type": "code",
   "execution_count": 11,
   "id": "5f675b60-893c-458b-9df6-b6f93ac1e877",
   "metadata": {},
   "outputs": [
    {
     "data": {
      "text/html": [
       "<div>\n",
       "<style scoped>\n",
       "    .dataframe tbody tr th:only-of-type {\n",
       "        vertical-align: middle;\n",
       "    }\n",
       "\n",
       "    .dataframe tbody tr th {\n",
       "        vertical-align: top;\n",
       "    }\n",
       "\n",
       "    .dataframe thead th {\n",
       "        text-align: right;\n",
       "    }\n",
       "</style>\n",
       "<table border=\"1\" class=\"dataframe\">\n",
       "  <thead>\n",
       "    <tr style=\"text-align: right;\">\n",
       "      <th></th>\n",
       "      <th>comments_clean</th>\n",
       "    </tr>\n",
       "  </thead>\n",
       "  <tbody>\n",
       "    <tr>\n",
       "      <th>67125</th>\n",
       "      <td>our client michael stayed for one evening and ...</td>\n",
       "    </tr>\n",
       "    <tr>\n",
       "      <th>63788</th>\n",
       "      <td>just a wonderful experience all around locatio...</td>\n",
       "    </tr>\n",
       "    <tr>\n",
       "      <th>20242</th>\n",
       "      <td>this airbnb was beautiful it is really close t...</td>\n",
       "    </tr>\n",
       "    <tr>\n",
       "      <th>160237</th>\n",
       "      <td>great stay</td>\n",
       "    </tr>\n",
       "    <tr>\n",
       "      <th>247799</th>\n",
       "      <td>super easy check in and great location</td>\n",
       "    </tr>\n",
       "    <tr>\n",
       "      <th>...</th>\n",
       "      <td>...</td>\n",
       "    </tr>\n",
       "    <tr>\n",
       "      <th>178131</th>\n",
       "      <td>jen and john s place is perfect for both perso...</td>\n",
       "    </tr>\n",
       "    <tr>\n",
       "      <th>103396</th>\n",
       "      <td>ashley has done a great job of selling her pla...</td>\n",
       "    </tr>\n",
       "    <tr>\n",
       "      <th>150074</th>\n",
       "      <td>this is the nicest basement apt in dc we ve st...</td>\n",
       "    </tr>\n",
       "    <tr>\n",
       "      <th>304472</th>\n",
       "      <td>i booked a last minute trip to d c and was loo...</td>\n",
       "    </tr>\n",
       "    <tr>\n",
       "      <th>147754</th>\n",
       "      <td>i am a long term guest at stacy s he is a grea...</td>\n",
       "    </tr>\n",
       "  </tbody>\n",
       "</table>\n",
       "<p>242105 rows × 1 columns</p>\n",
       "</div>"
      ],
      "text/plain": [
       "                                           comments_clean\n",
       "67125   our client michael stayed for one evening and ...\n",
       "63788   just a wonderful experience all around locatio...\n",
       "20242   this airbnb was beautiful it is really close t...\n",
       "160237                                         great stay\n",
       "247799             super easy check in and great location\n",
       "...                                                   ...\n",
       "178131  jen and john s place is perfect for both perso...\n",
       "103396  ashley has done a great job of selling her pla...\n",
       "150074  this is the nicest basement apt in dc we ve st...\n",
       "304472  i booked a last minute trip to d c and was loo...\n",
       "147754  i am a long term guest at stacy s he is a grea...\n",
       "\n",
       "[242105 rows x 1 columns]"
      ]
     },
     "execution_count": 11,
     "metadata": {},
     "output_type": "execute_result"
    }
   ],
   "source": [
    "X_train"
   ]
  },
  {
   "cell_type": "code",
   "execution_count": 12,
   "id": "b63b8baf-5b44-4adb-9371-75ca1b634a13",
   "metadata": {
    "scrolled": true
   },
   "outputs": [
    {
     "data": {
      "text/plain": [
       "['i',\n",
       " 'me',\n",
       " 'my',\n",
       " 'myself',\n",
       " 'we',\n",
       " 'our',\n",
       " 'ours',\n",
       " 'ourselves',\n",
       " 'you',\n",
       " \"you're\",\n",
       " \"you've\",\n",
       " \"you'll\",\n",
       " \"you'd\",\n",
       " 'your',\n",
       " 'yours',\n",
       " 'yourself',\n",
       " 'yourselves',\n",
       " 'he',\n",
       " 'him',\n",
       " 'his',\n",
       " 'himself',\n",
       " 'she',\n",
       " \"she's\",\n",
       " 'her',\n",
       " 'hers',\n",
       " 'herself',\n",
       " 'it',\n",
       " \"it's\",\n",
       " 'its',\n",
       " 'itself',\n",
       " 'they',\n",
       " 'them',\n",
       " 'their',\n",
       " 'theirs',\n",
       " 'themselves',\n",
       " 'what',\n",
       " 'which',\n",
       " 'who',\n",
       " 'whom',\n",
       " 'this',\n",
       " 'that',\n",
       " \"that'll\",\n",
       " 'these',\n",
       " 'those',\n",
       " 'am',\n",
       " 'is',\n",
       " 'are',\n",
       " 'was',\n",
       " 'were',\n",
       " 'be',\n",
       " 'been',\n",
       " 'being',\n",
       " 'have',\n",
       " 'has',\n",
       " 'had',\n",
       " 'having',\n",
       " 'do',\n",
       " 'does',\n",
       " 'did',\n",
       " 'doing',\n",
       " 'a',\n",
       " 'an',\n",
       " 'the',\n",
       " 'and',\n",
       " 'but',\n",
       " 'if',\n",
       " 'or',\n",
       " 'because',\n",
       " 'as',\n",
       " 'until',\n",
       " 'while',\n",
       " 'of',\n",
       " 'at',\n",
       " 'by',\n",
       " 'for',\n",
       " 'with',\n",
       " 'about',\n",
       " 'against',\n",
       " 'between',\n",
       " 'into',\n",
       " 'through',\n",
       " 'during',\n",
       " 'before',\n",
       " 'after',\n",
       " 'above',\n",
       " 'below',\n",
       " 'to',\n",
       " 'from',\n",
       " 'up',\n",
       " 'down',\n",
       " 'in',\n",
       " 'out',\n",
       " 'on',\n",
       " 'off',\n",
       " 'over',\n",
       " 'under',\n",
       " 'again',\n",
       " 'further',\n",
       " 'then',\n",
       " 'once',\n",
       " 'here',\n",
       " 'there',\n",
       " 'when',\n",
       " 'where',\n",
       " 'why',\n",
       " 'how',\n",
       " 'all',\n",
       " 'any',\n",
       " 'both',\n",
       " 'each',\n",
       " 'few',\n",
       " 'more',\n",
       " 'most',\n",
       " 'other',\n",
       " 'some',\n",
       " 'such',\n",
       " 'no',\n",
       " 'nor',\n",
       " 'not',\n",
       " 'only',\n",
       " 'own',\n",
       " 'same',\n",
       " 'so',\n",
       " 'than',\n",
       " 'too',\n",
       " 'very',\n",
       " 's',\n",
       " 't',\n",
       " 'can',\n",
       " 'will',\n",
       " 'just',\n",
       " 'don',\n",
       " \"don't\",\n",
       " 'should',\n",
       " \"should've\",\n",
       " 'now',\n",
       " 'd',\n",
       " 'll',\n",
       " 'm',\n",
       " 'o',\n",
       " 're',\n",
       " 've',\n",
       " 'y',\n",
       " 'ain',\n",
       " 'aren',\n",
       " \"aren't\",\n",
       " 'couldn',\n",
       " \"couldn't\",\n",
       " 'didn',\n",
       " \"didn't\",\n",
       " 'doesn',\n",
       " \"doesn't\",\n",
       " 'hadn',\n",
       " \"hadn't\",\n",
       " 'hasn',\n",
       " \"hasn't\",\n",
       " 'haven',\n",
       " \"haven't\",\n",
       " 'isn',\n",
       " \"isn't\",\n",
       " 'ma',\n",
       " 'mightn',\n",
       " \"mightn't\",\n",
       " 'mustn',\n",
       " \"mustn't\",\n",
       " 'needn',\n",
       " \"needn't\",\n",
       " 'shan',\n",
       " \"shan't\",\n",
       " 'shouldn',\n",
       " \"shouldn't\",\n",
       " 'wasn',\n",
       " \"wasn't\",\n",
       " 'weren',\n",
       " \"weren't\",\n",
       " 'won',\n",
       " \"won't\",\n",
       " 'wouldn',\n",
       " \"wouldn't\"]"
      ]
     },
     "execution_count": 12,
     "metadata": {},
     "output_type": "execute_result"
    }
   ],
   "source": [
    "stop_words = stopwords.words('english')\n",
    "stop_words"
   ]
  },
  {
   "cell_type": "code",
   "execution_count": 13,
   "id": "d6c61282-36e3-47b7-914c-b4c08216f32a",
   "metadata": {},
   "outputs": [],
   "source": [
    "new_stop_words = ['jasmine', 'poor', 'bad', 'terrible', 'worst', 'didn', 'wasn']\n",
    "stop_words.append(new_stop_words)"
   ]
  },
  {
   "cell_type": "code",
   "execution_count": 14,
   "id": "2c421ec4-ffda-4c60-81ee-887018076de8",
   "metadata": {},
   "outputs": [],
   "source": [
    "added_stop_words = stop_words"
   ]
  },
  {
   "cell_type": "markdown",
   "id": "41c83f0f-5b02-4b59-b5cc-d3a8e946433e",
   "metadata": {},
   "source": [
    "#### Adding in Random Over Sampler into the GridSearch to see if instead of oversampling so the minority class is 1:1, having it at a lower ratio to reduce overfitting and false positives"
   ]
  },
  {
   "cell_type": "code",
   "execution_count": 15,
   "id": "4c118bda-6040-4046-aa61-ae6dc46e9ba8",
   "metadata": {},
   "outputs": [],
   "source": [
    "pipe = Pipeline([\n",
    "    ('tf', TfidfVectorizer() ),\n",
    "    ('ros', RandomOverSampler(random_state = 42) ), # Need to make Random OverSampler before the logistic regression, but after the \n",
    "    ('logr', LogisticRegression() ) # Removed class_weight = 'balanced' since class weights\n",
    "])"
   ]
  },
  {
   "cell_type": "markdown",
   "id": "bdff52f4-d674-439c-b5e4-002471c8bd4f",
   "metadata": {},
   "source": [
    "#### Ends up being 324 combinations to test (3 x 3 x 4 x 3 x 3) - plus 5 cross_val scores on each for 1,620 fits"
   ]
  },
  {
   "cell_type": "code",
   "execution_count": 16,
   "id": "3a8904a6-27ee-49a5-8ca3-9842f1b7027e",
   "metadata": {},
   "outputs": [],
   "source": [
    "pipe_params = {\n",
    "    'ros__sampling_strategy' : [0.1, 0.25],  # Kept oversampling so majority class still dominant so not training too much on repeated observations of the same data\n",
    "    'tf__stop_words' : ['english', 'added_stop_words'],\n",
    "    'tf__max_features' : [5_000, 10_000, 30_000],\n",
    "    'tf__min_df' : [50, 100],  # Higher minimums given the oversampling\n",
    "    'tf__ngram_range': [ (1,1), (1,2), (1,3) ]\n",
    "}"
   ]
  },
  {
   "cell_type": "markdown",
   "id": "46ca88b2-836a-4203-8882-75ec85362f2c",
   "metadata": {},
   "source": [
    "#### Added balanced accuracy to the Grid Search parameters"
   ]
  },
  {
   "cell_type": "code",
   "execution_count": 17,
   "id": "ada8a4de-bbc0-4cb2-a19d-a5c3cc7cc621",
   "metadata": {},
   "outputs": [],
   "source": [
    "gs = GridSearchCV(pipe, pipe_params, n_jobs = -1, verbose = 10,\n",
    "                 scoring = 'balanced_accuracy')"
   ]
  },
  {
   "cell_type": "code",
   "execution_count": 18,
   "id": "94018759-082d-4726-8500-b43ea817cab4",
   "metadata": {},
   "outputs": [
    {
     "name": "stdout",
     "output_type": "stream",
     "text": [
      "Fitting 5 folds for each of 72 candidates, totalling 360 fits\n"
     ]
    },
    {
     "name": "stderr",
     "output_type": "stream",
     "text": [
      "C:\\Users\\david\\anaconda3\\Lib\\site-packages\\sklearn\\model_selection\\_validation.py:378: FitFailedWarning: \n",
      "180 fits failed out of a total of 360.\n",
      "The score on these train-test partitions for these parameters will be set to nan.\n",
      "If these failures are not expected, you can try to debug them by setting error_score='raise'.\n",
      "\n",
      "Below are more details about the failures:\n",
      "--------------------------------------------------------------------------------\n",
      "180 fits failed with the following error:\n",
      "Traceback (most recent call last):\n",
      "  File \"C:\\Users\\david\\anaconda3\\Lib\\site-packages\\sklearn\\model_selection\\_validation.py\", line 686, in _fit_and_score\n",
      "    estimator.fit(X_train, y_train, **fit_params)\n",
      "  File \"C:\\Users\\david\\anaconda3\\Lib\\site-packages\\imblearn\\pipeline.py\", line 293, in fit\n",
      "    Xt, yt = self._fit(X, y, **fit_params_steps)\n",
      "             ^^^^^^^^^^^^^^^^^^^^^^^^^^^^^^^^^^^\n",
      "  File \"C:\\Users\\david\\anaconda3\\Lib\\site-packages\\imblearn\\pipeline.py\", line 240, in _fit\n",
      "    X, fitted_transformer = fit_transform_one_cached(\n",
      "                            ^^^^^^^^^^^^^^^^^^^^^^^^^\n",
      "  File \"C:\\Users\\david\\anaconda3\\Lib\\site-packages\\joblib\\memory.py\", line 349, in __call__\n",
      "    return self.func(*args, **kwargs)\n",
      "           ^^^^^^^^^^^^^^^^^^^^^^^^^^\n",
      "  File \"C:\\Users\\david\\anaconda3\\Lib\\site-packages\\sklearn\\pipeline.py\", line 893, in _fit_transform_one\n",
      "    res = transformer.fit_transform(X, y, **fit_params)\n",
      "          ^^^^^^^^^^^^^^^^^^^^^^^^^^^^^^^^^^^^^^^^^^^^^\n",
      "  File \"C:\\Users\\david\\anaconda3\\Lib\\site-packages\\sklearn\\feature_extraction\\text.py\", line 2133, in fit_transform\n",
      "    X = super().fit_transform(raw_documents)\n",
      "        ^^^^^^^^^^^^^^^^^^^^^^^^^^^^^^^^^^^^\n",
      "  File \"C:\\Users\\david\\anaconda3\\Lib\\site-packages\\sklearn\\feature_extraction\\text.py\", line 1369, in fit_transform\n",
      "    self._validate_params()\n",
      "  File \"C:\\Users\\david\\anaconda3\\Lib\\site-packages\\sklearn\\base.py\", line 600, in _validate_params\n",
      "    validate_parameter_constraints(\n",
      "  File \"C:\\Users\\david\\anaconda3\\Lib\\site-packages\\sklearn\\utils\\_param_validation.py\", line 97, in validate_parameter_constraints\n",
      "    raise InvalidParameterError(\n",
      "sklearn.utils._param_validation.InvalidParameterError: The 'stop_words' parameter of TfidfVectorizer must be a str among {'english'}, an instance of 'list' or None. Got 'added_stop_words' instead.\n",
      "\n",
      "  warnings.warn(some_fits_failed_message, FitFailedWarning)\n",
      "C:\\Users\\david\\anaconda3\\Lib\\site-packages\\sklearn\\model_selection\\_search.py:952: UserWarning: One or more of the test scores are non-finite: [0.55912421        nan 0.55515187        nan 0.55570161        nan\n",
      " 0.55921049        nan 0.55417034        nan 0.55535712        nan\n",
      " 0.55912421        nan 0.55958244        nan 0.55878538        nan\n",
      " 0.55921049        nan 0.55438699        nan 0.55182431        nan\n",
      " 0.55912421        nan 0.55567138        nan 0.55226019        nan\n",
      " 0.55921049        nan 0.55438699        nan 0.55182431        nan\n",
      " 0.61336192        nan 0.59946151        nan 0.60446009        nan\n",
      " 0.61196536        nan 0.60205952        nan 0.60378357        nan\n",
      " 0.61336192        nan 0.59420081        nan 0.59872655        nan\n",
      " 0.61196536        nan 0.59871577        nan 0.59842166        nan\n",
      " 0.61336192        nan 0.59440808        nan 0.58799095        nan\n",
      " 0.61196536        nan 0.59871577        nan 0.59842166        nan]\n",
      "  warnings.warn(\n",
      "C:\\Users\\david\\anaconda3\\Lib\\site-packages\\sklearn\\linear_model\\_logistic.py:458: ConvergenceWarning: lbfgs failed to converge (status=1):\n",
      "STOP: TOTAL NO. of ITERATIONS REACHED LIMIT.\n",
      "\n",
      "Increase the number of iterations (max_iter) or scale the data as shown in:\n",
      "    https://scikit-learn.org/stable/modules/preprocessing.html\n",
      "Please also refer to the documentation for alternative solver options:\n",
      "    https://scikit-learn.org/stable/modules/linear_model.html#logistic-regression\n",
      "  n_iter_i = _check_optimize_result(\n"
     ]
    },
    {
     "data": {
      "text/html": [
       "<style>#sk-container-id-1 {color: black;background-color: white;}#sk-container-id-1 pre{padding: 0;}#sk-container-id-1 div.sk-toggleable {background-color: white;}#sk-container-id-1 label.sk-toggleable__label {cursor: pointer;display: block;width: 100%;margin-bottom: 0;padding: 0.3em;box-sizing: border-box;text-align: center;}#sk-container-id-1 label.sk-toggleable__label-arrow:before {content: \"▸\";float: left;margin-right: 0.25em;color: #696969;}#sk-container-id-1 label.sk-toggleable__label-arrow:hover:before {color: black;}#sk-container-id-1 div.sk-estimator:hover label.sk-toggleable__label-arrow:before {color: black;}#sk-container-id-1 div.sk-toggleable__content {max-height: 0;max-width: 0;overflow: hidden;text-align: left;background-color: #f0f8ff;}#sk-container-id-1 div.sk-toggleable__content pre {margin: 0.2em;color: black;border-radius: 0.25em;background-color: #f0f8ff;}#sk-container-id-1 input.sk-toggleable__control:checked~div.sk-toggleable__content {max-height: 200px;max-width: 100%;overflow: auto;}#sk-container-id-1 input.sk-toggleable__control:checked~label.sk-toggleable__label-arrow:before {content: \"▾\";}#sk-container-id-1 div.sk-estimator input.sk-toggleable__control:checked~label.sk-toggleable__label {background-color: #d4ebff;}#sk-container-id-1 div.sk-label input.sk-toggleable__control:checked~label.sk-toggleable__label {background-color: #d4ebff;}#sk-container-id-1 input.sk-hidden--visually {border: 0;clip: rect(1px 1px 1px 1px);clip: rect(1px, 1px, 1px, 1px);height: 1px;margin: -1px;overflow: hidden;padding: 0;position: absolute;width: 1px;}#sk-container-id-1 div.sk-estimator {font-family: monospace;background-color: #f0f8ff;border: 1px dotted black;border-radius: 0.25em;box-sizing: border-box;margin-bottom: 0.5em;}#sk-container-id-1 div.sk-estimator:hover {background-color: #d4ebff;}#sk-container-id-1 div.sk-parallel-item::after {content: \"\";width: 100%;border-bottom: 1px solid gray;flex-grow: 1;}#sk-container-id-1 div.sk-label:hover label.sk-toggleable__label {background-color: #d4ebff;}#sk-container-id-1 div.sk-serial::before {content: \"\";position: absolute;border-left: 1px solid gray;box-sizing: border-box;top: 0;bottom: 0;left: 50%;z-index: 0;}#sk-container-id-1 div.sk-serial {display: flex;flex-direction: column;align-items: center;background-color: white;padding-right: 0.2em;padding-left: 0.2em;position: relative;}#sk-container-id-1 div.sk-item {position: relative;z-index: 1;}#sk-container-id-1 div.sk-parallel {display: flex;align-items: stretch;justify-content: center;background-color: white;position: relative;}#sk-container-id-1 div.sk-item::before, #sk-container-id-1 div.sk-parallel-item::before {content: \"\";position: absolute;border-left: 1px solid gray;box-sizing: border-box;top: 0;bottom: 0;left: 50%;z-index: -1;}#sk-container-id-1 div.sk-parallel-item {display: flex;flex-direction: column;z-index: 1;position: relative;background-color: white;}#sk-container-id-1 div.sk-parallel-item:first-child::after {align-self: flex-end;width: 50%;}#sk-container-id-1 div.sk-parallel-item:last-child::after {align-self: flex-start;width: 50%;}#sk-container-id-1 div.sk-parallel-item:only-child::after {width: 0;}#sk-container-id-1 div.sk-dashed-wrapped {border: 1px dashed gray;margin: 0 0.4em 0.5em 0.4em;box-sizing: border-box;padding-bottom: 0.4em;background-color: white;}#sk-container-id-1 div.sk-label label {font-family: monospace;font-weight: bold;display: inline-block;line-height: 1.2em;}#sk-container-id-1 div.sk-label-container {text-align: center;}#sk-container-id-1 div.sk-container {/* jupyter's `normalize.less` sets `[hidden] { display: none; }` but bootstrap.min.css set `[hidden] { display: none !important; }` so we also need the `!important` here to be able to override the default hidden behavior on the sphinx rendered scikit-learn.org. See: https://github.com/scikit-learn/scikit-learn/issues/21755 */display: inline-block !important;position: relative;}#sk-container-id-1 div.sk-text-repr-fallback {display: none;}</style><div id=\"sk-container-id-1\" class=\"sk-top-container\"><div class=\"sk-text-repr-fallback\"><pre>GridSearchCV(estimator=Pipeline(steps=[(&#x27;tf&#x27;, TfidfVectorizer()),\n",
       "                                       (&#x27;ros&#x27;,\n",
       "                                        RandomOverSampler(random_state=42)),\n",
       "                                       (&#x27;logr&#x27;, LogisticRegression())]),\n",
       "             n_jobs=-1,\n",
       "             param_grid={&#x27;ros__sampling_strategy&#x27;: [0.1, 0.25],\n",
       "                         &#x27;tf__max_features&#x27;: [5000, 10000, 30000],\n",
       "                         &#x27;tf__min_df&#x27;: [50, 100],\n",
       "                         &#x27;tf__ngram_range&#x27;: [(1, 1), (1, 2), (1, 3)],\n",
       "                         &#x27;tf__stop_words&#x27;: [&#x27;english&#x27;, &#x27;added_stop_words&#x27;]},\n",
       "             scoring=&#x27;balanced_accuracy&#x27;, verbose=10)</pre><b>In a Jupyter environment, please rerun this cell to show the HTML representation or trust the notebook. <br />On GitHub, the HTML representation is unable to render, please try loading this page with nbviewer.org.</b></div><div class=\"sk-container\" hidden><div class=\"sk-item sk-dashed-wrapped\"><div class=\"sk-label-container\"><div class=\"sk-label sk-toggleable\"><input class=\"sk-toggleable__control sk-hidden--visually\" id=\"sk-estimator-id-1\" type=\"checkbox\" ><label for=\"sk-estimator-id-1\" class=\"sk-toggleable__label sk-toggleable__label-arrow\">GridSearchCV</label><div class=\"sk-toggleable__content\"><pre>GridSearchCV(estimator=Pipeline(steps=[(&#x27;tf&#x27;, TfidfVectorizer()),\n",
       "                                       (&#x27;ros&#x27;,\n",
       "                                        RandomOverSampler(random_state=42)),\n",
       "                                       (&#x27;logr&#x27;, LogisticRegression())]),\n",
       "             n_jobs=-1,\n",
       "             param_grid={&#x27;ros__sampling_strategy&#x27;: [0.1, 0.25],\n",
       "                         &#x27;tf__max_features&#x27;: [5000, 10000, 30000],\n",
       "                         &#x27;tf__min_df&#x27;: [50, 100],\n",
       "                         &#x27;tf__ngram_range&#x27;: [(1, 1), (1, 2), (1, 3)],\n",
       "                         &#x27;tf__stop_words&#x27;: [&#x27;english&#x27;, &#x27;added_stop_words&#x27;]},\n",
       "             scoring=&#x27;balanced_accuracy&#x27;, verbose=10)</pre></div></div></div><div class=\"sk-parallel\"><div class=\"sk-parallel-item\"><div class=\"sk-item\"><div class=\"sk-label-container\"><div class=\"sk-label sk-toggleable\"><input class=\"sk-toggleable__control sk-hidden--visually\" id=\"sk-estimator-id-2\" type=\"checkbox\" ><label for=\"sk-estimator-id-2\" class=\"sk-toggleable__label sk-toggleable__label-arrow\">estimator: Pipeline</label><div class=\"sk-toggleable__content\"><pre>Pipeline(steps=[(&#x27;tf&#x27;, TfidfVectorizer()),\n",
       "                (&#x27;ros&#x27;, RandomOverSampler(random_state=42)),\n",
       "                (&#x27;logr&#x27;, LogisticRegression())])</pre></div></div></div><div class=\"sk-serial\"><div class=\"sk-item\"><div class=\"sk-serial\"><div class=\"sk-item\"><div class=\"sk-estimator sk-toggleable\"><input class=\"sk-toggleable__control sk-hidden--visually\" id=\"sk-estimator-id-3\" type=\"checkbox\" ><label for=\"sk-estimator-id-3\" class=\"sk-toggleable__label sk-toggleable__label-arrow\">TfidfVectorizer</label><div class=\"sk-toggleable__content\"><pre>TfidfVectorizer()</pre></div></div></div><div class=\"sk-item\"><div class=\"sk-estimator sk-toggleable\"><input class=\"sk-toggleable__control sk-hidden--visually\" id=\"sk-estimator-id-4\" type=\"checkbox\" ><label for=\"sk-estimator-id-4\" class=\"sk-toggleable__label sk-toggleable__label-arrow\">RandomOverSampler</label><div class=\"sk-toggleable__content\"><pre>RandomOverSampler(random_state=42)</pre></div></div></div><div class=\"sk-item\"><div class=\"sk-estimator sk-toggleable\"><input class=\"sk-toggleable__control sk-hidden--visually\" id=\"sk-estimator-id-5\" type=\"checkbox\" ><label for=\"sk-estimator-id-5\" class=\"sk-toggleable__label sk-toggleable__label-arrow\">LogisticRegression</label><div class=\"sk-toggleable__content\"><pre>LogisticRegression()</pre></div></div></div></div></div></div></div></div></div></div></div></div>"
      ],
      "text/plain": [
       "GridSearchCV(estimator=Pipeline(steps=[('tf', TfidfVectorizer()),\n",
       "                                       ('ros',\n",
       "                                        RandomOverSampler(random_state=42)),\n",
       "                                       ('logr', LogisticRegression())]),\n",
       "             n_jobs=-1,\n",
       "             param_grid={'ros__sampling_strategy': [0.1, 0.25],\n",
       "                         'tf__max_features': [5000, 10000, 30000],\n",
       "                         'tf__min_df': [50, 100],\n",
       "                         'tf__ngram_range': [(1, 1), (1, 2), (1, 3)],\n",
       "                         'tf__stop_words': ['english', 'added_stop_words']},\n",
       "             scoring='balanced_accuracy', verbose=10)"
      ]
     },
     "execution_count": 18,
     "metadata": {},
     "output_type": "execute_result"
    }
   ],
   "source": [
    "gs.fit(X_train['comments_clean'], y_train)"
   ]
  },
  {
   "cell_type": "markdown",
   "id": "f40e77c9-d447-4913-b8ef-c838d06198fb",
   "metadata": {},
   "source": [
    "#### Best Params are ROS os 0.25, Max Features of 5000, min_df of 50, n_gram of 1,1, English stop words"
   ]
  },
  {
   "cell_type": "code",
   "execution_count": 19,
   "id": "351822f5-9812-4968-8891-891fce00612c",
   "metadata": {},
   "outputs": [
    {
     "data": {
      "text/plain": [
       "{'ros__sampling_strategy': 0.25,\n",
       " 'tf__max_features': 5000,\n",
       " 'tf__min_df': 50,\n",
       " 'tf__ngram_range': (1, 1),\n",
       " 'tf__stop_words': 'english'}"
      ]
     },
     "execution_count": 19,
     "metadata": {},
     "output_type": "execute_result"
    }
   ],
   "source": [
    "gs.best_params_"
   ]
  },
  {
   "cell_type": "code",
   "execution_count": 20,
   "id": "4902cf51-9b72-405a-9787-859c60072858",
   "metadata": {},
   "outputs": [
    {
     "data": {
      "text/plain": [
       "0.6133619231665551"
      ]
     },
     "execution_count": 20,
     "metadata": {},
     "output_type": "execute_result"
    }
   ],
   "source": [
    "gs.best_score_"
   ]
  },
  {
   "cell_type": "code",
   "execution_count": 21,
   "id": "195fc846-b043-4768-885d-6d54eea3e2ad",
   "metadata": {},
   "outputs": [
    {
     "data": {
      "text/plain": [
       "(0.8219581843877297, 0.6074159189555879)"
      ]
     },
     "execution_count": 21,
     "metadata": {},
     "output_type": "execute_result"
    }
   ],
   "source": [
    "gs.score(X_train['comments_clean'], y_train), gs.score(X_test['comments_clean'], y_test)"
   ]
  },
  {
   "cell_type": "code",
   "execution_count": 22,
   "id": "1c54ec7d-b6b9-494d-8809-a202639da788",
   "metadata": {},
   "outputs": [
    {
     "data": {
      "image/png": "[encoded data removed]",
      "text/plain": [
       "<Figure size 640x480 with 2 Axes>"
      ]
     },
     "metadata": {},
     "output_type": "display_data"
    }
   ],
   "source": [
    "ConfusionMatrixDisplay.from_estimator(gs, X_test['comments_clean'], y_test,\n",
    "                                     display_labels = ['Rest', 'Rated < 5th %tile']);\n",
    "\n",
    "plt.title('Confusion Matrix using Balanced OverSampler')\n",
    "\n",
    "plt.tight_layout()\n",
    "\n",
    "plt.savefig('../images/09_random_oversample_confusion_matrix.png', dpi = 192);"
   ]
  },
  {
   "cell_type": "code",
   "execution_count": 23,
   "id": "079e961d-e359-4514-aae4-3c7ea7861292",
   "metadata": {},
   "outputs": [
    {
     "data": {
      "text/plain": [
       "0.25393700787401574"
      ]
     },
     "execution_count": 23,
     "metadata": {},
     "output_type": "execute_result"
    }
   ],
   "source": [
    "recall_score(y_test, gs.predict(X_test['comments_clean']) )"
   ]
  },
  {
   "cell_type": "code",
   "execution_count": 24,
   "id": "bdab6949-8188-40d0-8abb-fe0bb1bef935",
   "metadata": {},
   "outputs": [
    {
     "data": {
      "text/plain": [
       "0.06838059899284389"
      ]
     },
     "execution_count": 24,
     "metadata": {},
     "output_type": "execute_result"
    }
   ],
   "source": [
    "f1_score(y_test, gs.predict(X_test['comments_clean']) )"
   ]
  },
  {
   "cell_type": "code",
   "execution_count": 25,
   "id": "35045f45-ad09-4422-a5ca-5d6cf09ba4fd",
   "metadata": {},
   "outputs": [
    {
     "data": {
      "image/png": "[encoded data removed]",
      "text/plain": [
       "<Figure size 640x480 with 1 Axes>"
      ]
     },
     "metadata": {},
     "output_type": "display_data"
    }
   ],
   "source": [
    "RocCurveDisplay.from_estimator(gs, X_test['comments_clean'], y_test)\n",
    "\n",
    "plt.title('ROC Curve using Balanced OverSampler')\n",
    "\n",
    "plt.tight_layout()\n",
    "\n",
    "plt.savefig('../images/09_random_oversample_ROC_Curve.png', dpi = 192);"
   ]
  },
  {
   "cell_type": "code",
   "execution_count": 26,
   "id": "d99957de-c5b5-437f-a8e5-516295ab74cd",
   "metadata": {},
   "outputs": [
    {
     "data": {
      "text/html": [
       "<div>\n",
       "<style scoped>\n",
       "    .dataframe tbody tr th:only-of-type {\n",
       "        vertical-align: middle;\n",
       "    }\n",
       "\n",
       "    .dataframe tbody tr th {\n",
       "        vertical-align: top;\n",
       "    }\n",
       "\n",
       "    .dataframe thead th {\n",
       "        text-align: right;\n",
       "    }\n",
       "</style>\n",
       "<table border=\"1\" class=\"dataframe\">\n",
       "  <thead>\n",
       "    <tr style=\"text-align: right;\">\n",
       "      <th></th>\n",
       "      <th>above_5th_percentile</th>\n",
       "      <th>below_5th_percentile</th>\n",
       "    </tr>\n",
       "  </thead>\n",
       "  <tbody>\n",
       "    <tr>\n",
       "      <th>0</th>\n",
       "      <td>0.978993</td>\n",
       "      <td>0.021007</td>\n",
       "    </tr>\n",
       "    <tr>\n",
       "      <th>1</th>\n",
       "      <td>0.857627</td>\n",
       "      <td>0.142373</td>\n",
       "    </tr>\n",
       "    <tr>\n",
       "      <th>2</th>\n",
       "      <td>0.983575</td>\n",
       "      <td>0.016425</td>\n",
       "    </tr>\n",
       "    <tr>\n",
       "      <th>3</th>\n",
       "      <td>0.930988</td>\n",
       "      <td>0.069012</td>\n",
       "    </tr>\n",
       "    <tr>\n",
       "      <th>4</th>\n",
       "      <td>0.920744</td>\n",
       "      <td>0.079256</td>\n",
       "    </tr>\n",
       "    <tr>\n",
       "      <th>...</th>\n",
       "      <td>...</td>\n",
       "      <td>...</td>\n",
       "    </tr>\n",
       "    <tr>\n",
       "      <th>4956</th>\n",
       "      <td>0.933946</td>\n",
       "      <td>0.066054</td>\n",
       "    </tr>\n",
       "    <tr>\n",
       "      <th>4957</th>\n",
       "      <td>0.947779</td>\n",
       "      <td>0.052221</td>\n",
       "    </tr>\n",
       "    <tr>\n",
       "      <th>4958</th>\n",
       "      <td>0.953763</td>\n",
       "      <td>0.046237</td>\n",
       "    </tr>\n",
       "    <tr>\n",
       "      <th>4959</th>\n",
       "      <td>0.961313</td>\n",
       "      <td>0.038687</td>\n",
       "    </tr>\n",
       "    <tr>\n",
       "      <th>4960</th>\n",
       "      <td>0.952898</td>\n",
       "      <td>0.047102</td>\n",
       "    </tr>\n",
       "  </tbody>\n",
       "</table>\n",
       "<p>4961 rows × 2 columns</p>\n",
       "</div>"
      ],
      "text/plain": [
       "      above_5th_percentile  below_5th_percentile\n",
       "0                 0.978993              0.021007\n",
       "1                 0.857627              0.142373\n",
       "2                 0.983575              0.016425\n",
       "3                 0.930988              0.069012\n",
       "4                 0.920744              0.079256\n",
       "...                    ...                   ...\n",
       "4956              0.933946              0.066054\n",
       "4957              0.947779              0.052221\n",
       "4958              0.953763              0.046237\n",
       "4959              0.961313              0.038687\n",
       "4960              0.952898              0.047102\n",
       "\n",
       "[4961 rows x 2 columns]"
      ]
     },
     "execution_count": 26,
     "metadata": {},
     "output_type": "execute_result"
    }
   ],
   "source": [
    "prob_df = pd.DataFrame(gs.predict_proba(gs.best_estimator_.named_steps.tf.get_feature_names_out() ), columns = ['above_5th_percentile', 'below_5th_percentile'])\n",
    "prob_df"
   ]
  },
  {
   "cell_type": "code",
   "execution_count": 27,
   "id": "ec05e171-b853-41c1-9814-e1448ecb5030",
   "metadata": {},
   "outputs": [
    {
     "data": {
      "text/html": [
       "<div>\n",
       "<style scoped>\n",
       "    .dataframe tbody tr th:only-of-type {\n",
       "        vertical-align: middle;\n",
       "    }\n",
       "\n",
       "    .dataframe tbody tr th {\n",
       "        vertical-align: top;\n",
       "    }\n",
       "\n",
       "    .dataframe thead th {\n",
       "        text-align: right;\n",
       "    }\n",
       "</style>\n",
       "<table border=\"1\" class=\"dataframe\">\n",
       "  <thead>\n",
       "    <tr style=\"text-align: right;\">\n",
       "      <th></th>\n",
       "      <th>features</th>\n",
       "    </tr>\n",
       "  </thead>\n",
       "  <tbody>\n",
       "    <tr>\n",
       "      <th>0</th>\n",
       "      <td>00</td>\n",
       "    </tr>\n",
       "    <tr>\n",
       "      <th>1</th>\n",
       "      <td>10</td>\n",
       "    </tr>\n",
       "    <tr>\n",
       "      <th>2</th>\n",
       "      <td>100</td>\n",
       "    </tr>\n",
       "    <tr>\n",
       "      <th>3</th>\n",
       "      <td>1000</td>\n",
       "    </tr>\n",
       "    <tr>\n",
       "      <th>4</th>\n",
       "      <td>10min</td>\n",
       "    </tr>\n",
       "    <tr>\n",
       "      <th>...</th>\n",
       "      <td>...</td>\n",
       "    </tr>\n",
       "    <tr>\n",
       "      <th>4956</th>\n",
       "      <td>все</td>\n",
       "    </tr>\n",
       "    <tr>\n",
       "      <th>4957</th>\n",
       "      <td>очень</td>\n",
       "    </tr>\n",
       "    <tr>\n",
       "      <th>4958</th>\n",
       "      <td>깨끗하고</td>\n",
       "    </tr>\n",
       "    <tr>\n",
       "      <th>4959</th>\n",
       "      <td>너무</td>\n",
       "    </tr>\n",
       "    <tr>\n",
       "      <th>4960</th>\n",
       "      <td>좋았습니다</td>\n",
       "    </tr>\n",
       "  </tbody>\n",
       "</table>\n",
       "<p>4961 rows × 1 columns</p>\n",
       "</div>"
      ],
      "text/plain": [
       "     features\n",
       "0          00\n",
       "1          10\n",
       "2         100\n",
       "3        1000\n",
       "4       10min\n",
       "...       ...\n",
       "4956      все\n",
       "4957    очень\n",
       "4958     깨끗하고\n",
       "4959       너무\n",
       "4960    좋았습니다\n",
       "\n",
       "[4961 rows x 1 columns]"
      ]
     },
     "execution_count": 27,
     "metadata": {},
     "output_type": "execute_result"
    }
   ],
   "source": [
    "feature_words = pd.DataFrame( gs.best_estimator_.named_steps.tf.get_feature_names_out(), columns = ['features'])\n",
    "feature_words"
   ]
  },
  {
   "cell_type": "code",
   "execution_count": 28,
   "id": "d0d4640b-3612-4868-81f9-a5d4173cbdaf",
   "metadata": {},
   "outputs": [
    {
     "data": {
      "text/html": [
       "<div>\n",
       "<style scoped>\n",
       "    .dataframe tbody tr th:only-of-type {\n",
       "        vertical-align: middle;\n",
       "    }\n",
       "\n",
       "    .dataframe tbody tr th {\n",
       "        vertical-align: top;\n",
       "    }\n",
       "\n",
       "    .dataframe thead th {\n",
       "        text-align: right;\n",
       "    }\n",
       "</style>\n",
       "<table border=\"1\" class=\"dataframe\">\n",
       "  <thead>\n",
       "    <tr style=\"text-align: right;\">\n",
       "      <th></th>\n",
       "      <th>features</th>\n",
       "      <th>above_5th_percentile</th>\n",
       "      <th>below_5th_percentile</th>\n",
       "    </tr>\n",
       "  </thead>\n",
       "  <tbody>\n",
       "    <tr>\n",
       "      <th>2832</th>\n",
       "      <td>michael</td>\n",
       "      <td>0.999887</td>\n",
       "      <td>0.000113</td>\n",
       "    </tr>\n",
       "    <tr>\n",
       "      <th>1257</th>\n",
       "      <td>dennis</td>\n",
       "      <td>0.999872</td>\n",
       "      <td>0.000128</td>\n",
       "    </tr>\n",
       "    <tr>\n",
       "      <th>1874</th>\n",
       "      <td>gary</td>\n",
       "      <td>0.999862</td>\n",
       "      <td>0.000138</td>\n",
       "    </tr>\n",
       "    <tr>\n",
       "      <th>862</th>\n",
       "      <td>circle</td>\n",
       "      <td>0.999795</td>\n",
       "      <td>0.000205</td>\n",
       "    </tr>\n",
       "    <tr>\n",
       "      <th>1200</th>\n",
       "      <td>david</td>\n",
       "      <td>0.999672</td>\n",
       "      <td>0.000328</td>\n",
       "    </tr>\n",
       "    <tr>\n",
       "      <th>3601</th>\n",
       "      <td>recommendations</td>\n",
       "      <td>0.999635</td>\n",
       "      <td>0.000365</td>\n",
       "    </tr>\n",
       "    <tr>\n",
       "      <th>3206</th>\n",
       "      <td>pass</td>\n",
       "      <td>0.999549</td>\n",
       "      <td>0.000451</td>\n",
       "    </tr>\n",
       "    <tr>\n",
       "      <th>4482</th>\n",
       "      <td>touches</td>\n",
       "      <td>0.999348</td>\n",
       "      <td>0.000652</td>\n",
       "    </tr>\n",
       "    <tr>\n",
       "      <th>289</th>\n",
       "      <td>appartement</td>\n",
       "      <td>0.999345</td>\n",
       "      <td>0.000655</td>\n",
       "    </tr>\n",
       "    <tr>\n",
       "      <th>850</th>\n",
       "      <td>chris</td>\n",
       "      <td>0.999145</td>\n",
       "      <td>0.000855</td>\n",
       "    </tr>\n",
       "    <tr>\n",
       "      <th>936</th>\n",
       "      <td>comfort</td>\n",
       "      <td>0.999074</td>\n",
       "      <td>0.000926</td>\n",
       "    </tr>\n",
       "    <tr>\n",
       "      <th>3224</th>\n",
       "      <td>paul</td>\n",
       "      <td>0.998991</td>\n",
       "      <td>0.001009</td>\n",
       "    </tr>\n",
       "    <tr>\n",
       "      <th>2078</th>\n",
       "      <td>heather</td>\n",
       "      <td>0.998984</td>\n",
       "      <td>0.001016</td>\n",
       "    </tr>\n",
       "    <tr>\n",
       "      <th>3007</th>\n",
       "      <td>nicole</td>\n",
       "      <td>0.998876</td>\n",
       "      <td>0.001124</td>\n",
       "    </tr>\n",
       "    <tr>\n",
       "      <th>2845</th>\n",
       "      <td>mile</td>\n",
       "      <td>0.998801</td>\n",
       "      <td>0.001199</td>\n",
       "    </tr>\n",
       "    <tr>\n",
       "      <th>203</th>\n",
       "      <td>alley</td>\n",
       "      <td>0.998767</td>\n",
       "      <td>0.001233</td>\n",
       "    </tr>\n",
       "    <tr>\n",
       "      <th>2092</th>\n",
       "      <td>helped</td>\n",
       "      <td>0.998763</td>\n",
       "      <td>0.001237</td>\n",
       "    </tr>\n",
       "    <tr>\n",
       "      <th>3409</th>\n",
       "      <td>prepared</td>\n",
       "      <td>0.998615</td>\n",
       "      <td>0.001385</td>\n",
       "    </tr>\n",
       "    <tr>\n",
       "      <th>4416</th>\n",
       "      <td>thoughtful</td>\n",
       "      <td>0.998602</td>\n",
       "      <td>0.001398</td>\n",
       "    </tr>\n",
       "    <tr>\n",
       "      <th>4326</th>\n",
       "      <td>takes</td>\n",
       "      <td>0.998576</td>\n",
       "      <td>0.001424</td>\n",
       "    </tr>\n",
       "  </tbody>\n",
       "</table>\n",
       "</div>"
      ],
      "text/plain": [
       "             features  above_5th_percentile  below_5th_percentile\n",
       "2832          michael              0.999887              0.000113\n",
       "1257           dennis              0.999872              0.000128\n",
       "1874             gary              0.999862              0.000138\n",
       "862            circle              0.999795              0.000205\n",
       "1200            david              0.999672              0.000328\n",
       "3601  recommendations              0.999635              0.000365\n",
       "3206             pass              0.999549              0.000451\n",
       "4482          touches              0.999348              0.000652\n",
       "289       appartement              0.999345              0.000655\n",
       "850             chris              0.999145              0.000855\n",
       "936           comfort              0.999074              0.000926\n",
       "3224             paul              0.998991              0.001009\n",
       "2078          heather              0.998984              0.001016\n",
       "3007           nicole              0.998876              0.001124\n",
       "2845             mile              0.998801              0.001199\n",
       "203             alley              0.998767              0.001233\n",
       "2092           helped              0.998763              0.001237\n",
       "3409         prepared              0.998615              0.001385\n",
       "4416       thoughtful              0.998602              0.001398\n",
       "4326            takes              0.998576              0.001424"
      ]
     },
     "execution_count": 28,
     "metadata": {},
     "output_type": "execute_result"
    }
   ],
   "source": [
    "word_probs = feature_words.join(prob_df)\n",
    "word_probs.sort_values('above_5th_percentile', ascending = False).head(20)"
   ]
  },
  {
   "cell_type": "code",
   "execution_count": 29,
   "id": "58412edb-6db3-42cc-be8a-339678543a4f",
   "metadata": {},
   "outputs": [],
   "source": [
    "top_20_neg_predictors = word_probs.sort_values('below_5th_percentile', ascending = False).head(20)\n",
    "top_20_neg_predictors = top_20_neg_predictors.sort_values('below_5th_percentile', ascending = True)"
   ]
  },
  {
   "cell_type": "code",
   "execution_count": 30,
   "id": "52bd5271-793a-4846-bfd4-e685faaca855",
   "metadata": {},
   "outputs": [
    {
     "data": {
      "image/png": "[encoded data removed]",
      "text/plain": [
       "<Figure size 1400x700 with 1 Axes>"
      ]
     },
     "metadata": {},
     "output_type": "display_data"
    }
   ],
   "source": [
    "plt.figure(figsize = (14,7))\n",
    "\n",
    "plt.barh(top_20_neg_predictors['features'],\n",
    "        top_20_neg_predictors['below_5th_percentile'], color = 'red')\n",
    "\n",
    "plt.xlim(0.95, 1.0001)\n",
    "plt.xlabel('Probability of Being Poorly Rated', fontsize = 15)\n",
    "plt.ylabel('Word/Feature', fontsize = 15)\n",
    "\n",
    "plt.title('Features Most Likely to Predict Poorly Rated Listings in Balanced Oversample Model', fontsize = 20)\n",
    "\n",
    "plt.tight_layout()\n",
    "\n",
    "plt.savefig('../images/09_random_oversample_predicted_features.png', dpi = 192)"
   ]
  },
  {
   "cell_type": "code",
   "execution_count": 31,
   "id": "e76ca25f-40af-4174-96f7-fa54e82602e5",
   "metadata": {},
   "outputs": [
    {
     "data": {
      "text/html": [
       "<div>\n",
       "<style scoped>\n",
       "    .dataframe tbody tr th:only-of-type {\n",
       "        vertical-align: middle;\n",
       "    }\n",
       "\n",
       "    .dataframe tbody tr th {\n",
       "        vertical-align: top;\n",
       "    }\n",
       "\n",
       "    .dataframe thead th {\n",
       "        text-align: right;\n",
       "    }\n",
       "</style>\n",
       "<table border=\"1\" class=\"dataframe\">\n",
       "  <thead>\n",
       "    <tr style=\"text-align: right;\">\n",
       "      <th></th>\n",
       "      <th>avg_rating</th>\n",
       "      <th>avg_score_below_5th_percentile</th>\n",
       "      <th>comments_clean</th>\n",
       "    </tr>\n",
       "  </thead>\n",
       "  <tbody>\n",
       "    <tr>\n",
       "      <th>245182</th>\n",
       "      <td>3.342857</td>\n",
       "      <td>1</td>\n",
       "      <td>i stayed at this airbnb for about 1 month br pros fridge and microwave in your room the bus stop is close and will take you to the closest rail station br cons limited amenities although she advertised the washer and dryer she only allows you to use them 1 day a week she advertised wifi i shared with her that i needed good wifi due to work however when i got there her wifi did not work well wo...</td>\n",
       "    </tr>\n",
       "    <tr>\n",
       "      <th>319667</th>\n",
       "      <td>3.892857</td>\n",
       "      <td>1</td>\n",
       "      <td>i was really excited to try this place when i arrived to my room it s was filthy drugs and needles all over trash smelt like pee the atmosphere was very noisy and loud if i had know the location in advance i wouldn t have booked this area has a high homeless and drug population so i can only imagine who really rents this place br i reached out immediately i called several times and texted i ca...</td>\n",
       "    </tr>\n",
       "    <tr>\n",
       "      <th>292561</th>\n",
       "      <td>3.952857</td>\n",
       "      <td>1</td>\n",
       "      <td>great location if you are going to a nationals game rooftop area was only open from 5 to 10 so we could not enjoy it before or after the game room was very nice and clean the restaurant had staffing issues while we were there so it was only open for breakfast with one waitress</td>\n",
       "    </tr>\n",
       "    <tr>\n",
       "      <th>142704</th>\n",
       "      <td>4.054286</td>\n",
       "      <td>1</td>\n",
       "      <td>nice place good breakfast nice rooms everyone of the guest were nice and reapectful</td>\n",
       "    </tr>\n",
       "    <tr>\n",
       "      <th>72003</th>\n",
       "      <td>4.201429</td>\n",
       "      <td>1</td>\n",
       "      <td>as someone who stayed at this location for exactly 10 months i can provide the best description of this home and the host this was an absolute diamond in the a dirt field as a quick over night stay you won t have any regrets the hosts are very responsive the properly is clean and well kept and the other housemates are respectful and vetted as a long term stay 1 month or more this is the best s...</td>\n",
       "    </tr>\n",
       "    <tr>\n",
       "      <th>...</th>\n",
       "      <td>...</td>\n",
       "      <td>...</td>\n",
       "      <td>...</td>\n",
       "    </tr>\n",
       "    <tr>\n",
       "      <th>211961</th>\n",
       "      <td>5.000000</td>\n",
       "      <td>0</td>\n",
       "      <td>lucia was incredible so accommodating of my gluten intolerance when planning and making breakfast which was amazing by the way our room was really unique with original historic details location is kalorama cannot be beat</td>\n",
       "    </tr>\n",
       "    <tr>\n",
       "      <th>225878</th>\n",
       "      <td>5.000000</td>\n",
       "      <td>0</td>\n",
       "      <td>my stay at jonise s place was absolutely amazing she is by far the best airbnb host i have ever had after having a terrible airbnb experience the night before at another place she offered a prompt booking and allowed me to check in much earlier than her typical check in time jonise was very accommodating and she even provided a very well portioned breakfast daily during my stay if you are in t...</td>\n",
       "    </tr>\n",
       "    <tr>\n",
       "      <th>289472</th>\n",
       "      <td>5.000000</td>\n",
       "      <td>0</td>\n",
       "      <td>charming bed and breakfast located in a great location clean and very comfortable</td>\n",
       "    </tr>\n",
       "    <tr>\n",
       "      <th>321243</th>\n",
       "      <td>5.000000</td>\n",
       "      <td>0</td>\n",
       "      <td>we had a great stay with wolde and blaine they are quick to respond and very friendly and helpful with any questions we had their place is immaculate and had everything we needed the kitchen was great for making breakfast before we headed out for the day we especially appreciated all the places to plug in electronics both usb and usb c super helpful when everyone has multiple devices parking w...</td>\n",
       "    </tr>\n",
       "    <tr>\n",
       "      <th>322805</th>\n",
       "      <td>5.000000</td>\n",
       "      <td>0</td>\n",
       "      <td>we thoroughly enjoyed our stay here i came for an extended stay after work trip so i can explore dc with my partner and it was really nice to come back and relax here after long walks amy was super responsive and provided everything we needed and requested and more i was so excited to find unscented lotion after using overly scented lotion at the hotel and beer in the fridge the heaters provid...</td>\n",
       "    </tr>\n",
       "  </tbody>\n",
       "</table>\n",
       "<p>4927 rows × 3 columns</p>\n",
       "</div>"
      ],
      "text/plain": [
       "        avg_rating  avg_score_below_5th_percentile  \\\n",
       "245182    3.342857                               1   \n",
       "319667    3.892857                               1   \n",
       "292561    3.952857                               1   \n",
       "142704    4.054286                               1   \n",
       "72003     4.201429                               1   \n",
       "...            ...                             ...   \n",
       "211961    5.000000                               0   \n",
       "225878    5.000000                               0   \n",
       "289472    5.000000                               0   \n",
       "321243    5.000000                               0   \n",
       "322805    5.000000                               0   \n",
       "\n",
       "                                                                                                                                                                                                                                                                                                                                                                                                         comments_clean  \n",
       "245182  i stayed at this airbnb for about 1 month br pros fridge and microwave in your room the bus stop is close and will take you to the closest rail station br cons limited amenities although she advertised the washer and dryer she only allows you to use them 1 day a week she advertised wifi i shared with her that i needed good wifi due to work however when i got there her wifi did not work well wo...  \n",
       "319667  i was really excited to try this place when i arrived to my room it s was filthy drugs and needles all over trash smelt like pee the atmosphere was very noisy and loud if i had know the location in advance i wouldn t have booked this area has a high homeless and drug population so i can only imagine who really rents this place br i reached out immediately i called several times and texted i ca...  \n",
       "292561                                                                                                                            great location if you are going to a nationals game rooftop area was only open from 5 to 10 so we could not enjoy it before or after the game room was very nice and clean the restaurant had staffing issues while we were there so it was only open for breakfast with one waitress  \n",
       "142704                                                                                                                                                                                                                                                                                                                              nice place good breakfast nice rooms everyone of the guest were nice and reapectful  \n",
       "72003   as someone who stayed at this location for exactly 10 months i can provide the best description of this home and the host this was an absolute diamond in the a dirt field as a quick over night stay you won t have any regrets the hosts are very responsive the properly is clean and well kept and the other housemates are respectful and vetted as a long term stay 1 month or more this is the best s...  \n",
       "...                                                                                                                                                                                                                                                                                                                                                                                                                 ...  \n",
       "211961                                                                                                                                                                                     lucia was incredible so accommodating of my gluten intolerance when planning and making breakfast which was amazing by the way our room was really unique with original historic details location is kalorama cannot be beat  \n",
       "225878  my stay at jonise s place was absolutely amazing she is by far the best airbnb host i have ever had after having a terrible airbnb experience the night before at another place she offered a prompt booking and allowed me to check in much earlier than her typical check in time jonise was very accommodating and she even provided a very well portioned breakfast daily during my stay if you are in t...  \n",
       "289472                                                                                                                                                                                                                                                                                                                                charming bed and breakfast located in a great location clean and very comfortable  \n",
       "321243  we had a great stay with wolde and blaine they are quick to respond and very friendly and helpful with any questions we had their place is immaculate and had everything we needed the kitchen was great for making breakfast before we headed out for the day we especially appreciated all the places to plug in electronics both usb and usb c super helpful when everyone has multiple devices parking w...  \n",
       "322805  we thoroughly enjoyed our stay here i came for an extended stay after work trip so i can explore dc with my partner and it was really nice to come back and relax here after long walks amy was super responsive and provided everything we needed and requested and more i was so excited to find unscented lotion after using overly scented lotion at the hotel and beer in the fridge the heaters provid...  \n",
       "\n",
       "[4927 rows x 3 columns]"
      ]
     },
     "execution_count": 31,
     "metadata": {},
     "output_type": "execute_result"
    }
   ],
   "source": [
    "pd.set_option('display.max_colwidth', 400)\n",
    "df[['avg_rating', 'avg_score_below_5th_percentile', 'comments_clean']] [df['comments_clean'].str.contains('breakfast')].sort_values('avg_rating')"
   ]
  },
  {
   "cell_type": "code",
   "execution_count": null,
   "id": "ec2965f0-358a-4736-bd83-78a87694f656",
   "metadata": {},
   "outputs": [],
   "source": []
  }
 ],
 "metadata": {
  "kernelspec": {
   "display_name": "Python 3 (ipykernel)",
   "language": "python",
   "name": "python3"
  },
  "language_info": {
   "codemirror_mode": {
    "name": "ipython",
    "version": 3
   },
   "file_extension": ".py",
   "mimetype": "text/x-python",
   "name": "python",
   "nbconvert_exporter": "python",
   "pygments_lexer": "ipython3",
   "version": "3.11.7"
  }
 },
 "nbformat": 4,
 "nbformat_minor": 5
}
