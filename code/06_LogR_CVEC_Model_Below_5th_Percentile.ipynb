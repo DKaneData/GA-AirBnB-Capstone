{
 "cells": [
  {
   "cell_type": "code",
   "execution_count": 1,
   "id": "0769cc41-4f4b-43a3-a73b-8c4fe40de675",
   "metadata": {},
   "outputs": [],
   "source": [
    "import pandas as pd\n",
    "import numpy as np\n",
    "import matplotlib.pyplot as plt\n",
    "import seaborn as sns\n",
    "\n",
    "from nltk.tokenize import sent_tokenize, word_tokenize, RegexpTokenizer\n",
    "\n",
    "from sklearn.feature_extraction.text import TfidfVectorizer, CountVectorizer\n",
    "\n",
    "from sklearn.model_selection import train_test_split, GridSearchCV\n",
    "from sklearn.pipeline import Pipeline\n",
    "from sklearn.metrics import ConfusionMatrixDisplay, RocCurveDisplay, confusion_matrix, classification_report, recall_score, precision_score, f1_score\n",
    "\n",
    "from sklearn.linear_model import LogisticRegression"
   ]
  },
  {
   "cell_type": "code",
   "execution_count": 2,
   "id": "6c8a33a6-f10b-4321-9669-ccd0604f2740",
   "metadata": {},
   "outputs": [
    {
     "data": {
      "text/html": [
       "<div>\n",
       "<style scoped>\n",
       "    .dataframe tbody tr th:only-of-type {\n",
       "        vertical-align: middle;\n",
       "    }\n",
       "\n",
       "    .dataframe tbody tr th {\n",
       "        vertical-align: top;\n",
       "    }\n",
       "\n",
       "    .dataframe thead th {\n",
       "        text-align: right;\n",
       "    }\n",
       "</style>\n",
       "<table border=\"1\" class=\"dataframe\">\n",
       "  <thead>\n",
       "    <tr style=\"text-align: right;\">\n",
       "      <th></th>\n",
       "      <th>listing_id</th>\n",
       "      <th>id</th>\n",
       "      <th>date</th>\n",
       "      <th>reviewer_id</th>\n",
       "      <th>reviewer_name</th>\n",
       "      <th>comments</th>\n",
       "      <th>avg_rating</th>\n",
       "      <th>avg_score_below_4</th>\n",
       "      <th>avg_score_below_5th_percentile</th>\n",
       "      <th>comments_clean</th>\n",
       "    </tr>\n",
       "  </thead>\n",
       "  <tbody>\n",
       "    <tr>\n",
       "      <th>117463</th>\n",
       "      <td>18085124</td>\n",
       "      <td>855834637878032378</td>\n",
       "      <td>2023-03-26</td>\n",
       "      <td>41260542</td>\n",
       "      <td>Ben</td>\n",
       "      <td>Perfect DC crash pad</td>\n",
       "      <td>4.865714</td>\n",
       "      <td>0</td>\n",
       "      <td>0</td>\n",
       "      <td>perfect dc crash pad</td>\n",
       "    </tr>\n",
       "    <tr>\n",
       "      <th>292430</th>\n",
       "      <td>615337907263180411</td>\n",
       "      <td>805140345856447251</td>\n",
       "      <td>2023-01-15</td>\n",
       "      <td>134171139</td>\n",
       "      <td>Aras</td>\n",
       "      <td>Harrison's place is in a convenient location n...</td>\n",
       "      <td>4.950000</td>\n",
       "      <td>0</td>\n",
       "      <td>0</td>\n",
       "      <td>harrison s place is in a convenient location n...</td>\n",
       "    </tr>\n",
       "    <tr>\n",
       "      <th>51152</th>\n",
       "      <td>8309843</td>\n",
       "      <td>172705876</td>\n",
       "      <td>2017-07-21</td>\n",
       "      <td>10832856</td>\n",
       "      <td>Adriaan</td>\n",
       "      <td>Great Gen of a place!&lt;br/&gt;Walking distance fro...</td>\n",
       "      <td>4.927143</td>\n",
       "      <td>0</td>\n",
       "      <td>0</td>\n",
       "      <td>great gen of a place br walking distance from ...</td>\n",
       "    </tr>\n",
       "    <tr>\n",
       "      <th>59072</th>\n",
       "      <td>9854986</td>\n",
       "      <td>515847428</td>\n",
       "      <td>2019-08-23</td>\n",
       "      <td>12118169</td>\n",
       "      <td>Janice</td>\n",
       "      <td>Quiet, clean, convenient location to Capitol H...</td>\n",
       "      <td>4.921429</td>\n",
       "      <td>0</td>\n",
       "      <td>0</td>\n",
       "      <td>quiet clean convenient location to capitol hil...</td>\n",
       "    </tr>\n",
       "    <tr>\n",
       "      <th>175596</th>\n",
       "      <td>27400526</td>\n",
       "      <td>610977548</td>\n",
       "      <td>2020-02-25</td>\n",
       "      <td>330051190</td>\n",
       "      <td>Patty</td>\n",
       "      <td>Expect to be comfortable! &lt;br/&gt;Expect to have ...</td>\n",
       "      <td>4.928571</td>\n",
       "      <td>0</td>\n",
       "      <td>0</td>\n",
       "      <td>expect to be comfortable br expect to have a r...</td>\n",
       "    </tr>\n",
       "  </tbody>\n",
       "</table>\n",
       "</div>"
      ],
      "text/plain": [
       "                listing_id                  id        date  reviewer_id  \\\n",
       "117463            18085124  855834637878032378  2023-03-26     41260542   \n",
       "292430  615337907263180411  805140345856447251  2023-01-15    134171139   \n",
       "51152              8309843           172705876  2017-07-21     10832856   \n",
       "59072              9854986           515847428  2019-08-23     12118169   \n",
       "175596            27400526           610977548  2020-02-25    330051190   \n",
       "\n",
       "       reviewer_name                                           comments  \\\n",
       "117463           Ben                               Perfect DC crash pad   \n",
       "292430          Aras  Harrison's place is in a convenient location n...   \n",
       "51152        Adriaan  Great Gen of a place!<br/>Walking distance fro...   \n",
       "59072         Janice  Quiet, clean, convenient location to Capitol H...   \n",
       "175596         Patty  Expect to be comfortable! <br/>Expect to have ...   \n",
       "\n",
       "        avg_rating  avg_score_below_4  avg_score_below_5th_percentile  \\\n",
       "117463    4.865714                  0                               0   \n",
       "292430    4.950000                  0                               0   \n",
       "51152     4.927143                  0                               0   \n",
       "59072     4.921429                  0                               0   \n",
       "175596    4.928571                  0                               0   \n",
       "\n",
       "                                           comments_clean  \n",
       "117463                               perfect dc crash pad  \n",
       "292430  harrison s place is in a convenient location n...  \n",
       "51152   great gen of a place br walking distance from ...  \n",
       "59072   quiet clean convenient location to capitol hil...  \n",
       "175596  expect to be comfortable br expect to have a r...  "
      ]
     },
     "execution_count": 2,
     "metadata": {},
     "output_type": "execute_result"
    }
   ],
   "source": [
    "df = pd.read_csv('../data/reviews_with_ratings_cleaned.csv', index_col = 'Unnamed: 0', keep_default_na = False)\n",
    "df.sample(5)"
   ]
  },
  {
   "cell_type": "code",
   "execution_count": 3,
   "id": "e4e71a4b-cb70-4828-a222-a3937d261e2f",
   "metadata": {},
   "outputs": [
    {
     "data": {
      "text/plain": [
       "listing_id                        0\n",
       "id                                0\n",
       "date                              0\n",
       "reviewer_id                       0\n",
       "reviewer_name                     0\n",
       "comments                          0\n",
       "avg_rating                        0\n",
       "avg_score_below_4                 0\n",
       "avg_score_below_5th_percentile    0\n",
       "comments_clean                    0\n",
       "dtype: int64"
      ]
     },
     "execution_count": 3,
     "metadata": {},
     "output_type": "execute_result"
    }
   ],
   "source": [
    "df.isnull().sum()"
   ]
  },
  {
   "cell_type": "markdown",
   "id": "5841c0b6-73bf-41a6-9e97-41be8d37b515",
   "metadata": {},
   "source": [
    "#### Looking at below 5th percentile to see if I can improve the model"
   ]
  },
  {
   "cell_type": "code",
   "execution_count": 4,
   "id": "b0fb48aa-e3a9-4771-81fa-774e1a66a5a2",
   "metadata": {},
   "outputs": [
    {
     "name": "stdout",
     "output_type": "stream",
     "text": [
      "avg_score_below_5th_percentile\n",
      "0    320774\n",
      "1      2033\n",
      "Name: count, dtype: int64\n",
      "******************************\n"
     ]
    },
    {
     "data": {
      "text/plain": [
       "avg_score_below_5th_percentile\n",
       "0    0.993702\n",
       "1    0.006298\n",
       "Name: proportion, dtype: float64"
      ]
     },
     "execution_count": 4,
     "metadata": {},
     "output_type": "execute_result"
    }
   ],
   "source": [
    "print(df['avg_score_below_5th_percentile'].value_counts()),\n",
    "print('*'*30)\n",
    "df['avg_score_below_5th_percentile'].value_counts(normalize = True)"
   ]
  },
  {
   "cell_type": "code",
   "execution_count": 10,
   "id": "52e049c0-0b73-4a70-839a-b3619169aec4",
   "metadata": {},
   "outputs": [
    {
     "data": {
      "text/plain": [
       "(322807,)"
      ]
     },
     "execution_count": 10,
     "metadata": {},
     "output_type": "execute_result"
    }
   ],
   "source": [
    "X = df['comments_clean']\n",
    "X.shape"
   ]
  },
  {
   "cell_type": "code",
   "execution_count": 11,
   "id": "5f1941b3-709b-4532-a446-07b3cce33819",
   "metadata": {},
   "outputs": [],
   "source": [
    "y = df['avg_score_below_5th_percentile']"
   ]
  },
  {
   "cell_type": "code",
   "execution_count": 12,
   "id": "dfe199e2-b5f7-455f-bead-b418cec6ba79",
   "metadata": {},
   "outputs": [],
   "source": [
    "X_train, X_test, y_train, y_test = train_test_split(X, y, random_state = 42, stratify = y)"
   ]
  },
  {
   "cell_type": "markdown",
   "id": "6ebc8189-950f-46b1-b226-199dde071ac2",
   "metadata": {},
   "source": [
    "#### Using Count Vectorizer instead of TFIDF Vectorizer"
   ]
  },
  {
   "cell_type": "code",
   "execution_count": 13,
   "id": "a417b501-47c9-402e-b657-a188401e2f6d",
   "metadata": {},
   "outputs": [],
   "source": [
    "pipe_short = Pipeline([\n",
    "    ('cvec', CountVectorizer() ),\n",
    "    ('logr', LogisticRegression(class_weight = 'balanced') )\n",
    "])"
   ]
  },
  {
   "cell_type": "code",
   "execution_count": 14,
   "id": "a1c6b08a-74b4-4c2f-a264-8c0a18f3f36c",
   "metadata": {},
   "outputs": [],
   "source": [
    "pipe_params_short = {\n",
    "    'cvec__stop_words' : ['english'],\n",
    "    'cvec__max_features' : [30_000], \n",
    "    'cvec__min_df' : [10], # Minimum number of times a word needs to appear\n",
    "    'cvec__ngram_range' : [ (1,3) ]\n",
    "}"
   ]
  },
  {
   "cell_type": "code",
   "execution_count": 15,
   "id": "a6dda858-48d6-4aae-a612-be8a8a422162",
   "metadata": {},
   "outputs": [],
   "source": [
    "gs_short = GridSearchCV(pipe_short, pipe_params_short, n_jobs = -1, \n",
    "                  verbose = 10)"
   ]
  },
  {
   "cell_type": "code",
   "execution_count": 16,
   "id": "609a837f-7f1c-4761-a7ba-df2f19c1096c",
   "metadata": {},
   "outputs": [
    {
     "name": "stdout",
     "output_type": "stream",
     "text": [
      "Fitting 5 folds for each of 1 candidates, totalling 5 fits\n"
     ]
    },
    {
     "name": "stderr",
     "output_type": "stream",
     "text": [
      "C:\\Users\\david\\anaconda3\\Lib\\site-packages\\sklearn\\linear_model\\_logistic.py:458: ConvergenceWarning: lbfgs failed to converge (status=1):\n",
      "STOP: TOTAL NO. of ITERATIONS REACHED LIMIT.\n",
      "\n",
      "Increase the number of iterations (max_iter) or scale the data as shown in:\n",
      "    https://scikit-learn.org/stable/modules/preprocessing.html\n",
      "Please also refer to the documentation for alternative solver options:\n",
      "    https://scikit-learn.org/stable/modules/linear_model.html#logistic-regression\n",
      "  n_iter_i = _check_optimize_result(\n"
     ]
    },
    {
     "data": {
      "text/html": [
       "<style>#sk-container-id-1 {color: black;background-color: white;}#sk-container-id-1 pre{padding: 0;}#sk-container-id-1 div.sk-toggleable {background-color: white;}#sk-container-id-1 label.sk-toggleable__label {cursor: pointer;display: block;width: 100%;margin-bottom: 0;padding: 0.3em;box-sizing: border-box;text-align: center;}#sk-container-id-1 label.sk-toggleable__label-arrow:before {content: \"▸\";float: left;margin-right: 0.25em;color: #696969;}#sk-container-id-1 label.sk-toggleable__label-arrow:hover:before {color: black;}#sk-container-id-1 div.sk-estimator:hover label.sk-toggleable__label-arrow:before {color: black;}#sk-container-id-1 div.sk-toggleable__content {max-height: 0;max-width: 0;overflow: hidden;text-align: left;background-color: #f0f8ff;}#sk-container-id-1 div.sk-toggleable__content pre {margin: 0.2em;color: black;border-radius: 0.25em;background-color: #f0f8ff;}#sk-container-id-1 input.sk-toggleable__control:checked~div.sk-toggleable__content {max-height: 200px;max-width: 100%;overflow: auto;}#sk-container-id-1 input.sk-toggleable__control:checked~label.sk-toggleable__label-arrow:before {content: \"▾\";}#sk-container-id-1 div.sk-estimator input.sk-toggleable__control:checked~label.sk-toggleable__label {background-color: #d4ebff;}#sk-container-id-1 div.sk-label input.sk-toggleable__control:checked~label.sk-toggleable__label {background-color: #d4ebff;}#sk-container-id-1 input.sk-hidden--visually {border: 0;clip: rect(1px 1px 1px 1px);clip: rect(1px, 1px, 1px, 1px);height: 1px;margin: -1px;overflow: hidden;padding: 0;position: absolute;width: 1px;}#sk-container-id-1 div.sk-estimator {font-family: monospace;background-color: #f0f8ff;border: 1px dotted black;border-radius: 0.25em;box-sizing: border-box;margin-bottom: 0.5em;}#sk-container-id-1 div.sk-estimator:hover {background-color: #d4ebff;}#sk-container-id-1 div.sk-parallel-item::after {content: \"\";width: 100%;border-bottom: 1px solid gray;flex-grow: 1;}#sk-container-id-1 div.sk-label:hover label.sk-toggleable__label {background-color: #d4ebff;}#sk-container-id-1 div.sk-serial::before {content: \"\";position: absolute;border-left: 1px solid gray;box-sizing: border-box;top: 0;bottom: 0;left: 50%;z-index: 0;}#sk-container-id-1 div.sk-serial {display: flex;flex-direction: column;align-items: center;background-color: white;padding-right: 0.2em;padding-left: 0.2em;position: relative;}#sk-container-id-1 div.sk-item {position: relative;z-index: 1;}#sk-container-id-1 div.sk-parallel {display: flex;align-items: stretch;justify-content: center;background-color: white;position: relative;}#sk-container-id-1 div.sk-item::before, #sk-container-id-1 div.sk-parallel-item::before {content: \"\";position: absolute;border-left: 1px solid gray;box-sizing: border-box;top: 0;bottom: 0;left: 50%;z-index: -1;}#sk-container-id-1 div.sk-parallel-item {display: flex;flex-direction: column;z-index: 1;position: relative;background-color: white;}#sk-container-id-1 div.sk-parallel-item:first-child::after {align-self: flex-end;width: 50%;}#sk-container-id-1 div.sk-parallel-item:last-child::after {align-self: flex-start;width: 50%;}#sk-container-id-1 div.sk-parallel-item:only-child::after {width: 0;}#sk-container-id-1 div.sk-dashed-wrapped {border: 1px dashed gray;margin: 0 0.4em 0.5em 0.4em;box-sizing: border-box;padding-bottom: 0.4em;background-color: white;}#sk-container-id-1 div.sk-label label {font-family: monospace;font-weight: bold;display: inline-block;line-height: 1.2em;}#sk-container-id-1 div.sk-label-container {text-align: center;}#sk-container-id-1 div.sk-container {/* jupyter's `normalize.less` sets `[hidden] { display: none; }` but bootstrap.min.css set `[hidden] { display: none !important; }` so we also need the `!important` here to be able to override the default hidden behavior on the sphinx rendered scikit-learn.org. See: https://github.com/scikit-learn/scikit-learn/issues/21755 */display: inline-block !important;position: relative;}#sk-container-id-1 div.sk-text-repr-fallback {display: none;}</style><div id=\"sk-container-id-1\" class=\"sk-top-container\"><div class=\"sk-text-repr-fallback\"><pre>GridSearchCV(estimator=Pipeline(steps=[(&#x27;cvec&#x27;, CountVectorizer()),\n",
       "                                       (&#x27;logr&#x27;,\n",
       "                                        LogisticRegression(class_weight=&#x27;balanced&#x27;))]),\n",
       "             n_jobs=-1,\n",
       "             param_grid={&#x27;cvec__max_features&#x27;: [30000], &#x27;cvec__min_df&#x27;: [10],\n",
       "                         &#x27;cvec__ngram_range&#x27;: [(1, 3)],\n",
       "                         &#x27;cvec__stop_words&#x27;: [&#x27;english&#x27;]},\n",
       "             verbose=10)</pre><b>In a Jupyter environment, please rerun this cell to show the HTML representation or trust the notebook. <br />On GitHub, the HTML representation is unable to render, please try loading this page with nbviewer.org.</b></div><div class=\"sk-container\" hidden><div class=\"sk-item sk-dashed-wrapped\"><div class=\"sk-label-container\"><div class=\"sk-label sk-toggleable\"><input class=\"sk-toggleable__control sk-hidden--visually\" id=\"sk-estimator-id-1\" type=\"checkbox\" ><label for=\"sk-estimator-id-1\" class=\"sk-toggleable__label sk-toggleable__label-arrow\">GridSearchCV</label><div class=\"sk-toggleable__content\"><pre>GridSearchCV(estimator=Pipeline(steps=[(&#x27;cvec&#x27;, CountVectorizer()),\n",
       "                                       (&#x27;logr&#x27;,\n",
       "                                        LogisticRegression(class_weight=&#x27;balanced&#x27;))]),\n",
       "             n_jobs=-1,\n",
       "             param_grid={&#x27;cvec__max_features&#x27;: [30000], &#x27;cvec__min_df&#x27;: [10],\n",
       "                         &#x27;cvec__ngram_range&#x27;: [(1, 3)],\n",
       "                         &#x27;cvec__stop_words&#x27;: [&#x27;english&#x27;]},\n",
       "             verbose=10)</pre></div></div></div><div class=\"sk-parallel\"><div class=\"sk-parallel-item\"><div class=\"sk-item\"><div class=\"sk-label-container\"><div class=\"sk-label sk-toggleable\"><input class=\"sk-toggleable__control sk-hidden--visually\" id=\"sk-estimator-id-2\" type=\"checkbox\" ><label for=\"sk-estimator-id-2\" class=\"sk-toggleable__label sk-toggleable__label-arrow\">estimator: Pipeline</label><div class=\"sk-toggleable__content\"><pre>Pipeline(steps=[(&#x27;cvec&#x27;, CountVectorizer()),\n",
       "                (&#x27;logr&#x27;, LogisticRegression(class_weight=&#x27;balanced&#x27;))])</pre></div></div></div><div class=\"sk-serial\"><div class=\"sk-item\"><div class=\"sk-serial\"><div class=\"sk-item\"><div class=\"sk-estimator sk-toggleable\"><input class=\"sk-toggleable__control sk-hidden--visually\" id=\"sk-estimator-id-3\" type=\"checkbox\" ><label for=\"sk-estimator-id-3\" class=\"sk-toggleable__label sk-toggleable__label-arrow\">CountVectorizer</label><div class=\"sk-toggleable__content\"><pre>CountVectorizer()</pre></div></div></div><div class=\"sk-item\"><div class=\"sk-estimator sk-toggleable\"><input class=\"sk-toggleable__control sk-hidden--visually\" id=\"sk-estimator-id-4\" type=\"checkbox\" ><label for=\"sk-estimator-id-4\" class=\"sk-toggleable__label sk-toggleable__label-arrow\">LogisticRegression</label><div class=\"sk-toggleable__content\"><pre>LogisticRegression(class_weight=&#x27;balanced&#x27;)</pre></div></div></div></div></div></div></div></div></div></div></div></div>"
      ],
      "text/plain": [
       "GridSearchCV(estimator=Pipeline(steps=[('cvec', CountVectorizer()),\n",
       "                                       ('logr',\n",
       "                                        LogisticRegression(class_weight='balanced'))]),\n",
       "             n_jobs=-1,\n",
       "             param_grid={'cvec__max_features': [30000], 'cvec__min_df': [10],\n",
       "                         'cvec__ngram_range': [(1, 3)],\n",
       "                         'cvec__stop_words': ['english']},\n",
       "             verbose=10)"
      ]
     },
     "execution_count": 16,
     "metadata": {},
     "output_type": "execute_result"
    }
   ],
   "source": [
    "gs_short.fit(X_train, y_train)"
   ]
  },
  {
   "cell_type": "code",
   "execution_count": 18,
   "id": "395903f4-fa8b-4e71-93a2-814b4759de50",
   "metadata": {},
   "outputs": [
    {
     "data": {
      "text/plain": [
       "0.2421259842519685"
      ]
     },
     "execution_count": 18,
     "metadata": {},
     "output_type": "execute_result"
    }
   ],
   "source": [
    "recall_score(y_test, gs_short.predict(X_test))"
   ]
  },
  {
   "cell_type": "code",
   "execution_count": 19,
   "id": "a132e37e-8fb8-48d9-a6af-dd8b29f7d1da",
   "metadata": {},
   "outputs": [
    {
     "data": {
      "text/plain": [
       "0.04739884393063584"
      ]
     },
     "execution_count": 19,
     "metadata": {},
     "output_type": "execute_result"
    }
   ],
   "source": [
    "f1_score(y_test, gs_short.predict(X_test) )"
   ]
  },
  {
   "cell_type": "code",
   "execution_count": 20,
   "id": "c8bcd7dd-8d37-4a8f-8400-7f6c990d93db",
   "metadata": {},
   "outputs": [
    {
     "data": {
      "image/png": "[encoded data removed]",
      "text/plain": [
       "<Figure size 640x480 with 2 Axes>"
      ]
     },
     "metadata": {},
     "output_type": "display_data"
    }
   ],
   "source": [
    "ConfusionMatrixDisplay.from_estimator(gs_short, X_test, y_test);"
   ]
  },
  {
   "cell_type": "markdown",
   "id": "c33dbd9b-a56c-4223-a2ec-9669b8f84d78",
   "metadata": {},
   "source": [
    "#### Full Grid Search Parameters"
   ]
  },
  {
   "cell_type": "code",
   "execution_count": 13,
   "id": "15fb78f0-55b5-41b9-a053-10194ae08cc9",
   "metadata": {},
   "outputs": [],
   "source": [
    "pipe = Pipeline([\n",
    "    ('cvec', CountVectorizer() ),\n",
    "    ('logr', LogisticRegression(class_weight = 'balanced') )\n",
    "])"
   ]
  },
  {
   "cell_type": "code",
   "execution_count": 14,
   "id": "7d1b83a6-7a67-4296-b5f8-6273966ec5c3",
   "metadata": {},
   "outputs": [],
   "source": [
    "pipe_params = {\n",
    "    'cvec__stop_words' : ['english'],\n",
    "    'cvec__max_features' : [5_000, 10_000, 30_000], \n",
    "    'cvec__min_df' : [2 ,5, 10, 25], # Minimum number of times a word needs to appear\n",
    "    'cvec__ngram_range' : [ (1,1), (1,2), (1,3) ]\n",
    "}"
   ]
  },
  {
   "cell_type": "code",
   "execution_count": 15,
   "id": "e99b5a87-d9a6-4643-a828-68671d4dbcca",
   "metadata": {},
   "outputs": [],
   "source": [
    "gs = GridSearchCV(pipe, pipe_params, n_jobs = -1, \n",
    "                  verbose = 10)"
   ]
  },
  {
   "cell_type": "code",
   "execution_count": 16,
   "id": "14bcf5d9-a252-4b9b-b92a-b4c7cb7fc3d2",
   "metadata": {},
   "outputs": [
    {
     "name": "stdout",
     "output_type": "stream",
     "text": [
      "Fitting 5 folds for each of 36 candidates, totalling 180 fits\n"
     ]
    },
    {
     "name": "stderr",
     "output_type": "stream",
     "text": [
      "C:\\Users\\david\\anaconda3\\Lib\\site-packages\\sklearn\\linear_model\\_logistic.py:458: ConvergenceWarning: lbfgs failed to converge (status=1):\n",
      "STOP: TOTAL NO. of ITERATIONS REACHED LIMIT.\n",
      "\n",
      "Increase the number of iterations (max_iter) or scale the data as shown in:\n",
      "    https://scikit-learn.org/stable/modules/preprocessing.html\n",
      "Please also refer to the documentation for alternative solver options:\n",
      "    https://scikit-learn.org/stable/modules/linear_model.html#logistic-regression\n",
      "  n_iter_i = _check_optimize_result(\n"
     ]
    },
    {
     "data": {
      "text/html": [
       "<style>#sk-container-id-1 {color: black;background-color: white;}#sk-container-id-1 pre{padding: 0;}#sk-container-id-1 div.sk-toggleable {background-color: white;}#sk-container-id-1 label.sk-toggleable__label {cursor: pointer;display: block;width: 100%;margin-bottom: 0;padding: 0.3em;box-sizing: border-box;text-align: center;}#sk-container-id-1 label.sk-toggleable__label-arrow:before {content: \"▸\";float: left;margin-right: 0.25em;color: #696969;}#sk-container-id-1 label.sk-toggleable__label-arrow:hover:before {color: black;}#sk-container-id-1 div.sk-estimator:hover label.sk-toggleable__label-arrow:before {color: black;}#sk-container-id-1 div.sk-toggleable__content {max-height: 0;max-width: 0;overflow: hidden;text-align: left;background-color: #f0f8ff;}#sk-container-id-1 div.sk-toggleable__content pre {margin: 0.2em;color: black;border-radius: 0.25em;background-color: #f0f8ff;}#sk-container-id-1 input.sk-toggleable__control:checked~div.sk-toggleable__content {max-height: 200px;max-width: 100%;overflow: auto;}#sk-container-id-1 input.sk-toggleable__control:checked~label.sk-toggleable__label-arrow:before {content: \"▾\";}#sk-container-id-1 div.sk-estimator input.sk-toggleable__control:checked~label.sk-toggleable__label {background-color: #d4ebff;}#sk-container-id-1 div.sk-label input.sk-toggleable__control:checked~label.sk-toggleable__label {background-color: #d4ebff;}#sk-container-id-1 input.sk-hidden--visually {border: 0;clip: rect(1px 1px 1px 1px);clip: rect(1px, 1px, 1px, 1px);height: 1px;margin: -1px;overflow: hidden;padding: 0;position: absolute;width: 1px;}#sk-container-id-1 div.sk-estimator {font-family: monospace;background-color: #f0f8ff;border: 1px dotted black;border-radius: 0.25em;box-sizing: border-box;margin-bottom: 0.5em;}#sk-container-id-1 div.sk-estimator:hover {background-color: #d4ebff;}#sk-container-id-1 div.sk-parallel-item::after {content: \"\";width: 100%;border-bottom: 1px solid gray;flex-grow: 1;}#sk-container-id-1 div.sk-label:hover label.sk-toggleable__label {background-color: #d4ebff;}#sk-container-id-1 div.sk-serial::before {content: \"\";position: absolute;border-left: 1px solid gray;box-sizing: border-box;top: 0;bottom: 0;left: 50%;z-index: 0;}#sk-container-id-1 div.sk-serial {display: flex;flex-direction: column;align-items: center;background-color: white;padding-right: 0.2em;padding-left: 0.2em;position: relative;}#sk-container-id-1 div.sk-item {position: relative;z-index: 1;}#sk-container-id-1 div.sk-parallel {display: flex;align-items: stretch;justify-content: center;background-color: white;position: relative;}#sk-container-id-1 div.sk-item::before, #sk-container-id-1 div.sk-parallel-item::before {content: \"\";position: absolute;border-left: 1px solid gray;box-sizing: border-box;top: 0;bottom: 0;left: 50%;z-index: -1;}#sk-container-id-1 div.sk-parallel-item {display: flex;flex-direction: column;z-index: 1;position: relative;background-color: white;}#sk-container-id-1 div.sk-parallel-item:first-child::after {align-self: flex-end;width: 50%;}#sk-container-id-1 div.sk-parallel-item:last-child::after {align-self: flex-start;width: 50%;}#sk-container-id-1 div.sk-parallel-item:only-child::after {width: 0;}#sk-container-id-1 div.sk-dashed-wrapped {border: 1px dashed gray;margin: 0 0.4em 0.5em 0.4em;box-sizing: border-box;padding-bottom: 0.4em;background-color: white;}#sk-container-id-1 div.sk-label label {font-family: monospace;font-weight: bold;display: inline-block;line-height: 1.2em;}#sk-container-id-1 div.sk-label-container {text-align: center;}#sk-container-id-1 div.sk-container {/* jupyter's `normalize.less` sets `[hidden] { display: none; }` but bootstrap.min.css set `[hidden] { display: none !important; }` so we also need the `!important` here to be able to override the default hidden behavior on the sphinx rendered scikit-learn.org. See: https://github.com/scikit-learn/scikit-learn/issues/21755 */display: inline-block !important;position: relative;}#sk-container-id-1 div.sk-text-repr-fallback {display: none;}</style><div id=\"sk-container-id-1\" class=\"sk-top-container\"><div class=\"sk-text-repr-fallback\"><pre>GridSearchCV(estimator=Pipeline(steps=[(&#x27;cvec&#x27;, CountVectorizer()),\n",
       "                                       (&#x27;logr&#x27;,\n",
       "                                        LogisticRegression(class_weight=&#x27;balanced&#x27;))]),\n",
       "             n_jobs=-1,\n",
       "             param_grid={&#x27;cvec__max_features&#x27;: [5000, 10000, 30000],\n",
       "                         &#x27;cvec__min_df&#x27;: [2, 5, 10, 25],\n",
       "                         &#x27;cvec__ngram_range&#x27;: [(1, 1), (1, 2), (1, 3)],\n",
       "                         &#x27;cvec__stop_words&#x27;: [&#x27;english&#x27;]},\n",
       "             verbose=10)</pre><b>In a Jupyter environment, please rerun this cell to show the HTML representation or trust the notebook. <br />On GitHub, the HTML representation is unable to render, please try loading this page with nbviewer.org.</b></div><div class=\"sk-container\" hidden><div class=\"sk-item sk-dashed-wrapped\"><div class=\"sk-label-container\"><div class=\"sk-label sk-toggleable\"><input class=\"sk-toggleable__control sk-hidden--visually\" id=\"sk-estimator-id-1\" type=\"checkbox\" ><label for=\"sk-estimator-id-1\" class=\"sk-toggleable__label sk-toggleable__label-arrow\">GridSearchCV</label><div class=\"sk-toggleable__content\"><pre>GridSearchCV(estimator=Pipeline(steps=[(&#x27;cvec&#x27;, CountVectorizer()),\n",
       "                                       (&#x27;logr&#x27;,\n",
       "                                        LogisticRegression(class_weight=&#x27;balanced&#x27;))]),\n",
       "             n_jobs=-1,\n",
       "             param_grid={&#x27;cvec__max_features&#x27;: [5000, 10000, 30000],\n",
       "                         &#x27;cvec__min_df&#x27;: [2, 5, 10, 25],\n",
       "                         &#x27;cvec__ngram_range&#x27;: [(1, 1), (1, 2), (1, 3)],\n",
       "                         &#x27;cvec__stop_words&#x27;: [&#x27;english&#x27;]},\n",
       "             verbose=10)</pre></div></div></div><div class=\"sk-parallel\"><div class=\"sk-parallel-item\"><div class=\"sk-item\"><div class=\"sk-label-container\"><div class=\"sk-label sk-toggleable\"><input class=\"sk-toggleable__control sk-hidden--visually\" id=\"sk-estimator-id-2\" type=\"checkbox\" ><label for=\"sk-estimator-id-2\" class=\"sk-toggleable__label sk-toggleable__label-arrow\">estimator: Pipeline</label><div class=\"sk-toggleable__content\"><pre>Pipeline(steps=[(&#x27;cvec&#x27;, CountVectorizer()),\n",
       "                (&#x27;logr&#x27;, LogisticRegression(class_weight=&#x27;balanced&#x27;))])</pre></div></div></div><div class=\"sk-serial\"><div class=\"sk-item\"><div class=\"sk-serial\"><div class=\"sk-item\"><div class=\"sk-estimator sk-toggleable\"><input class=\"sk-toggleable__control sk-hidden--visually\" id=\"sk-estimator-id-3\" type=\"checkbox\" ><label for=\"sk-estimator-id-3\" class=\"sk-toggleable__label sk-toggleable__label-arrow\">CountVectorizer</label><div class=\"sk-toggleable__content\"><pre>CountVectorizer()</pre></div></div></div><div class=\"sk-item\"><div class=\"sk-estimator sk-toggleable\"><input class=\"sk-toggleable__control sk-hidden--visually\" id=\"sk-estimator-id-4\" type=\"checkbox\" ><label for=\"sk-estimator-id-4\" class=\"sk-toggleable__label sk-toggleable__label-arrow\">LogisticRegression</label><div class=\"sk-toggleable__content\"><pre>LogisticRegression(class_weight=&#x27;balanced&#x27;)</pre></div></div></div></div></div></div></div></div></div></div></div></div>"
      ],
      "text/plain": [
       "GridSearchCV(estimator=Pipeline(steps=[('cvec', CountVectorizer()),\n",
       "                                       ('logr',\n",
       "                                        LogisticRegression(class_weight='balanced'))]),\n",
       "             n_jobs=-1,\n",
       "             param_grid={'cvec__max_features': [5000, 10000, 30000],\n",
       "                         'cvec__min_df': [2, 5, 10, 25],\n",
       "                         'cvec__ngram_range': [(1, 1), (1, 2), (1, 3)],\n",
       "                         'cvec__stop_words': ['english']},\n",
       "             verbose=10)"
      ]
     },
     "execution_count": 16,
     "metadata": {},
     "output_type": "execute_result"
    }
   ],
   "source": [
    "gs.fit(X_train, y_train)"
   ]
  },
  {
   "cell_type": "markdown",
   "id": "c27b34b3-d1ed-457b-a011-9d61df5d9d82",
   "metadata": {},
   "source": [
    "#### Best Params - max_features is 30k, min_df is 10, n_gram range is (1,3)"
   ]
  },
  {
   "cell_type": "code",
   "execution_count": 12,
   "id": "ece599f1-0fb4-45c2-8f5c-73b5a7b08897",
   "metadata": {},
   "outputs": [
    {
     "data": {
      "text/plain": [
       "{'tf__max_features': 30000,\n",
       " 'tf__min_df': 10,\n",
       " 'tf__ngram_range': (1, 3),\n",
       " 'tf__stop_words': 'english'}"
      ]
     },
     "execution_count": 12,
     "metadata": {},
     "output_type": "execute_result"
    }
   ],
   "source": [
    "gs.best_params_"
   ]
  },
  {
   "cell_type": "code",
   "execution_count": 13,
   "id": "00f32944-44bc-4126-ab05-61b27841c24d",
   "metadata": {},
   "outputs": [
    {
     "data": {
      "text/plain": [
       "0.9346068854422669"
      ]
     },
     "execution_count": 13,
     "metadata": {},
     "output_type": "execute_result"
    }
   ],
   "source": [
    "gs.best_score_"
   ]
  },
  {
   "cell_type": "markdown",
   "id": "c6917934-f2d2-4704-af16-47f0c37ae362",
   "metadata": {},
   "source": [
    "#### Best score is "
   ]
  },
  {
   "cell_type": "code",
   "execution_count": 17,
   "id": "dc8827be-394e-458d-8d30-c1e3c2479b2f",
   "metadata": {},
   "outputs": [
    {
     "data": {
      "text/plain": [
       "-0.05435761993544208"
      ]
     },
     "execution_count": 17,
     "metadata": {},
     "output_type": "execute_result"
    }
   ],
   "source": [
    "gs.best_score_ - df['avg_score_below_5th_percentile'].value_counts(normalize = True)[0]"
   ]
  },
  {
   "cell_type": "code",
   "execution_count": 16,
   "id": "dff0b641-abef-4deb-9f31-3ab9861ee69e",
   "metadata": {},
   "outputs": [
    {
     "data": {
      "image/png": "[encoded data removed]",
      "text/plain": [
       "<Figure size 640x480 with 2 Axes>"
      ]
     },
     "metadata": {},
     "output_type": "display_data"
    }
   ],
   "source": [
    "ConfusionMatrixDisplay.from_estimator(gs, X_test, y_test);"
   ]
  },
  {
   "cell_type": "code",
   "execution_count": 20,
   "id": "f90a95c6-400c-41e8-952b-da5e4e146748",
   "metadata": {},
   "outputs": [
    {
     "data": {
      "text/plain": [
       "0.2421259842519685"
      ]
     },
     "execution_count": 20,
     "metadata": {},
     "output_type": "execute_result"
    }
   ],
   "source": [
    "recall_score(y_test, gs.predict(X_test))"
   ]
  },
  {
   "cell_type": "code",
   "execution_count": 22,
   "id": "8885ac00-c951-48e1-84ae-5714c13767be",
   "metadata": {},
   "outputs": [
    {
     "data": {
      "text/html": [
       "<div>\n",
       "<style scoped>\n",
       "    .dataframe tbody tr th:only-of-type {\n",
       "        vertical-align: middle;\n",
       "    }\n",
       "\n",
       "    .dataframe tbody tr th {\n",
       "        vertical-align: top;\n",
       "    }\n",
       "\n",
       "    .dataframe thead th {\n",
       "        text-align: right;\n",
       "    }\n",
       "</style>\n",
       "<table border=\"1\" class=\"dataframe\">\n",
       "  <thead>\n",
       "    <tr style=\"text-align: right;\">\n",
       "      <th></th>\n",
       "      <th>above_5th_percentile</th>\n",
       "      <th>below_5th_percentile</th>\n",
       "    </tr>\n",
       "  </thead>\n",
       "  <tbody>\n",
       "    <tr>\n",
       "      <th>0</th>\n",
       "      <td>0.653395</td>\n",
       "      <td>0.346605</td>\n",
       "    </tr>\n",
       "    <tr>\n",
       "      <th>1</th>\n",
       "      <td>0.604996</td>\n",
       "      <td>0.395004</td>\n",
       "    </tr>\n",
       "    <tr>\n",
       "      <th>2</th>\n",
       "      <td>0.346549</td>\n",
       "      <td>0.653451</td>\n",
       "    </tr>\n",
       "    <tr>\n",
       "      <th>3</th>\n",
       "      <td>0.486271</td>\n",
       "      <td>0.513729</td>\n",
       "    </tr>\n",
       "    <tr>\n",
       "      <th>4</th>\n",
       "      <td>0.322334</td>\n",
       "      <td>0.677666</td>\n",
       "    </tr>\n",
       "    <tr>\n",
       "      <th>...</th>\n",
       "      <td>...</td>\n",
       "      <td>...</td>\n",
       "    </tr>\n",
       "    <tr>\n",
       "      <th>29995</th>\n",
       "      <td>0.815211</td>\n",
       "      <td>0.184789</td>\n",
       "    </tr>\n",
       "    <tr>\n",
       "      <th>29996</th>\n",
       "      <td>0.093839</td>\n",
       "      <td>0.906161</td>\n",
       "    </tr>\n",
       "    <tr>\n",
       "      <th>29997</th>\n",
       "      <td>0.846194</td>\n",
       "      <td>0.153806</td>\n",
       "    </tr>\n",
       "    <tr>\n",
       "      <th>29998</th>\n",
       "      <td>0.833647</td>\n",
       "      <td>0.166353</td>\n",
       "    </tr>\n",
       "    <tr>\n",
       "      <th>29999</th>\n",
       "      <td>0.766538</td>\n",
       "      <td>0.233462</td>\n",
       "    </tr>\n",
       "  </tbody>\n",
       "</table>\n",
       "<p>30000 rows × 2 columns</p>\n",
       "</div>"
      ],
      "text/plain": [
       "       above_5th_percentile  below_5th_percentile\n",
       "0                  0.653395              0.346605\n",
       "1                  0.604996              0.395004\n",
       "2                  0.346549              0.653451\n",
       "3                  0.486271              0.513729\n",
       "4                  0.322334              0.677666\n",
       "...                     ...                   ...\n",
       "29995              0.815211              0.184789\n",
       "29996              0.093839              0.906161\n",
       "29997              0.846194              0.153806\n",
       "29998              0.833647              0.166353\n",
       "29999              0.766538              0.233462\n",
       "\n",
       "[30000 rows x 2 columns]"
      ]
     },
     "execution_count": 22,
     "metadata": {},
     "output_type": "execute_result"
    }
   ],
   "source": [
    "prob_df = pd.DataFrame(gs.predict_proba(gs.best_estimator_.named_steps.cvec.get_feature_names_out() ), columns = ['above_5th_percentile', 'below_5th_percentile'])\n",
    "prob_df"
   ]
  },
  {
   "cell_type": "code",
   "execution_count": 23,
   "id": "f3566248-4131-401e-8d50-13f7a49298a8",
   "metadata": {},
   "outputs": [
    {
     "data": {
      "text/html": [
       "<div>\n",
       "<style scoped>\n",
       "    .dataframe tbody tr th:only-of-type {\n",
       "        vertical-align: middle;\n",
       "    }\n",
       "\n",
       "    .dataframe tbody tr th {\n",
       "        vertical-align: top;\n",
       "    }\n",
       "\n",
       "    .dataframe thead th {\n",
       "        text-align: right;\n",
       "    }\n",
       "</style>\n",
       "<table border=\"1\" class=\"dataframe\">\n",
       "  <thead>\n",
       "    <tr style=\"text-align: right;\">\n",
       "      <th></th>\n",
       "      <th>features</th>\n",
       "    </tr>\n",
       "  </thead>\n",
       "  <tbody>\n",
       "    <tr>\n",
       "      <th>0</th>\n",
       "      <td>00</td>\n",
       "    </tr>\n",
       "    <tr>\n",
       "      <th>1</th>\n",
       "      <td>00 pm</td>\n",
       "    </tr>\n",
       "    <tr>\n",
       "      <th>2</th>\n",
       "      <td>000</td>\n",
       "    </tr>\n",
       "    <tr>\n",
       "      <th>3</th>\n",
       "      <td>00am</td>\n",
       "    </tr>\n",
       "    <tr>\n",
       "      <th>4</th>\n",
       "      <td>10</td>\n",
       "    </tr>\n",
       "    <tr>\n",
       "      <th>...</th>\n",
       "      <td>...</td>\n",
       "    </tr>\n",
       "    <tr>\n",
       "      <th>29995</th>\n",
       "      <td>있어서</td>\n",
       "    </tr>\n",
       "    <tr>\n",
       "      <th>29996</th>\n",
       "      <td>있었습니다</td>\n",
       "    </tr>\n",
       "    <tr>\n",
       "      <th>29997</th>\n",
       "      <td>정말</td>\n",
       "    </tr>\n",
       "    <tr>\n",
       "      <th>29998</th>\n",
       "      <td>좋았습니다</td>\n",
       "    </tr>\n",
       "    <tr>\n",
       "      <th>29999</th>\n",
       "      <td>좋은</td>\n",
       "    </tr>\n",
       "  </tbody>\n",
       "</table>\n",
       "<p>30000 rows × 1 columns</p>\n",
       "</div>"
      ],
      "text/plain": [
       "      features\n",
       "0           00\n",
       "1        00 pm\n",
       "2          000\n",
       "3         00am\n",
       "4           10\n",
       "...        ...\n",
       "29995      있어서\n",
       "29996    있었습니다\n",
       "29997       정말\n",
       "29998    좋았습니다\n",
       "29999       좋은\n",
       "\n",
       "[30000 rows x 1 columns]"
      ]
     },
     "execution_count": 23,
     "metadata": {},
     "output_type": "execute_result"
    }
   ],
   "source": [
    "feature_words = pd.DataFrame( gs.best_estimator_.named_steps.cvec.get_feature_names_out(), columns = ['features'])\n",
    "feature_words"
   ]
  },
  {
   "cell_type": "code",
   "execution_count": 26,
   "id": "b82029b0-0e73-4ac8-a0f8-752cb20b699a",
   "metadata": {},
   "outputs": [
    {
     "data": {
      "text/html": [
       "<div>\n",
       "<style scoped>\n",
       "    .dataframe tbody tr th:only-of-type {\n",
       "        vertical-align: middle;\n",
       "    }\n",
       "\n",
       "    .dataframe tbody tr th {\n",
       "        vertical-align: top;\n",
       "    }\n",
       "\n",
       "    .dataframe thead th {\n",
       "        text-align: right;\n",
       "    }\n",
       "</style>\n",
       "<table border=\"1\" class=\"dataframe\">\n",
       "  <thead>\n",
       "    <tr style=\"text-align: right;\">\n",
       "      <th></th>\n",
       "      <th>features</th>\n",
       "      <th>above_5th_percentile</th>\n",
       "      <th>below_5th_percentile</th>\n",
       "    </tr>\n",
       "  </thead>\n",
       "  <tbody>\n",
       "    <tr>\n",
       "      <th>13958</th>\n",
       "      <td>jasmine</td>\n",
       "      <td>0.000307</td>\n",
       "      <td>0.999693</td>\n",
       "    </tr>\n",
       "    <tr>\n",
       "      <th>7409</th>\n",
       "      <td>dee</td>\n",
       "      <td>0.000972</td>\n",
       "      <td>0.999028</td>\n",
       "    </tr>\n",
       "    <tr>\n",
       "      <th>29921</th>\n",
       "      <td>yousong</td>\n",
       "      <td>0.001925</td>\n",
       "      <td>0.998075</td>\n",
       "    </tr>\n",
       "    <tr>\n",
       "      <th>27507</th>\n",
       "      <td>todd</td>\n",
       "      <td>0.002918</td>\n",
       "      <td>0.997082</td>\n",
       "    </tr>\n",
       "    <tr>\n",
       "      <th>21266</th>\n",
       "      <td>potomac river</td>\n",
       "      <td>0.003293</td>\n",
       "      <td>0.996707</td>\n",
       "    </tr>\n",
       "    <tr>\n",
       "      <th>6170</th>\n",
       "      <td>concierge</td>\n",
       "      <td>0.005412</td>\n",
       "      <td>0.994588</td>\n",
       "    </tr>\n",
       "    <tr>\n",
       "      <th>24209</th>\n",
       "      <td>short long term</td>\n",
       "      <td>0.005421</td>\n",
       "      <td>0.994579</td>\n",
       "    </tr>\n",
       "    <tr>\n",
       "      <th>7325</th>\n",
       "      <td>deal great</td>\n",
       "      <td>0.005999</td>\n",
       "      <td>0.994001</td>\n",
       "    </tr>\n",
       "    <tr>\n",
       "      <th>14097</th>\n",
       "      <td>juanita</td>\n",
       "      <td>0.007079</td>\n",
       "      <td>0.992921</td>\n",
       "    </tr>\n",
       "    <tr>\n",
       "      <th>27955</th>\n",
       "      <td>trip thanks</td>\n",
       "      <td>0.007218</td>\n",
       "      <td>0.992782</td>\n",
       "    </tr>\n",
       "    <tr>\n",
       "      <th>28089</th>\n",
       "      <td>tyler</td>\n",
       "      <td>0.007813</td>\n",
       "      <td>0.992187</td>\n",
       "    </tr>\n",
       "    <tr>\n",
       "      <th>7766</th>\n",
       "      <td>did issues</td>\n",
       "      <td>0.007815</td>\n",
       "      <td>0.992185</td>\n",
       "    </tr>\n",
       "    <tr>\n",
       "      <th>24161</th>\n",
       "      <td>shops grocery stores</td>\n",
       "      <td>0.008922</td>\n",
       "      <td>0.991078</td>\n",
       "    </tr>\n",
       "    <tr>\n",
       "      <th>11198</th>\n",
       "      <td>great breakfast</td>\n",
       "      <td>0.009744</td>\n",
       "      <td>0.990256</td>\n",
       "    </tr>\n",
       "    <tr>\n",
       "      <th>22219</th>\n",
       "      <td>readily available answer</td>\n",
       "      <td>0.010914</td>\n",
       "      <td>0.989086</td>\n",
       "    </tr>\n",
       "    <tr>\n",
       "      <th>25308</th>\n",
       "      <td>star review</td>\n",
       "      <td>0.011171</td>\n",
       "      <td>0.988829</td>\n",
       "    </tr>\n",
       "    <tr>\n",
       "      <th>134</th>\n",
       "      <td>20 min drive</td>\n",
       "      <td>0.011344</td>\n",
       "      <td>0.988656</td>\n",
       "    </tr>\n",
       "    <tr>\n",
       "      <th>19385</th>\n",
       "      <td>pans dishes</td>\n",
       "      <td>0.011404</td>\n",
       "      <td>0.988596</td>\n",
       "    </tr>\n",
       "    <tr>\n",
       "      <th>13542</th>\n",
       "      <td>humble</td>\n",
       "      <td>0.011416</td>\n",
       "      <td>0.988584</td>\n",
       "    </tr>\n",
       "    <tr>\n",
       "      <th>22003</th>\n",
       "      <td>quiet comfy</td>\n",
       "      <td>0.011720</td>\n",
       "      <td>0.988280</td>\n",
       "    </tr>\n",
       "  </tbody>\n",
       "</table>\n",
       "</div>"
      ],
      "text/plain": [
       "                       features  above_5th_percentile  below_5th_percentile\n",
       "13958                   jasmine              0.000307              0.999693\n",
       "7409                        dee              0.000972              0.999028\n",
       "29921                   yousong              0.001925              0.998075\n",
       "27507                      todd              0.002918              0.997082\n",
       "21266             potomac river              0.003293              0.996707\n",
       "6170                  concierge              0.005412              0.994588\n",
       "24209           short long term              0.005421              0.994579\n",
       "7325                 deal great              0.005999              0.994001\n",
       "14097                   juanita              0.007079              0.992921\n",
       "27955               trip thanks              0.007218              0.992782\n",
       "28089                     tyler              0.007813              0.992187\n",
       "7766                 did issues              0.007815              0.992185\n",
       "24161      shops grocery stores              0.008922              0.991078\n",
       "11198           great breakfast              0.009744              0.990256\n",
       "22219  readily available answer              0.010914              0.989086\n",
       "25308               star review              0.011171              0.988829\n",
       "134                20 min drive              0.011344              0.988656\n",
       "19385               pans dishes              0.011404              0.988596\n",
       "13542                    humble              0.011416              0.988584\n",
       "22003               quiet comfy              0.011720              0.988280"
      ]
     },
     "execution_count": 26,
     "metadata": {},
     "output_type": "execute_result"
    }
   ],
   "source": [
    "word_probs = feature_words.join(prob_df)\n",
    "word_probs.sort_values('below_5th_percentile', ascending = False).head(20)"
   ]
  },
  {
   "cell_type": "code",
   "execution_count": 27,
   "id": "9318f5de-3773-4953-8781-c99293944433",
   "metadata": {},
   "outputs": [
    {
     "data": {
      "text/html": [
       "<div>\n",
       "<style scoped>\n",
       "    .dataframe tbody tr th:only-of-type {\n",
       "        vertical-align: middle;\n",
       "    }\n",
       "\n",
       "    .dataframe tbody tr th {\n",
       "        vertical-align: top;\n",
       "    }\n",
       "\n",
       "    .dataframe thead th {\n",
       "        text-align: right;\n",
       "    }\n",
       "</style>\n",
       "<table border=\"1\" class=\"dataframe\">\n",
       "  <thead>\n",
       "    <tr style=\"text-align: right;\">\n",
       "      <th></th>\n",
       "      <th>features</th>\n",
       "      <th>above_5th_percentile</th>\n",
       "      <th>below_5th_percentile</th>\n",
       "    </tr>\n",
       "  </thead>\n",
       "  <tbody>\n",
       "    <tr>\n",
       "      <th>16398</th>\n",
       "      <td>loved stay apartment</td>\n",
       "      <td>0.998893</td>\n",
       "      <td>0.001107</td>\n",
       "    </tr>\n",
       "    <tr>\n",
       "      <th>988</th>\n",
       "      <td>amazing location perfect</td>\n",
       "      <td>0.998793</td>\n",
       "      <td>0.001207</td>\n",
       "    </tr>\n",
       "    <tr>\n",
       "      <th>29713</th>\n",
       "      <td>wonderful location clean</td>\n",
       "      <td>0.998663</td>\n",
       "      <td>0.001337</td>\n",
       "    </tr>\n",
       "    <tr>\n",
       "      <th>20592</th>\n",
       "      <td>place just perfect</td>\n",
       "      <td>0.998638</td>\n",
       "      <td>0.001362</td>\n",
       "    </tr>\n",
       "    <tr>\n",
       "      <th>6949</th>\n",
       "      <td>david place perfect</td>\n",
       "      <td>0.998420</td>\n",
       "      <td>0.001580</td>\n",
       "    </tr>\n",
       "    <tr>\n",
       "      <th>26656</th>\n",
       "      <td>super clean convenient</td>\n",
       "      <td>0.998409</td>\n",
       "      <td>0.001591</td>\n",
       "    </tr>\n",
       "    <tr>\n",
       "      <th>16400</th>\n",
       "      <td>loved stay dc</td>\n",
       "      <td>0.998329</td>\n",
       "      <td>0.001671</td>\n",
       "    </tr>\n",
       "    <tr>\n",
       "      <th>29714</th>\n",
       "      <td>wonderful location close</td>\n",
       "      <td>0.998255</td>\n",
       "      <td>0.001745</td>\n",
       "    </tr>\n",
       "    <tr>\n",
       "      <th>27280</th>\n",
       "      <td>thoughtful touches make</td>\n",
       "      <td>0.998225</td>\n",
       "      <td>0.001775</td>\n",
       "    </tr>\n",
       "    <tr>\n",
       "      <th>26669</th>\n",
       "      <td>super clean perfect</td>\n",
       "      <td>0.998124</td>\n",
       "      <td>0.001876</td>\n",
       "    </tr>\n",
       "    <tr>\n",
       "      <th>23736</th>\n",
       "      <td>safe neighborhood close</td>\n",
       "      <td>0.997933</td>\n",
       "      <td>0.002067</td>\n",
       "    </tr>\n",
       "    <tr>\n",
       "      <th>983</th>\n",
       "      <td>amazing location clean</td>\n",
       "      <td>0.997905</td>\n",
       "      <td>0.002095</td>\n",
       "    </tr>\n",
       "    <tr>\n",
       "      <th>17335</th>\n",
       "      <td>michael wonderful host</td>\n",
       "      <td>0.997681</td>\n",
       "      <td>0.002319</td>\n",
       "    </tr>\n",
       "    <tr>\n",
       "      <th>16399</th>\n",
       "      <td>loved stay clean</td>\n",
       "      <td>0.997598</td>\n",
       "      <td>0.002402</td>\n",
       "    </tr>\n",
       "    <tr>\n",
       "      <th>989</th>\n",
       "      <td>amazing location super</td>\n",
       "      <td>0.997469</td>\n",
       "      <td>0.002531</td>\n",
       "    </tr>\n",
       "    <tr>\n",
       "      <th>27277</th>\n",
       "      <td>thoughtful touches apartment</td>\n",
       "      <td>0.997469</td>\n",
       "      <td>0.002531</td>\n",
       "    </tr>\n",
       "    <tr>\n",
       "      <th>4872</th>\n",
       "      <td>clean convenient comfortable</td>\n",
       "      <td>0.997457</td>\n",
       "      <td>0.002543</td>\n",
       "    </tr>\n",
       "    <tr>\n",
       "      <th>16403</th>\n",
       "      <td>loved stay highly</td>\n",
       "      <td>0.997444</td>\n",
       "      <td>0.002556</td>\n",
       "    </tr>\n",
       "    <tr>\n",
       "      <th>1562</th>\n",
       "      <td>apartment wonderful location</td>\n",
       "      <td>0.997330</td>\n",
       "      <td>0.002670</td>\n",
       "    </tr>\n",
       "    <tr>\n",
       "      <th>20256</th>\n",
       "      <td>place amazing location</td>\n",
       "      <td>0.997323</td>\n",
       "      <td>0.002677</td>\n",
       "    </tr>\n",
       "  </tbody>\n",
       "</table>\n",
       "</div>"
      ],
      "text/plain": [
       "                           features  above_5th_percentile  \\\n",
       "16398          loved stay apartment              0.998893   \n",
       "988        amazing location perfect              0.998793   \n",
       "29713      wonderful location clean              0.998663   \n",
       "20592            place just perfect              0.998638   \n",
       "6949            david place perfect              0.998420   \n",
       "26656        super clean convenient              0.998409   \n",
       "16400                 loved stay dc              0.998329   \n",
       "29714      wonderful location close              0.998255   \n",
       "27280       thoughtful touches make              0.998225   \n",
       "26669           super clean perfect              0.998124   \n",
       "23736       safe neighborhood close              0.997933   \n",
       "983          amazing location clean              0.997905   \n",
       "17335        michael wonderful host              0.997681   \n",
       "16399              loved stay clean              0.997598   \n",
       "989          amazing location super              0.997469   \n",
       "27277  thoughtful touches apartment              0.997469   \n",
       "4872   clean convenient comfortable              0.997457   \n",
       "16403             loved stay highly              0.997444   \n",
       "1562   apartment wonderful location              0.997330   \n",
       "20256        place amazing location              0.997323   \n",
       "\n",
       "       below_5th_percentile  \n",
       "16398              0.001107  \n",
       "988                0.001207  \n",
       "29713              0.001337  \n",
       "20592              0.001362  \n",
       "6949               0.001580  \n",
       "26656              0.001591  \n",
       "16400              0.001671  \n",
       "29714              0.001745  \n",
       "27280              0.001775  \n",
       "26669              0.001876  \n",
       "23736              0.002067  \n",
       "983                0.002095  \n",
       "17335              0.002319  \n",
       "16399              0.002402  \n",
       "989                0.002531  \n",
       "27277              0.002531  \n",
       "4872               0.002543  \n",
       "16403              0.002556  \n",
       "1562               0.002670  \n",
       "20256              0.002677  "
      ]
     },
     "execution_count": 27,
     "metadata": {},
     "output_type": "execute_result"
    }
   ],
   "source": [
    "word_probs = feature_words.join(prob_df)\n",
    "word_probs.sort_values('above_5th_percentile', ascending = False).head(20)"
   ]
  },
  {
   "cell_type": "code",
   "execution_count": 28,
   "id": "3f678910-2bec-4c94-9687-c13e1b47bf53",
   "metadata": {},
   "outputs": [
    {
     "data": {
      "text/html": [
       "<div>\n",
       "<style scoped>\n",
       "    .dataframe tbody tr th:only-of-type {\n",
       "        vertical-align: middle;\n",
       "    }\n",
       "\n",
       "    .dataframe tbody tr th {\n",
       "        vertical-align: top;\n",
       "    }\n",
       "\n",
       "    .dataframe thead th {\n",
       "        text-align: right;\n",
       "    }\n",
       "</style>\n",
       "<table border=\"1\" class=\"dataframe\">\n",
       "  <thead>\n",
       "    <tr style=\"text-align: right;\">\n",
       "      <th></th>\n",
       "      <th>avg_rating</th>\n",
       "      <th>avg_score_below_4</th>\n",
       "      <th>comments_clean</th>\n",
       "    </tr>\n",
       "  </thead>\n",
       "  <tbody>\n",
       "    <tr>\n",
       "      <th>302045</th>\n",
       "      <td>4.352857</td>\n",
       "      <td>0</td>\n",
       "      <td>initially at booking jasmine wasn t responsive to questions however as the date approached and came she was very responsive had all the items to help our holiday away from home feel homey enjoyed our stay</td>\n",
       "    </tr>\n",
       "    <tr>\n",
       "      <th>302043</th>\n",
       "      <td>4.352857</td>\n",
       "      <td>0</td>\n",
       "      <td>jasmine was very nice she was very responsive and made excellent recommendations public transit was very close by so even though there wasn t much to do in the area we were able to get where we needed with ease would stay again</td>\n",
       "    </tr>\n",
       "    <tr>\n",
       "      <th>302040</th>\n",
       "      <td>4.352857</td>\n",
       "      <td>0</td>\n",
       "      <td>a great place and responsive host the place was very nice and the instructions were clear mattresses were very comfortable the kitchen was very nice and clean and the living room was very nice jasmine was great at checking in and responding to a couple questions we had would definitely stay here again</td>\n",
       "    </tr>\n",
       "    <tr>\n",
       "      <th>302038</th>\n",
       "      <td>4.352857</td>\n",
       "      <td>0</td>\n",
       "      <td>jasmine house was very clean and nice and she got lots of kitchen equipment for people who like to cook we will be here again for sure</td>\n",
       "    </tr>\n",
       "    <tr>\n",
       "      <th>302037</th>\n",
       "      <td>4.352857</td>\n",
       "      <td>0</td>\n",
       "      <td>very cozy house and communication with jasmine was always very fluid everything was great</td>\n",
       "    </tr>\n",
       "    <tr>\n",
       "      <th>...</th>\n",
       "      <td>...</td>\n",
       "      <td>...</td>\n",
       "      <td>...</td>\n",
       "    </tr>\n",
       "    <tr>\n",
       "      <th>108491</th>\n",
       "      <td>4.902857</td>\n",
       "      <td>0</td>\n",
       "      <td>jasmine was so wonderful and quick to respond great host would definitely recommend this place to anyone visiting the dc area super clean home</td>\n",
       "    </tr>\n",
       "    <tr>\n",
       "      <th>108485</th>\n",
       "      <td>4.902857</td>\n",
       "      <td>0</td>\n",
       "      <td>sheridan s place was absolutely darling and immaculate i have been using airbnb for the past five years and i would rate this among the top places first the decor is very vibrant homey and stylish second the room is bright with lots of natural light and very clean it even has a nice airbnb magazine the bathroom is divine fully stocked with travel sized toiletries much like you would find in a ...</td>\n",
       "    </tr>\n",
       "    <tr>\n",
       "      <th>108473</th>\n",
       "      <td>4.902857</td>\n",
       "      <td>0</td>\n",
       "      <td>i use airbnb frequently when i travel but had never stayed in a private room listing sheridan s place has set the bar high the entire home was nice and well decorated the neighborhood was quiet and accessible to the metro line i was primarily using on my trip the other occupants were so cool and helped with any questions i had really would book again if i needed and recommend to anyone who is ...</td>\n",
       "    </tr>\n",
       "    <tr>\n",
       "      <th>299406</th>\n",
       "      <td>4.954286</td>\n",
       "      <td>0</td>\n",
       "      <td>one of the best apartment among 20 places i ve stayed sparkling clean brand new facilities great decor and comfy furnitures wonderful location walkable to all restaurants and stores not to mention the most wonderful host i ve ever met sabri martin jasmine are unbelievably kind thoughtful and accommodating always respond to our messages immediately solve problems proactively and willing to go e...</td>\n",
       "    </tr>\n",
       "    <tr>\n",
       "      <th>72304</th>\n",
       "      <td>4.982857</td>\n",
       "      <td>0</td>\n",
       "      <td>great spacious loft that looks just like the photos lung was very responsive and hugo was a very good boy great location next to the arboretum and easily uber able to the national mall loved the kettle and jasmine tea that was conveniently placed upstairs would recommend</td>\n",
       "    </tr>\n",
       "  </tbody>\n",
       "</table>\n",
       "<p>113 rows × 3 columns</p>\n",
       "</div>"
      ],
      "text/plain": [
       "        avg_rating  avg_score_below_4  \\\n",
       "302045    4.352857                  0   \n",
       "302043    4.352857                  0   \n",
       "302040    4.352857                  0   \n",
       "302038    4.352857                  0   \n",
       "302037    4.352857                  0   \n",
       "...            ...                ...   \n",
       "108491    4.902857                  0   \n",
       "108485    4.902857                  0   \n",
       "108473    4.902857                  0   \n",
       "299406    4.954286                  0   \n",
       "72304     4.982857                  0   \n",
       "\n",
       "                                                                                                                                                                                                                                                                                                                                                                                                         comments_clean  \n",
       "302045                                                                                                                                                                                                     initially at booking jasmine wasn t responsive to questions however as the date approached and came she was very responsive had all the items to help our holiday away from home feel homey enjoyed our stay  \n",
       "302043                                                                                                                                                                              jasmine was very nice she was very responsive and made excellent recommendations public transit was very close by so even though there wasn t much to do in the area we were able to get where we needed with ease would stay again  \n",
       "302040                                                                                                   a great place and responsive host the place was very nice and the instructions were clear mattresses were very comfortable the kitchen was very nice and clean and the living room was very nice jasmine was great at checking in and responding to a couple questions we had would definitely stay here again  \n",
       "302038                                                                                                                                                                                                                                                                           jasmine house was very clean and nice and she got lots of kitchen equipment for people who like to cook we will be here again for sure  \n",
       "302037                                                                                                                                                                                                                                                                                                                        very cozy house and communication with jasmine was always very fluid everything was great  \n",
       "...                                                                                                                                                                                                                                                                                                                                                                                                                 ...  \n",
       "108491                                                                                                                                                                                                                                                                   jasmine was so wonderful and quick to respond great host would definitely recommend this place to anyone visiting the dc area super clean home  \n",
       "108485  sheridan s place was absolutely darling and immaculate i have been using airbnb for the past five years and i would rate this among the top places first the decor is very vibrant homey and stylish second the room is bright with lots of natural light and very clean it even has a nice airbnb magazine the bathroom is divine fully stocked with travel sized toiletries much like you would find in a ...  \n",
       "108473  i use airbnb frequently when i travel but had never stayed in a private room listing sheridan s place has set the bar high the entire home was nice and well decorated the neighborhood was quiet and accessible to the metro line i was primarily using on my trip the other occupants were so cool and helped with any questions i had really would book again if i needed and recommend to anyone who is ...  \n",
       "299406  one of the best apartment among 20 places i ve stayed sparkling clean brand new facilities great decor and comfy furnitures wonderful location walkable to all restaurants and stores not to mention the most wonderful host i ve ever met sabri martin jasmine are unbelievably kind thoughtful and accommodating always respond to our messages immediately solve problems proactively and willing to go e...  \n",
       "72304                                                                                                                                   great spacious loft that looks just like the photos lung was very responsive and hugo was a very good boy great location next to the arboretum and easily uber able to the national mall loved the kettle and jasmine tea that was conveniently placed upstairs would recommend  \n",
       "\n",
       "[113 rows x 3 columns]"
      ]
     },
     "execution_count": 28,
     "metadata": {},
     "output_type": "execute_result"
    }
   ],
   "source": [
    "pd.set_option('display.max_colwidth', 400)\n",
    "df[['avg_rating', 'avg_score_below_4', 'comments_clean']] [df['comments_clean'].str.contains('jasmine')].sort_values('avg_rating')"
   ]
  },
  {
   "cell_type": "code",
   "execution_count": null,
   "id": "272840e6-fcda-4a49-861f-ae0fe7954297",
   "metadata": {},
   "outputs": [],
   "source": []
  }
 ],
 "metadata": {
  "kernelspec": {
   "display_name": "Python 3 (ipykernel)",
   "language": "python",
   "name": "python3"
  },
  "language_info": {
   "codemirror_mode": {
    "name": "ipython",
    "version": 3
   },
   "file_extension": ".py",
   "mimetype": "text/x-python",
   "name": "python",
   "nbconvert_exporter": "python",
   "pygments_lexer": "ipython3",
   "version": "3.11.7"
  }
 },
 "nbformat": 4,
 "nbformat_minor": 5
}
