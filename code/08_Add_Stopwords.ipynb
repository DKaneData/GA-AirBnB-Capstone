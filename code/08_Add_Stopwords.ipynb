{
 "cells": [
  {
   "cell_type": "code",
   "execution_count": 1,
   "id": "107566c4-206a-4e20-9fdc-668ddcab8d19",
   "metadata": {},
   "outputs": [],
   "source": [
    "import pandas as pd\n",
    "import numpy as np\n",
    "import matplotlib.pyplot as plt\n",
    "import seaborn as sns\n",
    "\n",
    "from sklearn.feature_extraction.text import TfidfVectorizer, CountVectorizer\n",
    "\n",
    "from sklearn.model_selection import train_test_split, GridSearchCV\n",
    "from sklearn.pipeline import Pipeline\n",
    "from sklearn.metrics import ConfusionMatrixDisplay, RocCurveDisplay, confusion_matrix, classification_report, recall_score, precision_score, f1_score\n",
    "\n",
    "from sklearn.linear_model import LogisticRegression\n",
    "\n",
    "from imblearn.over_sampling import RandomOverSampler\n",
    "\n",
    "from nltk.corpus import stopwords"
   ]
  },
  {
   "cell_type": "code",
   "execution_count": 2,
   "id": "11b8d7d6-fa40-4b8a-8ee2-f2352141147a",
   "metadata": {},
   "outputs": [
    {
     "data": {
      "text/html": [
       "<div>\n",
       "<style scoped>\n",
       "    .dataframe tbody tr th:only-of-type {\n",
       "        vertical-align: middle;\n",
       "    }\n",
       "\n",
       "    .dataframe tbody tr th {\n",
       "        vertical-align: top;\n",
       "    }\n",
       "\n",
       "    .dataframe thead th {\n",
       "        text-align: right;\n",
       "    }\n",
       "</style>\n",
       "<table border=\"1\" class=\"dataframe\">\n",
       "  <thead>\n",
       "    <tr style=\"text-align: right;\">\n",
       "      <th></th>\n",
       "      <th>listing_id</th>\n",
       "      <th>id</th>\n",
       "      <th>date</th>\n",
       "      <th>reviewer_id</th>\n",
       "      <th>reviewer_name</th>\n",
       "      <th>comments</th>\n",
       "      <th>avg_rating</th>\n",
       "      <th>avg_score_below_4</th>\n",
       "      <th>avg_score_below_5th_percentile</th>\n",
       "      <th>comments_clean</th>\n",
       "    </tr>\n",
       "  </thead>\n",
       "  <tbody>\n",
       "    <tr>\n",
       "      <th>250665</th>\n",
       "      <td>48425132</td>\n",
       "      <td>603625416757344607</td>\n",
       "      <td>2022-04-12</td>\n",
       "      <td>446028569</td>\n",
       "      <td>Sara</td>\n",
       "      <td>Great location near GWU. It is a 7 min walk to...</td>\n",
       "      <td>4.691429</td>\n",
       "      <td>0</td>\n",
       "      <td>0</td>\n",
       "      <td>great location near gwu it is a 7 min walk to ...</td>\n",
       "    </tr>\n",
       "    <tr>\n",
       "      <th>320652</th>\n",
       "      <td>1002901371177254584</td>\n",
       "      <td>1078314860855783249</td>\n",
       "      <td>2024-01-27</td>\n",
       "      <td>7022298</td>\n",
       "      <td>Amy</td>\n",
       "      <td>They were super friendly hosts and I could not...</td>\n",
       "      <td>4.834286</td>\n",
       "      <td>0</td>\n",
       "      <td>0</td>\n",
       "      <td>they were super friendly hosts and i could not...</td>\n",
       "    </tr>\n",
       "    <tr>\n",
       "      <th>185619</th>\n",
       "      <td>30378859</td>\n",
       "      <td>423799689525006949</td>\n",
       "      <td>2021-08-07</td>\n",
       "      <td>207600504</td>\n",
       "      <td>Saar</td>\n",
       "      <td>Great host and fabulous communication.  We had...</td>\n",
       "      <td>4.954286</td>\n",
       "      <td>0</td>\n",
       "      <td>0</td>\n",
       "      <td>great host and fabulous communication we had a...</td>\n",
       "    </tr>\n",
       "    <tr>\n",
       "      <th>294960</th>\n",
       "      <td>639293163754818325</td>\n",
       "      <td>1031910200869545826</td>\n",
       "      <td>2023-11-24</td>\n",
       "      <td>507877132</td>\n",
       "      <td>Michal</td>\n",
       "      <td>Super clean and private aparment.&lt;br/&gt;Fully eq...</td>\n",
       "      <td>4.957143</td>\n",
       "      <td>0</td>\n",
       "      <td>0</td>\n",
       "      <td>super clean and private aparment br fully equi...</td>\n",
       "    </tr>\n",
       "    <tr>\n",
       "      <th>278011</th>\n",
       "      <td>53645937</td>\n",
       "      <td>1003635660521703289</td>\n",
       "      <td>2023-10-16</td>\n",
       "      <td>235644649</td>\n",
       "      <td>Leon</td>\n",
       "      <td>We enjoyed it well enough to seek out other So...</td>\n",
       "      <td>4.637143</td>\n",
       "      <td>0</td>\n",
       "      <td>0</td>\n",
       "      <td>we enjoyed it well enough to seek out other so...</td>\n",
       "    </tr>\n",
       "  </tbody>\n",
       "</table>\n",
       "</div>"
      ],
      "text/plain": [
       "                 listing_id                   id        date  reviewer_id  \\\n",
       "250665             48425132   603625416757344607  2022-04-12    446028569   \n",
       "320652  1002901371177254584  1078314860855783249  2024-01-27      7022298   \n",
       "185619             30378859   423799689525006949  2021-08-07    207600504   \n",
       "294960   639293163754818325  1031910200869545826  2023-11-24    507877132   \n",
       "278011             53645937  1003635660521703289  2023-10-16    235644649   \n",
       "\n",
       "       reviewer_name                                           comments  \\\n",
       "250665          Sara  Great location near GWU. It is a 7 min walk to...   \n",
       "320652           Amy  They were super friendly hosts and I could not...   \n",
       "185619          Saar  Great host and fabulous communication.  We had...   \n",
       "294960        Michal  Super clean and private aparment.<br/>Fully eq...   \n",
       "278011          Leon  We enjoyed it well enough to seek out other So...   \n",
       "\n",
       "        avg_rating  avg_score_below_4  avg_score_below_5th_percentile  \\\n",
       "250665    4.691429                  0                               0   \n",
       "320652    4.834286                  0                               0   \n",
       "185619    4.954286                  0                               0   \n",
       "294960    4.957143                  0                               0   \n",
       "278011    4.637143                  0                               0   \n",
       "\n",
       "                                           comments_clean  \n",
       "250665  great location near gwu it is a 7 min walk to ...  \n",
       "320652  they were super friendly hosts and i could not...  \n",
       "185619  great host and fabulous communication we had a...  \n",
       "294960  super clean and private aparment br fully equi...  \n",
       "278011  we enjoyed it well enough to seek out other so...  "
      ]
     },
     "execution_count": 2,
     "metadata": {},
     "output_type": "execute_result"
    }
   ],
   "source": [
    "df = pd.read_csv('../data/reviews_with_ratings_cleaned.csv', index_col = 'Unnamed: 0', keep_default_na = False)\n",
    "df.sample(5)"
   ]
  },
  {
   "cell_type": "code",
   "execution_count": 3,
   "id": "2582b600-4b74-4d68-b2ff-8dadd593f752",
   "metadata": {},
   "outputs": [
    {
     "data": {
      "text/plain": [
       "listing_id                        0\n",
       "id                                0\n",
       "date                              0\n",
       "reviewer_id                       0\n",
       "reviewer_name                     0\n",
       "comments                          0\n",
       "avg_rating                        0\n",
       "avg_score_below_4                 0\n",
       "avg_score_below_5th_percentile    0\n",
       "comments_clean                    0\n",
       "dtype: int64"
      ]
     },
     "execution_count": 3,
     "metadata": {},
     "output_type": "execute_result"
    }
   ],
   "source": [
    "df.isnull().sum()"
   ]
  },
  {
   "cell_type": "code",
   "execution_count": 4,
   "id": "9de64337-bbca-4839-a5fa-474ebdafd182",
   "metadata": {},
   "outputs": [
    {
     "name": "stdout",
     "output_type": "stream",
     "text": [
      "avg_score_below_5th_percentile\n",
      "0    320774\n",
      "1      2033\n",
      "Name: count, dtype: int64\n",
      "******************************\n"
     ]
    },
    {
     "data": {
      "text/plain": [
       "avg_score_below_5th_percentile\n",
       "0    0.993702\n",
       "1    0.006298\n",
       "Name: proportion, dtype: float64"
      ]
     },
     "execution_count": 4,
     "metadata": {},
     "output_type": "execute_result"
    }
   ],
   "source": [
    "print(df['avg_score_below_5th_percentile'].value_counts()),\n",
    "print('*'*30)\n",
    "df['avg_score_below_5th_percentile'].value_counts(normalize = True)"
   ]
  },
  {
   "cell_type": "code",
   "execution_count": 5,
   "id": "5613090d-7d05-4dd2-a360-d07bbcdd756a",
   "metadata": {},
   "outputs": [
    {
     "data": {
      "text/plain": [
       "(322807, 1)"
      ]
     },
     "execution_count": 5,
     "metadata": {},
     "output_type": "execute_result"
    }
   ],
   "source": [
    "X = df[['comments_clean']] # Had to make it double square brackets to make it a 2D array\n",
    "X.shape"
   ]
  },
  {
   "cell_type": "code",
   "execution_count": 6,
   "id": "98075d8d-b0e7-4cb3-9295-69f159487dce",
   "metadata": {},
   "outputs": [
    {
     "data": {
      "text/plain": [
       "(322807,)"
      ]
     },
     "execution_count": 6,
     "metadata": {},
     "output_type": "execute_result"
    }
   ],
   "source": [
    "y = df['avg_score_below_5th_percentile']\n",
    "y.shape"
   ]
  },
  {
   "cell_type": "code",
   "execution_count": 7,
   "id": "79ea0344-0a27-4b19-be4a-9191c60f56eb",
   "metadata": {},
   "outputs": [],
   "source": [
    "X_train, X_test, y_train, y_test = train_test_split(X, y, random_state = 42, stratify = y)"
   ]
  },
  {
   "cell_type": "code",
   "execution_count": 8,
   "id": "c25f35c2-2040-4346-9ed3-5f6c7d4b2bc3",
   "metadata": {},
   "outputs": [
    {
     "data": {
      "text/plain": [
       "((242105, 1), (80702, 1), (242105,), (80702,))"
      ]
     },
     "execution_count": 8,
     "metadata": {},
     "output_type": "execute_result"
    }
   ],
   "source": [
    "X_train.shape, X_test.shape, y_train.shape, y_test.shape"
   ]
  },
  {
   "cell_type": "markdown",
   "id": "d4560bba-e348-4db8-843b-d6bb1d288db1",
   "metadata": {},
   "source": [
    "#### Oversampling the minority class"
   ]
  },
  {
   "cell_type": "code",
   "execution_count": 9,
   "id": "5241ce42-0df6-4937-bddf-1f83c7abe0c7",
   "metadata": {},
   "outputs": [],
   "source": [
    "ros = RandomOverSampler(random_state = 42) # Added a random state to the oversampler for replicability"
   ]
  },
  {
   "cell_type": "code",
   "execution_count": 10,
   "id": "fe7fe9da-7df2-40e6-9353-9fc2979cc657",
   "metadata": {},
   "outputs": [],
   "source": [
    "X_train_over, y_train_over = ros.fit_resample(X_train, y_train)"
   ]
  },
  {
   "cell_type": "code",
   "execution_count": 11,
   "id": "ddf9157b-393e-437d-aa53-23fcc4854905",
   "metadata": {},
   "outputs": [
    {
     "data": {
      "text/plain": [
       "((481160, 1), (481160,), (80702, 1), (80702,))"
      ]
     },
     "execution_count": 11,
     "metadata": {},
     "output_type": "execute_result"
    }
   ],
   "source": [
    "X_train_over.shape, y_train_over.shape, X_test.shape, y_test.shape"
   ]
  },
  {
   "cell_type": "code",
   "execution_count": 27,
   "id": "3a91f884-829a-47e7-b219-163190b2c0e4",
   "metadata": {},
   "outputs": [
    {
     "data": {
      "text/plain": [
       "(avg_score_below_5th_percentile\n",
       " 0    240580\n",
       " 1      1525\n",
       " Name: count, dtype: int64,\n",
       " avg_score_below_5th_percentile\n",
       " 0    240580\n",
       " 1    240580\n",
       " Name: count, dtype: int64,\n",
       " avg_score_below_5th_percentile\n",
       " 0    80194\n",
       " 1      508\n",
       " Name: count, dtype: int64)"
      ]
     },
     "execution_count": 27,
     "metadata": {},
     "output_type": "execute_result"
    }
   ],
   "source": [
    "y_train.value_counts(), y_train_over.value_counts(), y_test.value_counts()"
   ]
  },
  {
   "cell_type": "markdown",
   "id": "ca86a4e4-2caf-4036-a3a1-5cb4715410e4",
   "metadata": {},
   "source": [
    "#### Will try adding stop words"
   ]
  },
  {
   "cell_type": "code",
   "execution_count": 21,
   "id": "ff71da7a-2b87-48ad-a024-7baa7715a1ac",
   "metadata": {
    "scrolled": true
   },
   "outputs": [
    {
     "data": {
      "text/plain": [
       "['i',\n",
       " 'me',\n",
       " 'my',\n",
       " 'myself',\n",
       " 'we',\n",
       " 'our',\n",
       " 'ours',\n",
       " 'ourselves',\n",
       " 'you',\n",
       " \"you're\",\n",
       " \"you've\",\n",
       " \"you'll\",\n",
       " \"you'd\",\n",
       " 'your',\n",
       " 'yours',\n",
       " 'yourself',\n",
       " 'yourselves',\n",
       " 'he',\n",
       " 'him',\n",
       " 'his',\n",
       " 'himself',\n",
       " 'she',\n",
       " \"she's\",\n",
       " 'her',\n",
       " 'hers',\n",
       " 'herself',\n",
       " 'it',\n",
       " \"it's\",\n",
       " 'its',\n",
       " 'itself',\n",
       " 'they',\n",
       " 'them',\n",
       " 'their',\n",
       " 'theirs',\n",
       " 'themselves',\n",
       " 'what',\n",
       " 'which',\n",
       " 'who',\n",
       " 'whom',\n",
       " 'this',\n",
       " 'that',\n",
       " \"that'll\",\n",
       " 'these',\n",
       " 'those',\n",
       " 'am',\n",
       " 'is',\n",
       " 'are',\n",
       " 'was',\n",
       " 'were',\n",
       " 'be',\n",
       " 'been',\n",
       " 'being',\n",
       " 'have',\n",
       " 'has',\n",
       " 'had',\n",
       " 'having',\n",
       " 'do',\n",
       " 'does',\n",
       " 'did',\n",
       " 'doing',\n",
       " 'a',\n",
       " 'an',\n",
       " 'the',\n",
       " 'and',\n",
       " 'but',\n",
       " 'if',\n",
       " 'or',\n",
       " 'because',\n",
       " 'as',\n",
       " 'until',\n",
       " 'while',\n",
       " 'of',\n",
       " 'at',\n",
       " 'by',\n",
       " 'for',\n",
       " 'with',\n",
       " 'about',\n",
       " 'against',\n",
       " 'between',\n",
       " 'into',\n",
       " 'through',\n",
       " 'during',\n",
       " 'before',\n",
       " 'after',\n",
       " 'above',\n",
       " 'below',\n",
       " 'to',\n",
       " 'from',\n",
       " 'up',\n",
       " 'down',\n",
       " 'in',\n",
       " 'out',\n",
       " 'on',\n",
       " 'off',\n",
       " 'over',\n",
       " 'under',\n",
       " 'again',\n",
       " 'further',\n",
       " 'then',\n",
       " 'once',\n",
       " 'here',\n",
       " 'there',\n",
       " 'when',\n",
       " 'where',\n",
       " 'why',\n",
       " 'how',\n",
       " 'all',\n",
       " 'any',\n",
       " 'both',\n",
       " 'each',\n",
       " 'few',\n",
       " 'more',\n",
       " 'most',\n",
       " 'other',\n",
       " 'some',\n",
       " 'such',\n",
       " 'no',\n",
       " 'nor',\n",
       " 'not',\n",
       " 'only',\n",
       " 'own',\n",
       " 'same',\n",
       " 'so',\n",
       " 'than',\n",
       " 'too',\n",
       " 'very',\n",
       " 's',\n",
       " 't',\n",
       " 'can',\n",
       " 'will',\n",
       " 'just',\n",
       " 'don',\n",
       " \"don't\",\n",
       " 'should',\n",
       " \"should've\",\n",
       " 'now',\n",
       " 'd',\n",
       " 'll',\n",
       " 'm',\n",
       " 'o',\n",
       " 're',\n",
       " 've',\n",
       " 'y',\n",
       " 'ain',\n",
       " 'aren',\n",
       " \"aren't\",\n",
       " 'couldn',\n",
       " \"couldn't\",\n",
       " 'didn',\n",
       " \"didn't\",\n",
       " 'doesn',\n",
       " \"doesn't\",\n",
       " 'hadn',\n",
       " \"hadn't\",\n",
       " 'hasn',\n",
       " \"hasn't\",\n",
       " 'haven',\n",
       " \"haven't\",\n",
       " 'isn',\n",
       " \"isn't\",\n",
       " 'ma',\n",
       " 'mightn',\n",
       " \"mightn't\",\n",
       " 'mustn',\n",
       " \"mustn't\",\n",
       " 'needn',\n",
       " \"needn't\",\n",
       " 'shan',\n",
       " \"shan't\",\n",
       " 'shouldn',\n",
       " \"shouldn't\",\n",
       " 'wasn',\n",
       " \"wasn't\",\n",
       " 'weren',\n",
       " \"weren't\",\n",
       " 'won',\n",
       " \"won't\",\n",
       " 'wouldn',\n",
       " \"wouldn't\"]"
      ]
     },
     "execution_count": 21,
     "metadata": {},
     "output_type": "execute_result"
    }
   ],
   "source": [
    "stop_words = stopwords.words('english')\n",
    "stop_words"
   ]
  },
  {
   "cell_type": "markdown",
   "id": "5e7c5422-29e8-4be7-ab7a-c7988aa7893a",
   "metadata": {},
   "source": [
    "#### Added Jasmine since Jasmine has a few poor reviews so it's learning about her\n",
    "\n",
    "#### Also added some negative phrases. My goal isn't to learn that negative words predict negative ratings - I want to understand the specifics of WHY someone had a bad/poor/terrible experience"
   ]
  },
  {
   "cell_type": "code",
   "execution_count": 23,
   "id": "89d69497-f974-478f-b931-6880e6b7b6de",
   "metadata": {},
   "outputs": [],
   "source": [
    "new_stop_words = ['jasmine', 'poor', 'bad', 'terrible', 'worst', 'didn', 'wasn']\n",
    "stop_words.append(new_stop_words)"
   ]
  },
  {
   "cell_type": "code",
   "execution_count": 24,
   "id": "8cd142f3-0ded-4268-82ca-99ce402ea719",
   "metadata": {},
   "outputs": [
    {
     "name": "stdout",
     "output_type": "stream",
     "text": [
      "['i', 'me', 'my', 'myself', 'we', 'our', 'ours', 'ourselves', 'you', \"you're\", \"you've\", \"you'll\", \"you'd\", 'your', 'yours', 'yourself', 'yourselves', 'he', 'him', 'his', 'himself', 'she', \"she's\", 'her', 'hers', 'herself', 'it', \"it's\", 'its', 'itself', 'they', 'them', 'their', 'theirs', 'themselves', 'what', 'which', 'who', 'whom', 'this', 'that', \"that'll\", 'these', 'those', 'am', 'is', 'are', 'was', 'were', 'be', 'been', 'being', 'have', 'has', 'had', 'having', 'do', 'does', 'did', 'doing', 'a', 'an', 'the', 'and', 'but', 'if', 'or', 'because', 'as', 'until', 'while', 'of', 'at', 'by', 'for', 'with', 'about', 'against', 'between', 'into', 'through', 'during', 'before', 'after', 'above', 'below', 'to', 'from', 'up', 'down', 'in', 'out', 'on', 'off', 'over', 'under', 'again', 'further', 'then', 'once', 'here', 'there', 'when', 'where', 'why', 'how', 'all', 'any', 'both', 'each', 'few', 'more', 'most', 'other', 'some', 'such', 'no', 'nor', 'not', 'only', 'own', 'same', 'so', 'than', 'too', 'very', 's', 't', 'can', 'will', 'just', 'don', \"don't\", 'should', \"should've\", 'now', 'd', 'll', 'm', 'o', 're', 've', 'y', 'ain', 'aren', \"aren't\", 'couldn', \"couldn't\", 'didn', \"didn't\", 'doesn', \"doesn't\", 'hadn', \"hadn't\", 'hasn', \"hasn't\", 'haven', \"haven't\", 'isn', \"isn't\", 'ma', 'mightn', \"mightn't\", 'mustn', \"mustn't\", 'needn', \"needn't\", 'shan', \"shan't\", 'shouldn', \"shouldn't\", 'wasn', \"wasn't\", 'weren', \"weren't\", 'won', \"won't\", 'wouldn', \"wouldn't\", ['jasmine', 'poor', 'bad', 'terrible', 'worst', 'didn', 'wasn']]\n"
     ]
    }
   ],
   "source": [
    "print(stop_words)"
   ]
  },
  {
   "cell_type": "code",
   "execution_count": null,
   "id": "c4f5c0e8-6340-436b-b051-e7584a269a12",
   "metadata": {},
   "outputs": [],
   "source": [
    "added_stop_words = stop_words"
   ]
  },
  {
   "cell_type": "code",
   "execution_count": 25,
   "id": "eff9ba78-ac87-4c4e-91fe-679064748044",
   "metadata": {},
   "outputs": [],
   "source": [
    "pipe = Pipeline([\n",
    "    ('tf', TfidfVectorizer() ),\n",
    "    ('logr', LogisticRegression(class_weight = 'balanced') )\n",
    "])"
   ]
  },
  {
   "cell_type": "code",
   "execution_count": 28,
   "id": "45e8198f-6bfa-4850-9ff6-74105b829bb9",
   "metadata": {},
   "outputs": [],
   "source": [
    "pipe_params = {\n",
    "    'tf__stop_words' : ['english', 'added_stop_words'], # Added the new stop words into the model\n",
    "    'tf__max_features' : [5_000, 10_000, 30_000],\n",
    "    'tf__min_df' : [150, 300],  # Increase the minimum on the DF since I'm oversampling the minority class by a factor of 157\n",
    "    'tf__ngram_range': [ (1,1), (1,2), (1,3) ]\n",
    "}"
   ]
  },
  {
   "cell_type": "code",
   "execution_count": 29,
   "id": "1cf38c1a-c254-4c75-ac98-48a35a961cba",
   "metadata": {},
   "outputs": [],
   "source": [
    "gs = GridSearchCV(pipe, pipe_params, n_jobs = -1, verbose = 10)"
   ]
  },
  {
   "cell_type": "code",
   "execution_count": 30,
   "id": "5c4f9115-ef9d-456d-bedc-88366fbd6af7",
   "metadata": {},
   "outputs": [
    {
     "name": "stdout",
     "output_type": "stream",
     "text": [
      "Fitting 5 folds for each of 36 candidates, totalling 180 fits\n"
     ]
    },
    {
     "name": "stderr",
     "output_type": "stream",
     "text": [
      "C:\\Users\\david\\anaconda3\\Lib\\site-packages\\sklearn\\model_selection\\_validation.py:378: FitFailedWarning: \n",
      "90 fits failed out of a total of 180.\n",
      "The score on these train-test partitions for these parameters will be set to nan.\n",
      "If these failures are not expected, you can try to debug them by setting error_score='raise'.\n",
      "\n",
      "Below are more details about the failures:\n",
      "--------------------------------------------------------------------------------\n",
      "90 fits failed with the following error:\n",
      "Traceback (most recent call last):\n",
      "  File \"C:\\Users\\david\\anaconda3\\Lib\\site-packages\\sklearn\\model_selection\\_validation.py\", line 686, in _fit_and_score\n",
      "    estimator.fit(X_train, y_train, **fit_params)\n",
      "  File \"C:\\Users\\david\\anaconda3\\Lib\\site-packages\\sklearn\\pipeline.py\", line 401, in fit\n",
      "    Xt = self._fit(X, y, **fit_params_steps)\n",
      "         ^^^^^^^^^^^^^^^^^^^^^^^^^^^^^^^^^^^\n",
      "  File \"C:\\Users\\david\\anaconda3\\Lib\\site-packages\\sklearn\\pipeline.py\", line 359, in _fit\n",
      "    X, fitted_transformer = fit_transform_one_cached(\n",
      "                            ^^^^^^^^^^^^^^^^^^^^^^^^^\n",
      "  File \"C:\\Users\\david\\anaconda3\\Lib\\site-packages\\joblib\\memory.py\", line 349, in __call__\n",
      "    return self.func(*args, **kwargs)\n",
      "           ^^^^^^^^^^^^^^^^^^^^^^^^^^\n",
      "  File \"C:\\Users\\david\\anaconda3\\Lib\\site-packages\\sklearn\\pipeline.py\", line 893, in _fit_transform_one\n",
      "    res = transformer.fit_transform(X, y, **fit_params)\n",
      "          ^^^^^^^^^^^^^^^^^^^^^^^^^^^^^^^^^^^^^^^^^^^^^\n",
      "  File \"C:\\Users\\david\\anaconda3\\Lib\\site-packages\\sklearn\\feature_extraction\\text.py\", line 2133, in fit_transform\n",
      "    X = super().fit_transform(raw_documents)\n",
      "        ^^^^^^^^^^^^^^^^^^^^^^^^^^^^^^^^^^^^\n",
      "  File \"C:\\Users\\david\\anaconda3\\Lib\\site-packages\\sklearn\\feature_extraction\\text.py\", line 1369, in fit_transform\n",
      "    self._validate_params()\n",
      "  File \"C:\\Users\\david\\anaconda3\\Lib\\site-packages\\sklearn\\base.py\", line 600, in _validate_params\n",
      "    validate_parameter_constraints(\n",
      "  File \"C:\\Users\\david\\anaconda3\\Lib\\site-packages\\sklearn\\utils\\_param_validation.py\", line 97, in validate_parameter_constraints\n",
      "    raise InvalidParameterError(\n",
      "sklearn.utils._param_validation.InvalidParameterError: The 'stop_words' parameter of TfidfVectorizer must be a str among {'english'}, an instance of 'list' or None. Got 'added_stop_words' instead.\n",
      "\n",
      "  warnings.warn(some_fits_failed_message, FitFailedWarning)\n",
      "C:\\Users\\david\\anaconda3\\Lib\\site-packages\\sklearn\\model_selection\\_search.py:952: UserWarning: One or more of the test scores are non-finite: [0.89790922        nan 0.93849863        nan 0.94047926        nan\n",
      " 0.88312204        nan 0.93895793        nan 0.94009893        nan\n",
      " 0.89790922        nan 0.95558858        nan 0.95710782        nan\n",
      " 0.88312204        nan 0.93895793        nan 0.94251808        nan\n",
      " 0.89790922        nan 0.9578477         nan 0.96172167        nan\n",
      " 0.88312204        nan 0.93895793        nan 0.94251808        nan]\n",
      "  warnings.warn(\n",
      "C:\\Users\\david\\anaconda3\\Lib\\site-packages\\sklearn\\linear_model\\_logistic.py:458: ConvergenceWarning: lbfgs failed to converge (status=1):\n",
      "STOP: TOTAL NO. of ITERATIONS REACHED LIMIT.\n",
      "\n",
      "Increase the number of iterations (max_iter) or scale the data as shown in:\n",
      "    https://scikit-learn.org/stable/modules/preprocessing.html\n",
      "Please also refer to the documentation for alternative solver options:\n",
      "    https://scikit-learn.org/stable/modules/linear_model.html#logistic-regression\n",
      "  n_iter_i = _check_optimize_result(\n"
     ]
    },
    {
     "data": {
      "text/html": [
       "<style>#sk-container-id-1 {color: black;background-color: white;}#sk-container-id-1 pre{padding: 0;}#sk-container-id-1 div.sk-toggleable {background-color: white;}#sk-container-id-1 label.sk-toggleable__label {cursor: pointer;display: block;width: 100%;margin-bottom: 0;padding: 0.3em;box-sizing: border-box;text-align: center;}#sk-container-id-1 label.sk-toggleable__label-arrow:before {content: \"▸\";float: left;margin-right: 0.25em;color: #696969;}#sk-container-id-1 label.sk-toggleable__label-arrow:hover:before {color: black;}#sk-container-id-1 div.sk-estimator:hover label.sk-toggleable__label-arrow:before {color: black;}#sk-container-id-1 div.sk-toggleable__content {max-height: 0;max-width: 0;overflow: hidden;text-align: left;background-color: #f0f8ff;}#sk-container-id-1 div.sk-toggleable__content pre {margin: 0.2em;color: black;border-radius: 0.25em;background-color: #f0f8ff;}#sk-container-id-1 input.sk-toggleable__control:checked~div.sk-toggleable__content {max-height: 200px;max-width: 100%;overflow: auto;}#sk-container-id-1 input.sk-toggleable__control:checked~label.sk-toggleable__label-arrow:before {content: \"▾\";}#sk-container-id-1 div.sk-estimator input.sk-toggleable__control:checked~label.sk-toggleable__label {background-color: #d4ebff;}#sk-container-id-1 div.sk-label input.sk-toggleable__control:checked~label.sk-toggleable__label {background-color: #d4ebff;}#sk-container-id-1 input.sk-hidden--visually {border: 0;clip: rect(1px 1px 1px 1px);clip: rect(1px, 1px, 1px, 1px);height: 1px;margin: -1px;overflow: hidden;padding: 0;position: absolute;width: 1px;}#sk-container-id-1 div.sk-estimator {font-family: monospace;background-color: #f0f8ff;border: 1px dotted black;border-radius: 0.25em;box-sizing: border-box;margin-bottom: 0.5em;}#sk-container-id-1 div.sk-estimator:hover {background-color: #d4ebff;}#sk-container-id-1 div.sk-parallel-item::after {content: \"\";width: 100%;border-bottom: 1px solid gray;flex-grow: 1;}#sk-container-id-1 div.sk-label:hover label.sk-toggleable__label {background-color: #d4ebff;}#sk-container-id-1 div.sk-serial::before {content: \"\";position: absolute;border-left: 1px solid gray;box-sizing: border-box;top: 0;bottom: 0;left: 50%;z-index: 0;}#sk-container-id-1 div.sk-serial {display: flex;flex-direction: column;align-items: center;background-color: white;padding-right: 0.2em;padding-left: 0.2em;position: relative;}#sk-container-id-1 div.sk-item {position: relative;z-index: 1;}#sk-container-id-1 div.sk-parallel {display: flex;align-items: stretch;justify-content: center;background-color: white;position: relative;}#sk-container-id-1 div.sk-item::before, #sk-container-id-1 div.sk-parallel-item::before {content: \"\";position: absolute;border-left: 1px solid gray;box-sizing: border-box;top: 0;bottom: 0;left: 50%;z-index: -1;}#sk-container-id-1 div.sk-parallel-item {display: flex;flex-direction: column;z-index: 1;position: relative;background-color: white;}#sk-container-id-1 div.sk-parallel-item:first-child::after {align-self: flex-end;width: 50%;}#sk-container-id-1 div.sk-parallel-item:last-child::after {align-self: flex-start;width: 50%;}#sk-container-id-1 div.sk-parallel-item:only-child::after {width: 0;}#sk-container-id-1 div.sk-dashed-wrapped {border: 1px dashed gray;margin: 0 0.4em 0.5em 0.4em;box-sizing: border-box;padding-bottom: 0.4em;background-color: white;}#sk-container-id-1 div.sk-label label {font-family: monospace;font-weight: bold;display: inline-block;line-height: 1.2em;}#sk-container-id-1 div.sk-label-container {text-align: center;}#sk-container-id-1 div.sk-container {/* jupyter's `normalize.less` sets `[hidden] { display: none; }` but bootstrap.min.css set `[hidden] { display: none !important; }` so we also need the `!important` here to be able to override the default hidden behavior on the sphinx rendered scikit-learn.org. See: https://github.com/scikit-learn/scikit-learn/issues/21755 */display: inline-block !important;position: relative;}#sk-container-id-1 div.sk-text-repr-fallback {display: none;}</style><div id=\"sk-container-id-1\" class=\"sk-top-container\"><div class=\"sk-text-repr-fallback\"><pre>GridSearchCV(estimator=Pipeline(steps=[(&#x27;tf&#x27;, TfidfVectorizer()),\n",
       "                                       (&#x27;logr&#x27;,\n",
       "                                        LogisticRegression(class_weight=&#x27;balanced&#x27;))]),\n",
       "             n_jobs=-1,\n",
       "             param_grid={&#x27;tf__max_features&#x27;: [5000, 10000, 30000],\n",
       "                         &#x27;tf__min_df&#x27;: [150, 300],\n",
       "                         &#x27;tf__ngram_range&#x27;: [(1, 1), (1, 2), (1, 3)],\n",
       "                         &#x27;tf__stop_words&#x27;: [&#x27;english&#x27;, &#x27;added_stop_words&#x27;]},\n",
       "             verbose=10)</pre><b>In a Jupyter environment, please rerun this cell to show the HTML representation or trust the notebook. <br />On GitHub, the HTML representation is unable to render, please try loading this page with nbviewer.org.</b></div><div class=\"sk-container\" hidden><div class=\"sk-item sk-dashed-wrapped\"><div class=\"sk-label-container\"><div class=\"sk-label sk-toggleable\"><input class=\"sk-toggleable__control sk-hidden--visually\" id=\"sk-estimator-id-1\" type=\"checkbox\" ><label for=\"sk-estimator-id-1\" class=\"sk-toggleable__label sk-toggleable__label-arrow\">GridSearchCV</label><div class=\"sk-toggleable__content\"><pre>GridSearchCV(estimator=Pipeline(steps=[(&#x27;tf&#x27;, TfidfVectorizer()),\n",
       "                                       (&#x27;logr&#x27;,\n",
       "                                        LogisticRegression(class_weight=&#x27;balanced&#x27;))]),\n",
       "             n_jobs=-1,\n",
       "             param_grid={&#x27;tf__max_features&#x27;: [5000, 10000, 30000],\n",
       "                         &#x27;tf__min_df&#x27;: [150, 300],\n",
       "                         &#x27;tf__ngram_range&#x27;: [(1, 1), (1, 2), (1, 3)],\n",
       "                         &#x27;tf__stop_words&#x27;: [&#x27;english&#x27;, &#x27;added_stop_words&#x27;]},\n",
       "             verbose=10)</pre></div></div></div><div class=\"sk-parallel\"><div class=\"sk-parallel-item\"><div class=\"sk-item\"><div class=\"sk-label-container\"><div class=\"sk-label sk-toggleable\"><input class=\"sk-toggleable__control sk-hidden--visually\" id=\"sk-estimator-id-2\" type=\"checkbox\" ><label for=\"sk-estimator-id-2\" class=\"sk-toggleable__label sk-toggleable__label-arrow\">estimator: Pipeline</label><div class=\"sk-toggleable__content\"><pre>Pipeline(steps=[(&#x27;tf&#x27;, TfidfVectorizer()),\n",
       "                (&#x27;logr&#x27;, LogisticRegression(class_weight=&#x27;balanced&#x27;))])</pre></div></div></div><div class=\"sk-serial\"><div class=\"sk-item\"><div class=\"sk-serial\"><div class=\"sk-item\"><div class=\"sk-estimator sk-toggleable\"><input class=\"sk-toggleable__control sk-hidden--visually\" id=\"sk-estimator-id-3\" type=\"checkbox\" ><label for=\"sk-estimator-id-3\" class=\"sk-toggleable__label sk-toggleable__label-arrow\">TfidfVectorizer</label><div class=\"sk-toggleable__content\"><pre>TfidfVectorizer()</pre></div></div></div><div class=\"sk-item\"><div class=\"sk-estimator sk-toggleable\"><input class=\"sk-toggleable__control sk-hidden--visually\" id=\"sk-estimator-id-4\" type=\"checkbox\" ><label for=\"sk-estimator-id-4\" class=\"sk-toggleable__label sk-toggleable__label-arrow\">LogisticRegression</label><div class=\"sk-toggleable__content\"><pre>LogisticRegression(class_weight=&#x27;balanced&#x27;)</pre></div></div></div></div></div></div></div></div></div></div></div></div>"
      ],
      "text/plain": [
       "GridSearchCV(estimator=Pipeline(steps=[('tf', TfidfVectorizer()),\n",
       "                                       ('logr',\n",
       "                                        LogisticRegression(class_weight='balanced'))]),\n",
       "             n_jobs=-1,\n",
       "             param_grid={'tf__max_features': [5000, 10000, 30000],\n",
       "                         'tf__min_df': [150, 300],\n",
       "                         'tf__ngram_range': [(1, 1), (1, 2), (1, 3)],\n",
       "                         'tf__stop_words': ['english', 'added_stop_words']},\n",
       "             verbose=10)"
      ]
     },
     "execution_count": 30,
     "metadata": {},
     "output_type": "execute_result"
    }
   ],
   "source": [
    "gs.fit(X_train_over['comments_clean'], y_train_over)"
   ]
  },
  {
   "cell_type": "markdown",
   "id": "ec588f2d-011e-40ad-b068-85e9eb60800d",
   "metadata": {},
   "source": [
    "#### Best Params: Max Features of 30k, Min_df of 150, n_gram range: 1,3, stop_words: english"
   ]
  },
  {
   "cell_type": "code",
   "execution_count": 31,
   "id": "d83bbaa5-6528-4406-861a-726e92efa651",
   "metadata": {},
   "outputs": [
    {
     "data": {
      "text/plain": [
       "{'tf__max_features': 30000,\n",
       " 'tf__min_df': 150,\n",
       " 'tf__ngram_range': (1, 3),\n",
       " 'tf__stop_words': 'english'}"
      ]
     },
     "execution_count": 31,
     "metadata": {},
     "output_type": "execute_result"
    }
   ],
   "source": [
    "gs.best_params_"
   ]
  },
  {
   "cell_type": "code",
   "execution_count": 33,
   "id": "ed1e8853-a554-4b64-b9ed-37dd5ddf33e3",
   "metadata": {},
   "outputs": [
    {
     "data": {
      "text/plain": [
       "0.9617216726244908"
      ]
     },
     "execution_count": 33,
     "metadata": {},
     "output_type": "execute_result"
    }
   ],
   "source": [
    "gs.best_score_"
   ]
  },
  {
   "cell_type": "code",
   "execution_count": 34,
   "id": "9f7ce388-28d8-4acf-ac63-4c8d45f4af71",
   "metadata": {},
   "outputs": [
    {
     "data": {
      "text/plain": [
       "(0.972753346080306, 0.9424797402790513)"
      ]
     },
     "execution_count": 34,
     "metadata": {},
     "output_type": "execute_result"
    }
   ],
   "source": [
    "gs.score(X_train_over['comments_clean'], y_train_over), gs.score(X_test['comments_clean'], y_test)"
   ]
  },
  {
   "cell_type": "code",
   "execution_count": 35,
   "id": "3fe6aba8-3233-44ad-bc2b-236ab2025942",
   "metadata": {},
   "outputs": [
    {
     "data": {
      "image/png": "[encoded data removed]",
      "text/plain": [
       "<Figure size 640x480 with 2 Axes>"
      ]
     },
     "metadata": {},
     "output_type": "display_data"
    }
   ],
   "source": [
    "ConfusionMatrixDisplay.from_estimator(gs, X_test['comments_clean'], y_test);"
   ]
  },
  {
   "cell_type": "markdown",
   "id": "e1920d69-a08f-4282-8991-c60e67ef3d09",
   "metadata": {},
   "source": [
    "#### Still low recall score - lots of false positives"
   ]
  },
  {
   "cell_type": "code",
   "execution_count": 36,
   "id": "34f1fbe1-4336-4112-9242-34cf5a9adb6a",
   "metadata": {},
   "outputs": [
    {
     "data": {
      "text/plain": [
       "0.25196850393700787"
      ]
     },
     "execution_count": 36,
     "metadata": {},
     "output_type": "execute_result"
    }
   ],
   "source": [
    "recall_score(y_test, gs.predict(X_test['comments_clean']) )"
   ]
  },
  {
   "cell_type": "code",
   "execution_count": 38,
   "id": "c9ae0cb8-38b7-4b55-b248-123638fd0d4e",
   "metadata": {},
   "outputs": [
    {
     "data": {
      "text/plain": [
       "0.052266231114740706"
      ]
     },
     "execution_count": 38,
     "metadata": {},
     "output_type": "execute_result"
    }
   ],
   "source": [
    "f1_score(y_test, gs.predict(X_test['comments_clean']) )"
   ]
  },
  {
   "cell_type": "code",
   "execution_count": 39,
   "id": "ec952047-9a0c-4ec3-88c0-bc425a32de7e",
   "metadata": {},
   "outputs": [
    {
     "data": {
      "text/html": [
       "<div>\n",
       "<style scoped>\n",
       "    .dataframe tbody tr th:only-of-type {\n",
       "        vertical-align: middle;\n",
       "    }\n",
       "\n",
       "    .dataframe tbody tr th {\n",
       "        vertical-align: top;\n",
       "    }\n",
       "\n",
       "    .dataframe thead th {\n",
       "        text-align: right;\n",
       "    }\n",
       "</style>\n",
       "<table border=\"1\" class=\"dataframe\">\n",
       "  <thead>\n",
       "    <tr style=\"text-align: right;\">\n",
       "      <th></th>\n",
       "      <th>above_5th_percentile</th>\n",
       "      <th>below_5th_percentile</th>\n",
       "    </tr>\n",
       "  </thead>\n",
       "  <tbody>\n",
       "    <tr>\n",
       "      <th>0</th>\n",
       "      <td>0.771921</td>\n",
       "      <td>0.228079</td>\n",
       "    </tr>\n",
       "    <tr>\n",
       "      <th>1</th>\n",
       "      <td>0.510649</td>\n",
       "      <td>0.489351</td>\n",
       "    </tr>\n",
       "    <tr>\n",
       "      <th>2</th>\n",
       "      <td>0.275597</td>\n",
       "      <td>0.724403</td>\n",
       "    </tr>\n",
       "    <tr>\n",
       "      <th>3</th>\n",
       "      <td>0.243880</td>\n",
       "      <td>0.756120</td>\n",
       "    </tr>\n",
       "    <tr>\n",
       "      <th>4</th>\n",
       "      <td>0.274937</td>\n",
       "      <td>0.725063</td>\n",
       "    </tr>\n",
       "    <tr>\n",
       "      <th>...</th>\n",
       "      <td>...</td>\n",
       "      <td>...</td>\n",
       "    </tr>\n",
       "    <tr>\n",
       "      <th>29995</th>\n",
       "      <td>0.179158</td>\n",
       "      <td>0.820842</td>\n",
       "    </tr>\n",
       "    <tr>\n",
       "      <th>29996</th>\n",
       "      <td>0.471676</td>\n",
       "      <td>0.528324</td>\n",
       "    </tr>\n",
       "    <tr>\n",
       "      <th>29997</th>\n",
       "      <td>0.609453</td>\n",
       "      <td>0.390547</td>\n",
       "    </tr>\n",
       "    <tr>\n",
       "      <th>29998</th>\n",
       "      <td>0.407728</td>\n",
       "      <td>0.592272</td>\n",
       "    </tr>\n",
       "    <tr>\n",
       "      <th>29999</th>\n",
       "      <td>0.237200</td>\n",
       "      <td>0.762800</td>\n",
       "    </tr>\n",
       "  </tbody>\n",
       "</table>\n",
       "<p>30000 rows × 2 columns</p>\n",
       "</div>"
      ],
      "text/plain": [
       "       above_5th_percentile  below_5th_percentile\n",
       "0                  0.771921              0.228079\n",
       "1                  0.510649              0.489351\n",
       "2                  0.275597              0.724403\n",
       "3                  0.243880              0.756120\n",
       "4                  0.274937              0.725063\n",
       "...                     ...                   ...\n",
       "29995              0.179158              0.820842\n",
       "29996              0.471676              0.528324\n",
       "29997              0.609453              0.390547\n",
       "29998              0.407728              0.592272\n",
       "29999              0.237200              0.762800\n",
       "\n",
       "[30000 rows x 2 columns]"
      ]
     },
     "execution_count": 39,
     "metadata": {},
     "output_type": "execute_result"
    }
   ],
   "source": [
    "prob_df = pd.DataFrame(gs.predict_proba(gs.best_estimator_.named_steps.tf.get_feature_names_out() ), columns = ['above_5th_percentile', 'below_5th_percentile'])\n",
    "prob_df"
   ]
  },
  {
   "cell_type": "code",
   "execution_count": 40,
   "id": "7bf94716-aa8f-402a-8927-248d9dafa36a",
   "metadata": {},
   "outputs": [
    {
     "data": {
      "text/html": [
       "<div>\n",
       "<style scoped>\n",
       "    .dataframe tbody tr th:only-of-type {\n",
       "        vertical-align: middle;\n",
       "    }\n",
       "\n",
       "    .dataframe tbody tr th {\n",
       "        vertical-align: top;\n",
       "    }\n",
       "\n",
       "    .dataframe thead th {\n",
       "        text-align: right;\n",
       "    }\n",
       "</style>\n",
       "<table border=\"1\" class=\"dataframe\">\n",
       "  <thead>\n",
       "    <tr style=\"text-align: right;\">\n",
       "      <th></th>\n",
       "      <th>features</th>\n",
       "    </tr>\n",
       "  </thead>\n",
       "  <tbody>\n",
       "    <tr>\n",
       "      <th>0</th>\n",
       "      <td>00</td>\n",
       "    </tr>\n",
       "    <tr>\n",
       "      <th>1</th>\n",
       "      <td>00 pm</td>\n",
       "    </tr>\n",
       "    <tr>\n",
       "      <th>2</th>\n",
       "      <td>000</td>\n",
       "    </tr>\n",
       "    <tr>\n",
       "      <th>3</th>\n",
       "      <td>02h</td>\n",
       "    </tr>\n",
       "    <tr>\n",
       "      <th>4</th>\n",
       "      <td>02h du</td>\n",
       "    </tr>\n",
       "    <tr>\n",
       "      <th>...</th>\n",
       "      <td>...</td>\n",
       "    </tr>\n",
       "    <tr>\n",
       "      <th>29995</th>\n",
       "      <td>했지만 깨끗하였습니다 캐비닛과</td>\n",
       "    </tr>\n",
       "    <tr>\n",
       "      <th>29996</th>\n",
       "      <td>호스트는</td>\n",
       "    </tr>\n",
       "    <tr>\n",
       "      <th>29997</th>\n",
       "      <td>화장실</td>\n",
       "    </tr>\n",
       "    <tr>\n",
       "      <th>29998</th>\n",
       "      <td>화장실 욕실이</td>\n",
       "    </tr>\n",
       "    <tr>\n",
       "      <th>29999</th>\n",
       "      <td>화장실 욕실이 좁고</td>\n",
       "    </tr>\n",
       "  </tbody>\n",
       "</table>\n",
       "<p>30000 rows × 1 columns</p>\n",
       "</div>"
      ],
      "text/plain": [
       "               features\n",
       "0                    00\n",
       "1                 00 pm\n",
       "2                   000\n",
       "3                   02h\n",
       "4                02h du\n",
       "...                 ...\n",
       "29995  했지만 깨끗하였습니다 캐비닛과\n",
       "29996              호스트는\n",
       "29997               화장실\n",
       "29998           화장실 욕실이\n",
       "29999        화장실 욕실이 좁고\n",
       "\n",
       "[30000 rows x 1 columns]"
      ]
     },
     "execution_count": 40,
     "metadata": {},
     "output_type": "execute_result"
    }
   ],
   "source": [
    "feature_words = pd.DataFrame( gs.best_estimator_.named_steps.tf.get_feature_names_out(), columns = ['features'])\n",
    "feature_words"
   ]
  },
  {
   "cell_type": "code",
   "execution_count": 41,
   "id": "8925ba98-8480-4542-a399-6249cc681b1d",
   "metadata": {},
   "outputs": [
    {
     "data": {
      "text/html": [
       "<div>\n",
       "<style scoped>\n",
       "    .dataframe tbody tr th:only-of-type {\n",
       "        vertical-align: middle;\n",
       "    }\n",
       "\n",
       "    .dataframe tbody tr th {\n",
       "        vertical-align: top;\n",
       "    }\n",
       "\n",
       "    .dataframe thead th {\n",
       "        text-align: right;\n",
       "    }\n",
       "</style>\n",
       "<table border=\"1\" class=\"dataframe\">\n",
       "  <thead>\n",
       "    <tr style=\"text-align: right;\">\n",
       "      <th></th>\n",
       "      <th>features</th>\n",
       "      <th>above_5th_percentile</th>\n",
       "      <th>below_5th_percentile</th>\n",
       "    </tr>\n",
       "  </thead>\n",
       "  <tbody>\n",
       "    <tr>\n",
       "      <th>20214</th>\n",
       "      <td>place clean comfortable</td>\n",
       "      <td>0.999187</td>\n",
       "      <td>0.000813</td>\n",
       "    </tr>\n",
       "    <tr>\n",
       "      <th>5680</th>\n",
       "      <td>comfortable</td>\n",
       "      <td>0.998710</td>\n",
       "      <td>0.001290</td>\n",
       "    </tr>\n",
       "    <tr>\n",
       "      <th>15883</th>\n",
       "      <td>location perfect</td>\n",
       "      <td>0.998615</td>\n",
       "      <td>0.001385</td>\n",
       "    </tr>\n",
       "    <tr>\n",
       "      <th>26375</th>\n",
       "      <td>super clean comfortable</td>\n",
       "      <td>0.997984</td>\n",
       "      <td>0.002016</td>\n",
       "    </tr>\n",
       "    <tr>\n",
       "      <th>16355</th>\n",
       "      <td>loved stay</td>\n",
       "      <td>0.997896</td>\n",
       "      <td>0.002104</td>\n",
       "    </tr>\n",
       "    <tr>\n",
       "      <th>20470</th>\n",
       "      <td>place perfect</td>\n",
       "      <td>0.997842</td>\n",
       "      <td>0.002158</td>\n",
       "    </tr>\n",
       "    <tr>\n",
       "      <th>19776</th>\n",
       "      <td>perfect</td>\n",
       "      <td>0.997672</td>\n",
       "      <td>0.002328</td>\n",
       "    </tr>\n",
       "    <tr>\n",
       "      <th>25680</th>\n",
       "      <td>stay perfect</td>\n",
       "      <td>0.997487</td>\n",
       "      <td>0.002513</td>\n",
       "    </tr>\n",
       "    <tr>\n",
       "      <th>20209</th>\n",
       "      <td>place clean</td>\n",
       "      <td>0.997409</td>\n",
       "      <td>0.002591</td>\n",
       "    </tr>\n",
       "    <tr>\n",
       "      <th>26430</th>\n",
       "      <td>super responsive</td>\n",
       "      <td>0.996846</td>\n",
       "      <td>0.003154</td>\n",
       "    </tr>\n",
       "    <tr>\n",
       "      <th>26374</th>\n",
       "      <td>super clean</td>\n",
       "      <td>0.996721</td>\n",
       "      <td>0.003279</td>\n",
       "    </tr>\n",
       "    <tr>\n",
       "      <th>15717</th>\n",
       "      <td>location clean comfortable</td>\n",
       "      <td>0.996628</td>\n",
       "      <td>0.003372</td>\n",
       "    </tr>\n",
       "    <tr>\n",
       "      <th>20216</th>\n",
       "      <td>place clean cozy</td>\n",
       "      <td>0.996511</td>\n",
       "      <td>0.003489</td>\n",
       "    </tr>\n",
       "    <tr>\n",
       "      <th>1413</th>\n",
       "      <td>apartment comfortable</td>\n",
       "      <td>0.996359</td>\n",
       "      <td>0.003641</td>\n",
       "    </tr>\n",
       "    <tr>\n",
       "      <th>15716</th>\n",
       "      <td>location clean</td>\n",
       "      <td>0.996333</td>\n",
       "      <td>0.003667</td>\n",
       "    </tr>\n",
       "    <tr>\n",
       "      <th>16365</th>\n",
       "      <td>lovely</td>\n",
       "      <td>0.996234</td>\n",
       "      <td>0.003766</td>\n",
       "    </tr>\n",
       "    <tr>\n",
       "      <th>5686</th>\n",
       "      <td>comfortable apartment</td>\n",
       "      <td>0.995883</td>\n",
       "      <td>0.004117</td>\n",
       "    </tr>\n",
       "    <tr>\n",
       "      <th>12544</th>\n",
       "      <td>highly recommend</td>\n",
       "      <td>0.995813</td>\n",
       "      <td>0.004187</td>\n",
       "    </tr>\n",
       "    <tr>\n",
       "      <th>20164</th>\n",
       "      <td>place amazing</td>\n",
       "      <td>0.995769</td>\n",
       "      <td>0.004231</td>\n",
       "    </tr>\n",
       "    <tr>\n",
       "      <th>1373</th>\n",
       "      <td>apartment</td>\n",
       "      <td>0.995708</td>\n",
       "      <td>0.004292</td>\n",
       "    </tr>\n",
       "  </tbody>\n",
       "</table>\n",
       "</div>"
      ],
      "text/plain": [
       "                         features  above_5th_percentile  below_5th_percentile\n",
       "20214     place clean comfortable              0.999187              0.000813\n",
       "5680                  comfortable              0.998710              0.001290\n",
       "15883            location perfect              0.998615              0.001385\n",
       "26375     super clean comfortable              0.997984              0.002016\n",
       "16355                  loved stay              0.997896              0.002104\n",
       "20470               place perfect              0.997842              0.002158\n",
       "19776                     perfect              0.997672              0.002328\n",
       "25680                stay perfect              0.997487              0.002513\n",
       "20209                 place clean              0.997409              0.002591\n",
       "26430            super responsive              0.996846              0.003154\n",
       "26374                 super clean              0.996721              0.003279\n",
       "15717  location clean comfortable              0.996628              0.003372\n",
       "20216            place clean cozy              0.996511              0.003489\n",
       "1413        apartment comfortable              0.996359              0.003641\n",
       "15716              location clean              0.996333              0.003667\n",
       "16365                      lovely              0.996234              0.003766\n",
       "5686        comfortable apartment              0.995883              0.004117\n",
       "12544            highly recommend              0.995813              0.004187\n",
       "20164               place amazing              0.995769              0.004231\n",
       "1373                    apartment              0.995708              0.004292"
      ]
     },
     "execution_count": 41,
     "metadata": {},
     "output_type": "execute_result"
    }
   ],
   "source": [
    "word_probs = feature_words.join(prob_df)\n",
    "word_probs.sort_values('above_5th_percentile', ascending = False).head(20)"
   ]
  },
  {
   "cell_type": "markdown",
   "id": "63adcb59-ea11-49e1-a61a-77189c4ad94a",
   "metadata": {},
   "source": [
    "#### Still including Jasmine because using English only stop words in the model"
   ]
  },
  {
   "cell_type": "code",
   "execution_count": 42,
   "id": "c61c3e7b-d020-4f08-b34a-2ea4687bce2c",
   "metadata": {},
   "outputs": [
    {
     "data": {
      "text/html": [
       "<div>\n",
       "<style scoped>\n",
       "    .dataframe tbody tr th:only-of-type {\n",
       "        vertical-align: middle;\n",
       "    }\n",
       "\n",
       "    .dataframe tbody tr th {\n",
       "        vertical-align: top;\n",
       "    }\n",
       "\n",
       "    .dataframe thead th {\n",
       "        text-align: right;\n",
       "    }\n",
       "</style>\n",
       "<table border=\"1\" class=\"dataframe\">\n",
       "  <thead>\n",
       "    <tr style=\"text-align: right;\">\n",
       "      <th></th>\n",
       "      <th>features</th>\n",
       "      <th>above_5th_percentile</th>\n",
       "      <th>below_5th_percentile</th>\n",
       "    </tr>\n",
       "  </thead>\n",
       "  <tbody>\n",
       "    <tr>\n",
       "      <th>14045</th>\n",
       "      <td>jasmine</td>\n",
       "      <td>7.600454e-09</td>\n",
       "      <td>1.000000</td>\n",
       "    </tr>\n",
       "    <tr>\n",
       "      <th>14051</th>\n",
       "      <td>jasmine great</td>\n",
       "      <td>2.616849e-06</td>\n",
       "      <td>0.999997</td>\n",
       "    </tr>\n",
       "    <tr>\n",
       "      <th>14054</th>\n",
       "      <td>jasmine place</td>\n",
       "      <td>3.873161e-06</td>\n",
       "      <td>0.999996</td>\n",
       "    </tr>\n",
       "    <tr>\n",
       "      <th>29717</th>\n",
       "      <td>yousong</td>\n",
       "      <td>6.043139e-06</td>\n",
       "      <td>0.999994</td>\n",
       "    </tr>\n",
       "    <tr>\n",
       "      <th>14052</th>\n",
       "      <td>jasmine house</td>\n",
       "      <td>2.113706e-05</td>\n",
       "      <td>0.999979</td>\n",
       "    </tr>\n",
       "    <tr>\n",
       "      <th>7294</th>\n",
       "      <td>dee</td>\n",
       "      <td>3.126542e-05</td>\n",
       "      <td>0.999969</td>\n",
       "    </tr>\n",
       "    <tr>\n",
       "      <th>14057</th>\n",
       "      <td>jasmine responsive</td>\n",
       "      <td>3.641121e-05</td>\n",
       "      <td>0.999964</td>\n",
       "    </tr>\n",
       "    <tr>\n",
       "      <th>4824</th>\n",
       "      <td>christmas jasmine</td>\n",
       "      <td>4.153196e-05</td>\n",
       "      <td>0.999958</td>\n",
       "    </tr>\n",
       "    <tr>\n",
       "      <th>27192</th>\n",
       "      <td>todd</td>\n",
       "      <td>4.887241e-05</td>\n",
       "      <td>0.999951</td>\n",
       "    </tr>\n",
       "    <tr>\n",
       "      <th>3516</th>\n",
       "      <td>br jasmine</td>\n",
       "      <td>5.193904e-05</td>\n",
       "      <td>0.999948</td>\n",
       "    </tr>\n",
       "    <tr>\n",
       "      <th>12940</th>\n",
       "      <td>host jasmine</td>\n",
       "      <td>5.216828e-05</td>\n",
       "      <td>0.999948</td>\n",
       "    </tr>\n",
       "    <tr>\n",
       "      <th>5981</th>\n",
       "      <td>communication jasmine</td>\n",
       "      <td>5.314596e-05</td>\n",
       "      <td>0.999947</td>\n",
       "    </tr>\n",
       "    <tr>\n",
       "      <th>20696</th>\n",
       "      <td>planned jasmine</td>\n",
       "      <td>7.162543e-05</td>\n",
       "      <td>0.999928</td>\n",
       "    </tr>\n",
       "    <tr>\n",
       "      <th>25595</th>\n",
       "      <td>stay jasmine</td>\n",
       "      <td>7.833864e-05</td>\n",
       "      <td>0.999922</td>\n",
       "    </tr>\n",
       "    <tr>\n",
       "      <th>29718</th>\n",
       "      <td>yousong sharon</td>\n",
       "      <td>8.362360e-05</td>\n",
       "      <td>0.999916</td>\n",
       "    </tr>\n",
       "    <tr>\n",
       "      <th>7301</th>\n",
       "      <td>dee place</td>\n",
       "      <td>8.496323e-05</td>\n",
       "      <td>0.999915</td>\n",
       "    </tr>\n",
       "    <tr>\n",
       "      <th>6148</th>\n",
       "      <td>concierge</td>\n",
       "      <td>1.150566e-04</td>\n",
       "      <td>0.999885</td>\n",
       "    </tr>\n",
       "    <tr>\n",
       "      <th>14060</th>\n",
       "      <td>jasmine wonderful</td>\n",
       "      <td>1.216090e-04</td>\n",
       "      <td>0.999878</td>\n",
       "    </tr>\n",
       "    <tr>\n",
       "      <th>7297</th>\n",
       "      <td>dee great</td>\n",
       "      <td>1.567205e-04</td>\n",
       "      <td>0.999843</td>\n",
       "    </tr>\n",
       "    <tr>\n",
       "      <th>14049</th>\n",
       "      <td>jasmine fluid</td>\n",
       "      <td>1.832966e-04</td>\n",
       "      <td>0.999817</td>\n",
       "    </tr>\n",
       "  </tbody>\n",
       "</table>\n",
       "</div>"
      ],
      "text/plain": [
       "                    features  above_5th_percentile  below_5th_percentile\n",
       "14045                jasmine          7.600454e-09              1.000000\n",
       "14051          jasmine great          2.616849e-06              0.999997\n",
       "14054          jasmine place          3.873161e-06              0.999996\n",
       "29717                yousong          6.043139e-06              0.999994\n",
       "14052          jasmine house          2.113706e-05              0.999979\n",
       "7294                     dee          3.126542e-05              0.999969\n",
       "14057     jasmine responsive          3.641121e-05              0.999964\n",
       "4824       christmas jasmine          4.153196e-05              0.999958\n",
       "27192                   todd          4.887241e-05              0.999951\n",
       "3516              br jasmine          5.193904e-05              0.999948\n",
       "12940           host jasmine          5.216828e-05              0.999948\n",
       "5981   communication jasmine          5.314596e-05              0.999947\n",
       "20696        planned jasmine          7.162543e-05              0.999928\n",
       "25595           stay jasmine          7.833864e-05              0.999922\n",
       "29718         yousong sharon          8.362360e-05              0.999916\n",
       "7301               dee place          8.496323e-05              0.999915\n",
       "6148               concierge          1.150566e-04              0.999885\n",
       "14060      jasmine wonderful          1.216090e-04              0.999878\n",
       "7297               dee great          1.567205e-04              0.999843\n",
       "14049          jasmine fluid          1.832966e-04              0.999817"
      ]
     },
     "execution_count": 42,
     "metadata": {},
     "output_type": "execute_result"
    }
   ],
   "source": [
    "word_probs.sort_values('below_5th_percentile', ascending = False).head(20)"
   ]
  },
  {
   "cell_type": "code",
   "execution_count": null,
   "id": "f3513530-3ab7-49f0-b44c-4e7883d4a39b",
   "metadata": {},
   "outputs": [],
   "source": []
  }
 ],
 "metadata": {
  "kernelspec": {
   "display_name": "Python 3 (ipykernel)",
   "language": "python",
   "name": "python3"
  },
  "language_info": {
   "codemirror_mode": {
    "name": "ipython",
    "version": 3
   },
   "file_extension": ".py",
   "mimetype": "text/x-python",
   "name": "python",
   "nbconvert_exporter": "python",
   "pygments_lexer": "ipython3",
   "version": "3.11.7"
  }
 },
 "nbformat": 4,
 "nbformat_minor": 5
}
