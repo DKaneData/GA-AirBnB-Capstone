{
 "cells": [
  {
   "cell_type": "code",
   "execution_count": 1,
   "id": "0769cc41-4f4b-43a3-a73b-8c4fe40de675",
   "metadata": {},
   "outputs": [],
   "source": [
    "import pandas as pd\n",
    "import numpy as np\n",
    "import matplotlib.pyplot as plt\n",
    "import seaborn as sns\n",
    "\n",
    "from nltk.tokenize import sent_tokenize, word_tokenize, RegexpTokenizer\n",
    "\n",
    "from sklearn.feature_extraction.text import TfidfVectorizer\n",
    "\n",
    "from sklearn.model_selection import train_test_split, GridSearchCV\n",
    "from sklearn.pipeline import Pipeline\n",
    "from sklearn.metrics import ConfusionMatrixDisplay, RocCurveDisplay, confusion_matrix, classification_report, recall_score, precision_score, f1_score\n",
    "\n",
    "from sklearn.naive_bayes import MultinomialNB"
   ]
  },
  {
   "cell_type": "code",
   "execution_count": 2,
   "id": "6c8a33a6-f10b-4321-9669-ccd0604f2740",
   "metadata": {},
   "outputs": [
    {
     "data": {
      "text/html": [
       "<div>\n",
       "<style scoped>\n",
       "    .dataframe tbody tr th:only-of-type {\n",
       "        vertical-align: middle;\n",
       "    }\n",
       "\n",
       "    .dataframe tbody tr th {\n",
       "        vertical-align: top;\n",
       "    }\n",
       "\n",
       "    .dataframe thead th {\n",
       "        text-align: right;\n",
       "    }\n",
       "</style>\n",
       "<table border=\"1\" class=\"dataframe\">\n",
       "  <thead>\n",
       "    <tr style=\"text-align: right;\">\n",
       "      <th></th>\n",
       "      <th>listing_id</th>\n",
       "      <th>id</th>\n",
       "      <th>date</th>\n",
       "      <th>reviewer_id</th>\n",
       "      <th>reviewer_name</th>\n",
       "      <th>comments</th>\n",
       "      <th>avg_rating</th>\n",
       "      <th>avg_score_below_4</th>\n",
       "      <th>avg_score_below_5th_percentile</th>\n",
       "      <th>comments_clean</th>\n",
       "    </tr>\n",
       "  </thead>\n",
       "  <tbody>\n",
       "    <tr>\n",
       "      <th>119122</th>\n",
       "      <td>18288362</td>\n",
       "      <td>300153629</td>\n",
       "      <td>2018-08-01</td>\n",
       "      <td>1365558</td>\n",
       "      <td>Travis</td>\n",
       "      <td>incredible location and value in a quiet build...</td>\n",
       "      <td>4.854286</td>\n",
       "      <td>0</td>\n",
       "      <td>0</td>\n",
       "      <td>incredible location and value in a quiet build...</td>\n",
       "    </tr>\n",
       "    <tr>\n",
       "      <th>123686</th>\n",
       "      <td>18896504</td>\n",
       "      <td>554329507</td>\n",
       "      <td>2019-10-26</td>\n",
       "      <td>303367305</td>\n",
       "      <td>范黎明（Fan Liming）</td>\n",
       "      <td>Mrs. Louise is a great person.  She is very en...</td>\n",
       "      <td>4.628571</td>\n",
       "      <td>0</td>\n",
       "      <td>0</td>\n",
       "      <td>mrs louise is a great person she is very enthu...</td>\n",
       "    </tr>\n",
       "    <tr>\n",
       "      <th>273445</th>\n",
       "      <td>52636090</td>\n",
       "      <td>839911289207075691</td>\n",
       "      <td>2023-03-04</td>\n",
       "      <td>69531482</td>\n",
       "      <td>Kasee</td>\n",
       "      <td>This was just the place for me, my husband, an...</td>\n",
       "      <td>4.917143</td>\n",
       "      <td>0</td>\n",
       "      <td>0</td>\n",
       "      <td>this was just the place for me my husband and ...</td>\n",
       "    </tr>\n",
       "    <tr>\n",
       "      <th>127039</th>\n",
       "      <td>19207688</td>\n",
       "      <td>247171541</td>\n",
       "      <td>2018-03-27</td>\n",
       "      <td>21141080</td>\n",
       "      <td>Erin</td>\n",
       "      <td>Our trip with Thang was good. The room and the...</td>\n",
       "      <td>4.790000</td>\n",
       "      <td>0</td>\n",
       "      <td>0</td>\n",
       "      <td>our trip with thang was good the room and the ...</td>\n",
       "    </tr>\n",
       "    <tr>\n",
       "      <th>267534</th>\n",
       "      <td>51440218</td>\n",
       "      <td>867392838048833141</td>\n",
       "      <td>2023-04-11</td>\n",
       "      <td>477732420</td>\n",
       "      <td>Jari-Matti</td>\n",
       "      <td>Good location next to the center. Little bit s...</td>\n",
       "      <td>4.892857</td>\n",
       "      <td>0</td>\n",
       "      <td>0</td>\n",
       "      <td>good location next to the center little bit sm...</td>\n",
       "    </tr>\n",
       "  </tbody>\n",
       "</table>\n",
       "</div>"
      ],
      "text/plain": [
       "        listing_id                  id        date  reviewer_id  \\\n",
       "119122    18288362           300153629  2018-08-01      1365558   \n",
       "123686    18896504           554329507  2019-10-26    303367305   \n",
       "273445    52636090  839911289207075691  2023-03-04     69531482   \n",
       "127039    19207688           247171541  2018-03-27     21141080   \n",
       "267534    51440218  867392838048833141  2023-04-11    477732420   \n",
       "\n",
       "          reviewer_name                                           comments  \\\n",
       "119122           Travis  incredible location and value in a quiet build...   \n",
       "123686  范黎明（Fan Liming）  Mrs. Louise is a great person.  She is very en...   \n",
       "273445            Kasee  This was just the place for me, my husband, an...   \n",
       "127039             Erin  Our trip with Thang was good. The room and the...   \n",
       "267534       Jari-Matti  Good location next to the center. Little bit s...   \n",
       "\n",
       "        avg_rating  avg_score_below_4  avg_score_below_5th_percentile  \\\n",
       "119122    4.854286                  0                               0   \n",
       "123686    4.628571                  0                               0   \n",
       "273445    4.917143                  0                               0   \n",
       "127039    4.790000                  0                               0   \n",
       "267534    4.892857                  0                               0   \n",
       "\n",
       "                                           comments_clean  \n",
       "119122  incredible location and value in a quiet build...  \n",
       "123686  mrs louise is a great person she is very enthu...  \n",
       "273445  this was just the place for me my husband and ...  \n",
       "127039  our trip with thang was good the room and the ...  \n",
       "267534  good location next to the center little bit sm...  "
      ]
     },
     "execution_count": 2,
     "metadata": {},
     "output_type": "execute_result"
    }
   ],
   "source": [
    "df = pd.read_csv('../data/reviews_with_ratings_cleaned.csv', index_col = 'Unnamed: 0', keep_default_na = False)\n",
    "df.sample(5)"
   ]
  },
  {
   "cell_type": "code",
   "execution_count": 3,
   "id": "e4e71a4b-cb70-4828-a222-a3937d261e2f",
   "metadata": {},
   "outputs": [
    {
     "data": {
      "text/plain": [
       "listing_id                        0\n",
       "id                                0\n",
       "date                              0\n",
       "reviewer_id                       0\n",
       "reviewer_name                     0\n",
       "comments                          0\n",
       "avg_rating                        0\n",
       "avg_score_below_4                 0\n",
       "avg_score_below_5th_percentile    0\n",
       "comments_clean                    0\n",
       "dtype: int64"
      ]
     },
     "execution_count": 3,
     "metadata": {},
     "output_type": "execute_result"
    }
   ],
   "source": [
    "df.isnull().sum()"
   ]
  },
  {
   "cell_type": "markdown",
   "id": "5841c0b6-73bf-41a6-9e97-41be8d37b515",
   "metadata": {},
   "source": [
    "#### Look at below 5th percentile"
   ]
  },
  {
   "cell_type": "code",
   "execution_count": 4,
   "id": "b0fb48aa-e3a9-4771-81fa-774e1a66a5a2",
   "metadata": {},
   "outputs": [
    {
     "name": "stdout",
     "output_type": "stream",
     "text": [
      "avg_score_below_5th_percentile\n",
      "0    320774\n",
      "1      2033\n",
      "Name: count, dtype: int64\n",
      "******************************\n"
     ]
    },
    {
     "data": {
      "text/plain": [
       "avg_score_below_5th_percentile\n",
       "0    0.993702\n",
       "1    0.006298\n",
       "Name: proportion, dtype: float64"
      ]
     },
     "execution_count": 4,
     "metadata": {},
     "output_type": "execute_result"
    }
   ],
   "source": [
    "print(df['avg_score_below_5th_percentile'].value_counts()),\n",
    "print('*'*30)\n",
    "df['avg_score_below_5th_percentile'].value_counts(normalize = True)"
   ]
  },
  {
   "cell_type": "code",
   "execution_count": 5,
   "id": "52e049c0-0b73-4a70-839a-b3619169aec4",
   "metadata": {},
   "outputs": [
    {
     "data": {
      "text/plain": [
       "(322807,)"
      ]
     },
     "execution_count": 5,
     "metadata": {},
     "output_type": "execute_result"
    }
   ],
   "source": [
    "X = df['comments_clean']\n",
    "X.shape"
   ]
  },
  {
   "cell_type": "code",
   "execution_count": 6,
   "id": "5f1941b3-709b-4532-a446-07b3cce33819",
   "metadata": {},
   "outputs": [],
   "source": [
    "y = df['avg_score_below_5th_percentile']"
   ]
  },
  {
   "cell_type": "code",
   "execution_count": 7,
   "id": "dfe199e2-b5f7-455f-bead-b418cec6ba79",
   "metadata": {},
   "outputs": [],
   "source": [
    "X_train, X_test, y_train, y_test = train_test_split(X, y, random_state = 42, stratify = y)"
   ]
  },
  {
   "cell_type": "markdown",
   "id": "026c8a62-2d78-425c-b693-82d58fde4111",
   "metadata": {},
   "source": [
    "#### Running Multinomial Naive Bayes instead of a Logistic Regression"
   ]
  },
  {
   "cell_type": "markdown",
   "id": "fc60630b-6492-4fd2-aa24-37e39305aacf",
   "metadata": {},
   "source": [
    "#### Running just the best parameters from the model below"
   ]
  },
  {
   "cell_type": "code",
   "execution_count": 10,
   "id": "a8fdafd2-d87c-4300-bc3d-04d8450b3c87",
   "metadata": {},
   "outputs": [],
   "source": [
    "pipe_short = Pipeline([\n",
    "    ('tf', TfidfVectorizer() ),\n",
    "    ('nb', MultinomialNB() )\n",
    "])"
   ]
  },
  {
   "cell_type": "code",
   "execution_count": 11,
   "id": "8d162add-5e7b-4d3f-9f09-8363587bf234",
   "metadata": {},
   "outputs": [],
   "source": [
    "pipe_params_short = {\n",
    "    'tf__stop_words' : ['english'],\n",
    "    'tf__max_features' : [5_000], \n",
    "    'tf__min_df' : [2], # Minimum number of times a word needs to appear\n",
    "    'tf__ngram_range' : [ (1,2) ]\n",
    "}"
   ]
  },
  {
   "cell_type": "code",
   "execution_count": 12,
   "id": "248daef0-35c5-4439-8826-e4251ad43d68",
   "metadata": {},
   "outputs": [],
   "source": [
    "gs_short = GridSearchCV(pipe_short, pipe_params_short, n_jobs = -1, \n",
    "                  verbose = 10)"
   ]
  },
  {
   "cell_type": "code",
   "execution_count": 13,
   "id": "f60e3550-ad7e-4996-b3ca-c5ec7753171a",
   "metadata": {},
   "outputs": [
    {
     "name": "stdout",
     "output_type": "stream",
     "text": [
      "Fitting 5 folds for each of 1 candidates, totalling 5 fits\n"
     ]
    },
    {
     "data": {
      "text/html": [
       "<style>#sk-container-id-1 {color: black;background-color: white;}#sk-container-id-1 pre{padding: 0;}#sk-container-id-1 div.sk-toggleable {background-color: white;}#sk-container-id-1 label.sk-toggleable__label {cursor: pointer;display: block;width: 100%;margin-bottom: 0;padding: 0.3em;box-sizing: border-box;text-align: center;}#sk-container-id-1 label.sk-toggleable__label-arrow:before {content: \"▸\";float: left;margin-right: 0.25em;color: #696969;}#sk-container-id-1 label.sk-toggleable__label-arrow:hover:before {color: black;}#sk-container-id-1 div.sk-estimator:hover label.sk-toggleable__label-arrow:before {color: black;}#sk-container-id-1 div.sk-toggleable__content {max-height: 0;max-width: 0;overflow: hidden;text-align: left;background-color: #f0f8ff;}#sk-container-id-1 div.sk-toggleable__content pre {margin: 0.2em;color: black;border-radius: 0.25em;background-color: #f0f8ff;}#sk-container-id-1 input.sk-toggleable__control:checked~div.sk-toggleable__content {max-height: 200px;max-width: 100%;overflow: auto;}#sk-container-id-1 input.sk-toggleable__control:checked~label.sk-toggleable__label-arrow:before {content: \"▾\";}#sk-container-id-1 div.sk-estimator input.sk-toggleable__control:checked~label.sk-toggleable__label {background-color: #d4ebff;}#sk-container-id-1 div.sk-label input.sk-toggleable__control:checked~label.sk-toggleable__label {background-color: #d4ebff;}#sk-container-id-1 input.sk-hidden--visually {border: 0;clip: rect(1px 1px 1px 1px);clip: rect(1px, 1px, 1px, 1px);height: 1px;margin: -1px;overflow: hidden;padding: 0;position: absolute;width: 1px;}#sk-container-id-1 div.sk-estimator {font-family: monospace;background-color: #f0f8ff;border: 1px dotted black;border-radius: 0.25em;box-sizing: border-box;margin-bottom: 0.5em;}#sk-container-id-1 div.sk-estimator:hover {background-color: #d4ebff;}#sk-container-id-1 div.sk-parallel-item::after {content: \"\";width: 100%;border-bottom: 1px solid gray;flex-grow: 1;}#sk-container-id-1 div.sk-label:hover label.sk-toggleable__label {background-color: #d4ebff;}#sk-container-id-1 div.sk-serial::before {content: \"\";position: absolute;border-left: 1px solid gray;box-sizing: border-box;top: 0;bottom: 0;left: 50%;z-index: 0;}#sk-container-id-1 div.sk-serial {display: flex;flex-direction: column;align-items: center;background-color: white;padding-right: 0.2em;padding-left: 0.2em;position: relative;}#sk-container-id-1 div.sk-item {position: relative;z-index: 1;}#sk-container-id-1 div.sk-parallel {display: flex;align-items: stretch;justify-content: center;background-color: white;position: relative;}#sk-container-id-1 div.sk-item::before, #sk-container-id-1 div.sk-parallel-item::before {content: \"\";position: absolute;border-left: 1px solid gray;box-sizing: border-box;top: 0;bottom: 0;left: 50%;z-index: -1;}#sk-container-id-1 div.sk-parallel-item {display: flex;flex-direction: column;z-index: 1;position: relative;background-color: white;}#sk-container-id-1 div.sk-parallel-item:first-child::after {align-self: flex-end;width: 50%;}#sk-container-id-1 div.sk-parallel-item:last-child::after {align-self: flex-start;width: 50%;}#sk-container-id-1 div.sk-parallel-item:only-child::after {width: 0;}#sk-container-id-1 div.sk-dashed-wrapped {border: 1px dashed gray;margin: 0 0.4em 0.5em 0.4em;box-sizing: border-box;padding-bottom: 0.4em;background-color: white;}#sk-container-id-1 div.sk-label label {font-family: monospace;font-weight: bold;display: inline-block;line-height: 1.2em;}#sk-container-id-1 div.sk-label-container {text-align: center;}#sk-container-id-1 div.sk-container {/* jupyter's `normalize.less` sets `[hidden] { display: none; }` but bootstrap.min.css set `[hidden] { display: none !important; }` so we also need the `!important` here to be able to override the default hidden behavior on the sphinx rendered scikit-learn.org. See: https://github.com/scikit-learn/scikit-learn/issues/21755 */display: inline-block !important;position: relative;}#sk-container-id-1 div.sk-text-repr-fallback {display: none;}</style><div id=\"sk-container-id-1\" class=\"sk-top-container\"><div class=\"sk-text-repr-fallback\"><pre>GridSearchCV(estimator=Pipeline(steps=[(&#x27;tf&#x27;, TfidfVectorizer()),\n",
       "                                       (&#x27;nb&#x27;, MultinomialNB())]),\n",
       "             n_jobs=-1,\n",
       "             param_grid={&#x27;tf__max_features&#x27;: [5000], &#x27;tf__min_df&#x27;: [2],\n",
       "                         &#x27;tf__ngram_range&#x27;: [(1, 2)],\n",
       "                         &#x27;tf__stop_words&#x27;: [&#x27;english&#x27;]},\n",
       "             verbose=10)</pre><b>In a Jupyter environment, please rerun this cell to show the HTML representation or trust the notebook. <br />On GitHub, the HTML representation is unable to render, please try loading this page with nbviewer.org.</b></div><div class=\"sk-container\" hidden><div class=\"sk-item sk-dashed-wrapped\"><div class=\"sk-label-container\"><div class=\"sk-label sk-toggleable\"><input class=\"sk-toggleable__control sk-hidden--visually\" id=\"sk-estimator-id-1\" type=\"checkbox\" ><label for=\"sk-estimator-id-1\" class=\"sk-toggleable__label sk-toggleable__label-arrow\">GridSearchCV</label><div class=\"sk-toggleable__content\"><pre>GridSearchCV(estimator=Pipeline(steps=[(&#x27;tf&#x27;, TfidfVectorizer()),\n",
       "                                       (&#x27;nb&#x27;, MultinomialNB())]),\n",
       "             n_jobs=-1,\n",
       "             param_grid={&#x27;tf__max_features&#x27;: [5000], &#x27;tf__min_df&#x27;: [2],\n",
       "                         &#x27;tf__ngram_range&#x27;: [(1, 2)],\n",
       "                         &#x27;tf__stop_words&#x27;: [&#x27;english&#x27;]},\n",
       "             verbose=10)</pre></div></div></div><div class=\"sk-parallel\"><div class=\"sk-parallel-item\"><div class=\"sk-item\"><div class=\"sk-label-container\"><div class=\"sk-label sk-toggleable\"><input class=\"sk-toggleable__control sk-hidden--visually\" id=\"sk-estimator-id-2\" type=\"checkbox\" ><label for=\"sk-estimator-id-2\" class=\"sk-toggleable__label sk-toggleable__label-arrow\">estimator: Pipeline</label><div class=\"sk-toggleable__content\"><pre>Pipeline(steps=[(&#x27;tf&#x27;, TfidfVectorizer()), (&#x27;nb&#x27;, MultinomialNB())])</pre></div></div></div><div class=\"sk-serial\"><div class=\"sk-item\"><div class=\"sk-serial\"><div class=\"sk-item\"><div class=\"sk-estimator sk-toggleable\"><input class=\"sk-toggleable__control sk-hidden--visually\" id=\"sk-estimator-id-3\" type=\"checkbox\" ><label for=\"sk-estimator-id-3\" class=\"sk-toggleable__label sk-toggleable__label-arrow\">TfidfVectorizer</label><div class=\"sk-toggleable__content\"><pre>TfidfVectorizer()</pre></div></div></div><div class=\"sk-item\"><div class=\"sk-estimator sk-toggleable\"><input class=\"sk-toggleable__control sk-hidden--visually\" id=\"sk-estimator-id-4\" type=\"checkbox\" ><label for=\"sk-estimator-id-4\" class=\"sk-toggleable__label sk-toggleable__label-arrow\">MultinomialNB</label><div class=\"sk-toggleable__content\"><pre>MultinomialNB()</pre></div></div></div></div></div></div></div></div></div></div></div></div>"
      ],
      "text/plain": [
       "GridSearchCV(estimator=Pipeline(steps=[('tf', TfidfVectorizer()),\n",
       "                                       ('nb', MultinomialNB())]),\n",
       "             n_jobs=-1,\n",
       "             param_grid={'tf__max_features': [5000], 'tf__min_df': [2],\n",
       "                         'tf__ngram_range': [(1, 2)],\n",
       "                         'tf__stop_words': ['english']},\n",
       "             verbose=10)"
      ]
     },
     "execution_count": 13,
     "metadata": {},
     "output_type": "execute_result"
    }
   ],
   "source": [
    "gs_short.fit(X_train, y_train)"
   ]
  },
  {
   "cell_type": "code",
   "execution_count": 14,
   "id": "ad165318-1806-4b49-b103-786fde6be17b",
   "metadata": {},
   "outputs": [
    {
     "data": {
      "text/plain": [
       "0.0"
      ]
     },
     "execution_count": 14,
     "metadata": {},
     "output_type": "execute_result"
    }
   ],
   "source": [
    "recall_score(y_test, gs_short.predict(X_test) )"
   ]
  },
  {
   "cell_type": "code",
   "execution_count": 15,
   "id": "b6c62a59-1f30-4e04-9343-31d3b84d347a",
   "metadata": {},
   "outputs": [
    {
     "data": {
      "text/plain": [
       "0.0"
      ]
     },
     "execution_count": 15,
     "metadata": {},
     "output_type": "execute_result"
    }
   ],
   "source": [
    "f1_score(y_test, gs_short.predict(X_test) )"
   ]
  },
  {
   "cell_type": "code",
   "execution_count": 16,
   "id": "2cab36dc-0723-4991-a6e2-abd411819cc8",
   "metadata": {},
   "outputs": [
    {
     "data": {
      "image/png": "[encoded data removed]",
      "text/plain": [
       "<Figure size 640x480 with 2 Axes>"
      ]
     },
     "metadata": {},
     "output_type": "display_data"
    }
   ],
   "source": [
    "ConfusionMatrixDisplay.from_estimator(gs_short, X_test, y_test);"
   ]
  },
  {
   "cell_type": "markdown",
   "id": "680a1e9d-5591-49af-a9e3-f27144eca3bf",
   "metadata": {},
   "source": [
    "#### Full Grid Search parameters"
   ]
  },
  {
   "cell_type": "code",
   "execution_count": 32,
   "id": "15fb78f0-55b5-41b9-a053-10194ae08cc9",
   "metadata": {},
   "outputs": [],
   "source": [
    "pipe = Pipeline([\n",
    "    ('tf', TfidfVectorizer() ),\n",
    "    ('nb', MultinomialNB() )\n",
    "])"
   ]
  },
  {
   "cell_type": "code",
   "execution_count": 33,
   "id": "7d1b83a6-7a67-4296-b5f8-6273966ec5c3",
   "metadata": {},
   "outputs": [],
   "source": [
    "pipe_params = {\n",
    "    'tf__stop_words' : ['english'],\n",
    "    'tf__max_features' : [5_000, 10_000, 30_000], \n",
    "    'tf__min_df' : [2 ,5, 10, 25], # Minimum number of times a word needs to appear\n",
    "    'tf__ngram_range' : [ (1,1), (1,2), (1,3) ]\n",
    "}"
   ]
  },
  {
   "cell_type": "code",
   "execution_count": 34,
   "id": "e99b5a87-d9a6-4643-a828-68671d4dbcca",
   "metadata": {},
   "outputs": [],
   "source": [
    "gs = GridSearchCV(pipe, pipe_params, n_jobs = -1, \n",
    "                  verbose = 10)"
   ]
  },
  {
   "cell_type": "code",
   "execution_count": 35,
   "id": "14bcf5d9-a252-4b9b-b92a-b4c7cb7fc3d2",
   "metadata": {},
   "outputs": [
    {
     "name": "stdout",
     "output_type": "stream",
     "text": [
      "Fitting 5 folds for each of 36 candidates, totalling 180 fits\n"
     ]
    },
    {
     "data": {
      "text/html": [
       "<style>#sk-container-id-2 {color: black;background-color: white;}#sk-container-id-2 pre{padding: 0;}#sk-container-id-2 div.sk-toggleable {background-color: white;}#sk-container-id-2 label.sk-toggleable__label {cursor: pointer;display: block;width: 100%;margin-bottom: 0;padding: 0.3em;box-sizing: border-box;text-align: center;}#sk-container-id-2 label.sk-toggleable__label-arrow:before {content: \"▸\";float: left;margin-right: 0.25em;color: #696969;}#sk-container-id-2 label.sk-toggleable__label-arrow:hover:before {color: black;}#sk-container-id-2 div.sk-estimator:hover label.sk-toggleable__label-arrow:before {color: black;}#sk-container-id-2 div.sk-toggleable__content {max-height: 0;max-width: 0;overflow: hidden;text-align: left;background-color: #f0f8ff;}#sk-container-id-2 div.sk-toggleable__content pre {margin: 0.2em;color: black;border-radius: 0.25em;background-color: #f0f8ff;}#sk-container-id-2 input.sk-toggleable__control:checked~div.sk-toggleable__content {max-height: 200px;max-width: 100%;overflow: auto;}#sk-container-id-2 input.sk-toggleable__control:checked~label.sk-toggleable__label-arrow:before {content: \"▾\";}#sk-container-id-2 div.sk-estimator input.sk-toggleable__control:checked~label.sk-toggleable__label {background-color: #d4ebff;}#sk-container-id-2 div.sk-label input.sk-toggleable__control:checked~label.sk-toggleable__label {background-color: #d4ebff;}#sk-container-id-2 input.sk-hidden--visually {border: 0;clip: rect(1px 1px 1px 1px);clip: rect(1px, 1px, 1px, 1px);height: 1px;margin: -1px;overflow: hidden;padding: 0;position: absolute;width: 1px;}#sk-container-id-2 div.sk-estimator {font-family: monospace;background-color: #f0f8ff;border: 1px dotted black;border-radius: 0.25em;box-sizing: border-box;margin-bottom: 0.5em;}#sk-container-id-2 div.sk-estimator:hover {background-color: #d4ebff;}#sk-container-id-2 div.sk-parallel-item::after {content: \"\";width: 100%;border-bottom: 1px solid gray;flex-grow: 1;}#sk-container-id-2 div.sk-label:hover label.sk-toggleable__label {background-color: #d4ebff;}#sk-container-id-2 div.sk-serial::before {content: \"\";position: absolute;border-left: 1px solid gray;box-sizing: border-box;top: 0;bottom: 0;left: 50%;z-index: 0;}#sk-container-id-2 div.sk-serial {display: flex;flex-direction: column;align-items: center;background-color: white;padding-right: 0.2em;padding-left: 0.2em;position: relative;}#sk-container-id-2 div.sk-item {position: relative;z-index: 1;}#sk-container-id-2 div.sk-parallel {display: flex;align-items: stretch;justify-content: center;background-color: white;position: relative;}#sk-container-id-2 div.sk-item::before, #sk-container-id-2 div.sk-parallel-item::before {content: \"\";position: absolute;border-left: 1px solid gray;box-sizing: border-box;top: 0;bottom: 0;left: 50%;z-index: -1;}#sk-container-id-2 div.sk-parallel-item {display: flex;flex-direction: column;z-index: 1;position: relative;background-color: white;}#sk-container-id-2 div.sk-parallel-item:first-child::after {align-self: flex-end;width: 50%;}#sk-container-id-2 div.sk-parallel-item:last-child::after {align-self: flex-start;width: 50%;}#sk-container-id-2 div.sk-parallel-item:only-child::after {width: 0;}#sk-container-id-2 div.sk-dashed-wrapped {border: 1px dashed gray;margin: 0 0.4em 0.5em 0.4em;box-sizing: border-box;padding-bottom: 0.4em;background-color: white;}#sk-container-id-2 div.sk-label label {font-family: monospace;font-weight: bold;display: inline-block;line-height: 1.2em;}#sk-container-id-2 div.sk-label-container {text-align: center;}#sk-container-id-2 div.sk-container {/* jupyter's `normalize.less` sets `[hidden] { display: none; }` but bootstrap.min.css set `[hidden] { display: none !important; }` so we also need the `!important` here to be able to override the default hidden behavior on the sphinx rendered scikit-learn.org. See: https://github.com/scikit-learn/scikit-learn/issues/21755 */display: inline-block !important;position: relative;}#sk-container-id-2 div.sk-text-repr-fallback {display: none;}</style><div id=\"sk-container-id-2\" class=\"sk-top-container\"><div class=\"sk-text-repr-fallback\"><pre>GridSearchCV(estimator=Pipeline(steps=[(&#x27;tf&#x27;, TfidfVectorizer()),\n",
       "                                       (&#x27;nb&#x27;, MultinomialNB())]),\n",
       "             n_jobs=-1,\n",
       "             param_grid={&#x27;tf__max_features&#x27;: [5000, 10000, 30000],\n",
       "                         &#x27;tf__min_df&#x27;: [2, 5, 10, 25],\n",
       "                         &#x27;tf__ngram_range&#x27;: [(1, 1), (1, 2), (1, 3)],\n",
       "                         &#x27;tf__stop_words&#x27;: [&#x27;english&#x27;]},\n",
       "             verbose=10)</pre><b>In a Jupyter environment, please rerun this cell to show the HTML representation or trust the notebook. <br />On GitHub, the HTML representation is unable to render, please try loading this page with nbviewer.org.</b></div><div class=\"sk-container\" hidden><div class=\"sk-item sk-dashed-wrapped\"><div class=\"sk-label-container\"><div class=\"sk-label sk-toggleable\"><input class=\"sk-toggleable__control sk-hidden--visually\" id=\"sk-estimator-id-5\" type=\"checkbox\" ><label for=\"sk-estimator-id-5\" class=\"sk-toggleable__label sk-toggleable__label-arrow\">GridSearchCV</label><div class=\"sk-toggleable__content\"><pre>GridSearchCV(estimator=Pipeline(steps=[(&#x27;tf&#x27;, TfidfVectorizer()),\n",
       "                                       (&#x27;nb&#x27;, MultinomialNB())]),\n",
       "             n_jobs=-1,\n",
       "             param_grid={&#x27;tf__max_features&#x27;: [5000, 10000, 30000],\n",
       "                         &#x27;tf__min_df&#x27;: [2, 5, 10, 25],\n",
       "                         &#x27;tf__ngram_range&#x27;: [(1, 1), (1, 2), (1, 3)],\n",
       "                         &#x27;tf__stop_words&#x27;: [&#x27;english&#x27;]},\n",
       "             verbose=10)</pre></div></div></div><div class=\"sk-parallel\"><div class=\"sk-parallel-item\"><div class=\"sk-item\"><div class=\"sk-label-container\"><div class=\"sk-label sk-toggleable\"><input class=\"sk-toggleable__control sk-hidden--visually\" id=\"sk-estimator-id-6\" type=\"checkbox\" ><label for=\"sk-estimator-id-6\" class=\"sk-toggleable__label sk-toggleable__label-arrow\">estimator: Pipeline</label><div class=\"sk-toggleable__content\"><pre>Pipeline(steps=[(&#x27;tf&#x27;, TfidfVectorizer()), (&#x27;nb&#x27;, MultinomialNB())])</pre></div></div></div><div class=\"sk-serial\"><div class=\"sk-item\"><div class=\"sk-serial\"><div class=\"sk-item\"><div class=\"sk-estimator sk-toggleable\"><input class=\"sk-toggleable__control sk-hidden--visually\" id=\"sk-estimator-id-7\" type=\"checkbox\" ><label for=\"sk-estimator-id-7\" class=\"sk-toggleable__label sk-toggleable__label-arrow\">TfidfVectorizer</label><div class=\"sk-toggleable__content\"><pre>TfidfVectorizer()</pre></div></div></div><div class=\"sk-item\"><div class=\"sk-estimator sk-toggleable\"><input class=\"sk-toggleable__control sk-hidden--visually\" id=\"sk-estimator-id-8\" type=\"checkbox\" ><label for=\"sk-estimator-id-8\" class=\"sk-toggleable__label sk-toggleable__label-arrow\">MultinomialNB</label><div class=\"sk-toggleable__content\"><pre>MultinomialNB()</pre></div></div></div></div></div></div></div></div></div></div></div></div>"
      ],
      "text/plain": [
       "GridSearchCV(estimator=Pipeline(steps=[('tf', TfidfVectorizer()),\n",
       "                                       ('nb', MultinomialNB())]),\n",
       "             n_jobs=-1,\n",
       "             param_grid={'tf__max_features': [5000, 10000, 30000],\n",
       "                         'tf__min_df': [2, 5, 10, 25],\n",
       "                         'tf__ngram_range': [(1, 1), (1, 2), (1, 3)],\n",
       "                         'tf__stop_words': ['english']},\n",
       "             verbose=10)"
      ]
     },
     "execution_count": 35,
     "metadata": {},
     "output_type": "execute_result"
    }
   ],
   "source": [
    "gs.fit(X_train, y_train)"
   ]
  },
  {
   "cell_type": "markdown",
   "id": "c27b34b3-d1ed-457b-a011-9d61df5d9d82",
   "metadata": {},
   "source": [
    "#### Best Params - Max Features is 5000, min_df is 2, n_gram range is (1,2)"
   ]
  },
  {
   "cell_type": "code",
   "execution_count": 37,
   "id": "ece599f1-0fb4-45c2-8f5c-73b5a7b08897",
   "metadata": {},
   "outputs": [
    {
     "data": {
      "text/plain": [
       "{'tf__max_features': 5000,\n",
       " 'tf__min_df': 2,\n",
       " 'tf__ngram_range': (1, 2),\n",
       " 'tf__stop_words': 'english'}"
      ]
     },
     "execution_count": 37,
     "metadata": {},
     "output_type": "execute_result"
    }
   ],
   "source": [
    "gs.best_params_"
   ]
  },
  {
   "cell_type": "code",
   "execution_count": 36,
   "id": "00f32944-44bc-4126-ab05-61b27841c24d",
   "metadata": {},
   "outputs": [
    {
     "data": {
      "text/plain": [
       "0.9937010801098698"
      ]
     },
     "execution_count": 36,
     "metadata": {},
     "output_type": "execute_result"
    }
   ],
   "source": [
    "gs.best_score_"
   ]
  },
  {
   "cell_type": "markdown",
   "id": "c6917934-f2d2-4704-af16-47f0c37ae362",
   "metadata": {},
   "source": [
    "#### Best score is 99.3% - but similar to majority class"
   ]
  },
  {
   "cell_type": "code",
   "execution_count": 38,
   "id": "dc8827be-394e-458d-8d30-c1e3c2479b2f",
   "metadata": {},
   "outputs": [
    {
     "data": {
      "text/plain": [
       "-1.0391130714770824e-06"
      ]
     },
     "execution_count": 38,
     "metadata": {},
     "output_type": "execute_result"
    }
   ],
   "source": [
    "gs.best_score_ - df['avg_score_below_5th_percentile'].value_counts(normalize = True)[0]"
   ]
  },
  {
   "cell_type": "markdown",
   "id": "4f6a7633-4c61-443e-be99-0f2acf6a01d2",
   "metadata": {},
   "source": [
    "#### It never predicts the minority class"
   ]
  },
  {
   "cell_type": "code",
   "execution_count": 39,
   "id": "dff0b641-abef-4deb-9f31-3ab9861ee69e",
   "metadata": {},
   "outputs": [
    {
     "data": {
      "image/png": "[encoded data removed]",
      "text/plain": [
       "<Figure size 640x480 with 2 Axes>"
      ]
     },
     "metadata": {},
     "output_type": "display_data"
    }
   ],
   "source": [
    "ConfusionMatrixDisplay.from_estimator(gs, X_test, y_test);"
   ]
  },
  {
   "cell_type": "code",
   "execution_count": 41,
   "id": "2e8f7e61-5e18-4737-baf4-436466c0eee8",
   "metadata": {},
   "outputs": [
    {
     "data": {
      "text/plain": [
       "0.0"
      ]
     },
     "execution_count": 41,
     "metadata": {},
     "output_type": "execute_result"
    }
   ],
   "source": [
    "recall_score(y_test, gs.predict(X_test))"
   ]
  },
  {
   "cell_type": "code",
   "execution_count": 17,
   "id": "8885ac00-c951-48e1-84ae-5714c13767be",
   "metadata": {},
   "outputs": [
    {
     "data": {
      "text/html": [
       "<div>\n",
       "<style scoped>\n",
       "    .dataframe tbody tr th:only-of-type {\n",
       "        vertical-align: middle;\n",
       "    }\n",
       "\n",
       "    .dataframe tbody tr th {\n",
       "        vertical-align: top;\n",
       "    }\n",
       "\n",
       "    .dataframe thead th {\n",
       "        text-align: right;\n",
       "    }\n",
       "</style>\n",
       "<table border=\"1\" class=\"dataframe\">\n",
       "  <thead>\n",
       "    <tr style=\"text-align: right;\">\n",
       "      <th></th>\n",
       "      <th>above_5th_percentile</th>\n",
       "      <th>below_5th_percentile</th>\n",
       "    </tr>\n",
       "  </thead>\n",
       "  <tbody>\n",
       "    <tr>\n",
       "      <th>0</th>\n",
       "      <td>0.906198</td>\n",
       "      <td>0.093802</td>\n",
       "    </tr>\n",
       "    <tr>\n",
       "      <th>1</th>\n",
       "      <td>0.728976</td>\n",
       "      <td>0.271024</td>\n",
       "    </tr>\n",
       "    <tr>\n",
       "      <th>2</th>\n",
       "      <td>0.622167</td>\n",
       "      <td>0.377833</td>\n",
       "    </tr>\n",
       "    <tr>\n",
       "      <th>3</th>\n",
       "      <td>0.716586</td>\n",
       "      <td>0.283414</td>\n",
       "    </tr>\n",
       "    <tr>\n",
       "      <th>4</th>\n",
       "      <td>0.696334</td>\n",
       "      <td>0.303666</td>\n",
       "    </tr>\n",
       "    <tr>\n",
       "      <th>...</th>\n",
       "      <td>...</td>\n",
       "      <td>...</td>\n",
       "    </tr>\n",
       "    <tr>\n",
       "      <th>29995</th>\n",
       "      <td>0.898788</td>\n",
       "      <td>0.101212</td>\n",
       "    </tr>\n",
       "    <tr>\n",
       "      <th>29996</th>\n",
       "      <td>0.093186</td>\n",
       "      <td>0.906814</td>\n",
       "    </tr>\n",
       "    <tr>\n",
       "      <th>29997</th>\n",
       "      <td>0.910798</td>\n",
       "      <td>0.089202</td>\n",
       "    </tr>\n",
       "    <tr>\n",
       "      <th>29998</th>\n",
       "      <td>0.907113</td>\n",
       "      <td>0.092887</td>\n",
       "    </tr>\n",
       "    <tr>\n",
       "      <th>29999</th>\n",
       "      <td>0.868868</td>\n",
       "      <td>0.131132</td>\n",
       "    </tr>\n",
       "  </tbody>\n",
       "</table>\n",
       "<p>30000 rows × 2 columns</p>\n",
       "</div>"
      ],
      "text/plain": [
       "       above_5th_percentile  below_5th_percentile\n",
       "0                  0.906198              0.093802\n",
       "1                  0.728976              0.271024\n",
       "2                  0.622167              0.377833\n",
       "3                  0.716586              0.283414\n",
       "4                  0.696334              0.303666\n",
       "...                     ...                   ...\n",
       "29995              0.898788              0.101212\n",
       "29996              0.093186              0.906814\n",
       "29997              0.910798              0.089202\n",
       "29998              0.907113              0.092887\n",
       "29999              0.868868              0.131132\n",
       "\n",
       "[30000 rows x 2 columns]"
      ]
     },
     "execution_count": 17,
     "metadata": {},
     "output_type": "execute_result"
    }
   ],
   "source": [
    "prob_df = pd.DataFrame(gs.predict_proba(gs.best_estimator_.named_steps.tf.get_feature_names_out() ), columns = ['above_5th_percentile', 'below_5th_percentile'])\n",
    "prob_df"
   ]
  },
  {
   "cell_type": "code",
   "execution_count": 18,
   "id": "f3566248-4131-401e-8d50-13f7a49298a8",
   "metadata": {},
   "outputs": [
    {
     "data": {
      "text/html": [
       "<div>\n",
       "<style scoped>\n",
       "    .dataframe tbody tr th:only-of-type {\n",
       "        vertical-align: middle;\n",
       "    }\n",
       "\n",
       "    .dataframe tbody tr th {\n",
       "        vertical-align: top;\n",
       "    }\n",
       "\n",
       "    .dataframe thead th {\n",
       "        text-align: right;\n",
       "    }\n",
       "</style>\n",
       "<table border=\"1\" class=\"dataframe\">\n",
       "  <thead>\n",
       "    <tr style=\"text-align: right;\">\n",
       "      <th></th>\n",
       "      <th>features</th>\n",
       "    </tr>\n",
       "  </thead>\n",
       "  <tbody>\n",
       "    <tr>\n",
       "      <th>0</th>\n",
       "      <td>00</td>\n",
       "    </tr>\n",
       "    <tr>\n",
       "      <th>1</th>\n",
       "      <td>00 pm</td>\n",
       "    </tr>\n",
       "    <tr>\n",
       "      <th>2</th>\n",
       "      <td>000</td>\n",
       "    </tr>\n",
       "    <tr>\n",
       "      <th>3</th>\n",
       "      <td>00am</td>\n",
       "    </tr>\n",
       "    <tr>\n",
       "      <th>4</th>\n",
       "      <td>10</td>\n",
       "    </tr>\n",
       "    <tr>\n",
       "      <th>...</th>\n",
       "      <td>...</td>\n",
       "    </tr>\n",
       "    <tr>\n",
       "      <th>29995</th>\n",
       "      <td>있어서</td>\n",
       "    </tr>\n",
       "    <tr>\n",
       "      <th>29996</th>\n",
       "      <td>있었습니다</td>\n",
       "    </tr>\n",
       "    <tr>\n",
       "      <th>29997</th>\n",
       "      <td>정말</td>\n",
       "    </tr>\n",
       "    <tr>\n",
       "      <th>29998</th>\n",
       "      <td>좋았습니다</td>\n",
       "    </tr>\n",
       "    <tr>\n",
       "      <th>29999</th>\n",
       "      <td>좋은</td>\n",
       "    </tr>\n",
       "  </tbody>\n",
       "</table>\n",
       "<p>30000 rows × 1 columns</p>\n",
       "</div>"
      ],
      "text/plain": [
       "      features\n",
       "0           00\n",
       "1        00 pm\n",
       "2          000\n",
       "3         00am\n",
       "4           10\n",
       "...        ...\n",
       "29995      있어서\n",
       "29996    있었습니다\n",
       "29997       정말\n",
       "29998    좋았습니다\n",
       "29999       좋은\n",
       "\n",
       "[30000 rows x 1 columns]"
      ]
     },
     "execution_count": 18,
     "metadata": {},
     "output_type": "execute_result"
    }
   ],
   "source": [
    "feature_words = pd.DataFrame( gs.best_estimator_.named_steps.tf.get_feature_names_out(), columns = ['features'])\n",
    "feature_words"
   ]
  },
  {
   "cell_type": "code",
   "execution_count": 20,
   "id": "b82029b0-0e73-4ac8-a0f8-752cb20b699a",
   "metadata": {},
   "outputs": [
    {
     "data": {
      "text/html": [
       "<div>\n",
       "<style scoped>\n",
       "    .dataframe tbody tr th:only-of-type {\n",
       "        vertical-align: middle;\n",
       "    }\n",
       "\n",
       "    .dataframe tbody tr th {\n",
       "        vertical-align: top;\n",
       "    }\n",
       "\n",
       "    .dataframe thead th {\n",
       "        text-align: right;\n",
       "    }\n",
       "</style>\n",
       "<table border=\"1\" class=\"dataframe\">\n",
       "  <thead>\n",
       "    <tr style=\"text-align: right;\">\n",
       "      <th></th>\n",
       "      <th>features</th>\n",
       "      <th>above_5th_percentile</th>\n",
       "      <th>below_5th_percentile</th>\n",
       "    </tr>\n",
       "  </thead>\n",
       "  <tbody>\n",
       "    <tr>\n",
       "      <th>13958</th>\n",
       "      <td>jasmine</td>\n",
       "      <td>4.352548e-07</td>\n",
       "      <td>1.000000</td>\n",
       "    </tr>\n",
       "    <tr>\n",
       "      <th>29921</th>\n",
       "      <td>yousong</td>\n",
       "      <td>4.160599e-05</td>\n",
       "      <td>0.999958</td>\n",
       "    </tr>\n",
       "    <tr>\n",
       "      <th>7409</th>\n",
       "      <td>dee</td>\n",
       "      <td>4.350937e-05</td>\n",
       "      <td>0.999956</td>\n",
       "    </tr>\n",
       "    <tr>\n",
       "      <th>27507</th>\n",
       "      <td>todd</td>\n",
       "      <td>3.944948e-04</td>\n",
       "      <td>0.999606</td>\n",
       "    </tr>\n",
       "    <tr>\n",
       "      <th>24389</th>\n",
       "      <td>sireenat</td>\n",
       "      <td>9.460015e-04</td>\n",
       "      <td>0.999054</td>\n",
       "    </tr>\n",
       "    <tr>\n",
       "      <th>28588</th>\n",
       "      <td>views</td>\n",
       "      <td>1.222327e-03</td>\n",
       "      <td>0.998778</td>\n",
       "    </tr>\n",
       "    <tr>\n",
       "      <th>6170</th>\n",
       "      <td>concierge</td>\n",
       "      <td>1.891628e-03</td>\n",
       "      <td>0.998108</td>\n",
       "    </tr>\n",
       "    <tr>\n",
       "      <th>28089</th>\n",
       "      <td>tyler</td>\n",
       "      <td>2.011699e-03</td>\n",
       "      <td>0.997988</td>\n",
       "    </tr>\n",
       "    <tr>\n",
       "      <th>13964</th>\n",
       "      <td>jay</td>\n",
       "      <td>2.468210e-03</td>\n",
       "      <td>0.997532</td>\n",
       "    </tr>\n",
       "    <tr>\n",
       "      <th>11098</th>\n",
       "      <td>grace</td>\n",
       "      <td>2.491228e-03</td>\n",
       "      <td>0.997509</td>\n",
       "    </tr>\n",
       "    <tr>\n",
       "      <th>11198</th>\n",
       "      <td>great breakfast</td>\n",
       "      <td>2.632181e-03</td>\n",
       "      <td>0.997368</td>\n",
       "    </tr>\n",
       "    <tr>\n",
       "      <th>25324</th>\n",
       "      <td>state</td>\n",
       "      <td>2.741357e-03</td>\n",
       "      <td>0.997259</td>\n",
       "    </tr>\n",
       "    <tr>\n",
       "      <th>2873</th>\n",
       "      <td>beko</td>\n",
       "      <td>2.786988e-03</td>\n",
       "      <td>0.997213</td>\n",
       "    </tr>\n",
       "    <tr>\n",
       "      <th>3844</th>\n",
       "      <td>budget</td>\n",
       "      <td>3.022118e-03</td>\n",
       "      <td>0.996978</td>\n",
       "    </tr>\n",
       "    <tr>\n",
       "      <th>23582</th>\n",
       "      <td>room small</td>\n",
       "      <td>3.342070e-03</td>\n",
       "      <td>0.996658</td>\n",
       "    </tr>\n",
       "    <tr>\n",
       "      <th>24707</th>\n",
       "      <td>sonder great</td>\n",
       "      <td>3.406525e-03</td>\n",
       "      <td>0.996593</td>\n",
       "    </tr>\n",
       "    <tr>\n",
       "      <th>11929</th>\n",
       "      <td>gregory</td>\n",
       "      <td>3.409579e-03</td>\n",
       "      <td>0.996590</td>\n",
       "    </tr>\n",
       "    <tr>\n",
       "      <th>14097</th>\n",
       "      <td>juanita</td>\n",
       "      <td>3.423535e-03</td>\n",
       "      <td>0.996576</td>\n",
       "    </tr>\n",
       "    <tr>\n",
       "      <th>21359</th>\n",
       "      <td>price</td>\n",
       "      <td>3.858382e-03</td>\n",
       "      <td>0.996142</td>\n",
       "    </tr>\n",
       "    <tr>\n",
       "      <th>11878</th>\n",
       "      <td>great views</td>\n",
       "      <td>4.494181e-03</td>\n",
       "      <td>0.995506</td>\n",
       "    </tr>\n",
       "  </tbody>\n",
       "</table>\n",
       "</div>"
      ],
      "text/plain": [
       "              features  above_5th_percentile  below_5th_percentile\n",
       "13958          jasmine          4.352548e-07              1.000000\n",
       "29921          yousong          4.160599e-05              0.999958\n",
       "7409               dee          4.350937e-05              0.999956\n",
       "27507             todd          3.944948e-04              0.999606\n",
       "24389         sireenat          9.460015e-04              0.999054\n",
       "28588            views          1.222327e-03              0.998778\n",
       "6170         concierge          1.891628e-03              0.998108\n",
       "28089            tyler          2.011699e-03              0.997988\n",
       "13964              jay          2.468210e-03              0.997532\n",
       "11098            grace          2.491228e-03              0.997509\n",
       "11198  great breakfast          2.632181e-03              0.997368\n",
       "25324            state          2.741357e-03              0.997259\n",
       "2873              beko          2.786988e-03              0.997213\n",
       "3844            budget          3.022118e-03              0.996978\n",
       "23582       room small          3.342070e-03              0.996658\n",
       "24707     sonder great          3.406525e-03              0.996593\n",
       "11929          gregory          3.409579e-03              0.996590\n",
       "14097          juanita          3.423535e-03              0.996576\n",
       "21359            price          3.858382e-03              0.996142\n",
       "11878      great views          4.494181e-03              0.995506"
      ]
     },
     "execution_count": 20,
     "metadata": {},
     "output_type": "execute_result"
    }
   ],
   "source": [
    "word_probs = feature_words.join(prob_df)\n",
    "word_probs.sort_values('below_5th_percentile', ascending = False).head(20)"
   ]
  },
  {
   "cell_type": "code",
   "execution_count": 21,
   "id": "9318f5de-3773-4953-8781-c99293944433",
   "metadata": {},
   "outputs": [
    {
     "data": {
      "text/html": [
       "<div>\n",
       "<style scoped>\n",
       "    .dataframe tbody tr th:only-of-type {\n",
       "        vertical-align: middle;\n",
       "    }\n",
       "\n",
       "    .dataframe tbody tr th {\n",
       "        vertical-align: top;\n",
       "    }\n",
       "\n",
       "    .dataframe thead th {\n",
       "        text-align: right;\n",
       "    }\n",
       "</style>\n",
       "<table border=\"1\" class=\"dataframe\">\n",
       "  <thead>\n",
       "    <tr style=\"text-align: right;\">\n",
       "      <th></th>\n",
       "      <th>features</th>\n",
       "      <th>above_5th_percentile</th>\n",
       "      <th>below_5th_percentile</th>\n",
       "    </tr>\n",
       "  </thead>\n",
       "  <tbody>\n",
       "    <tr>\n",
       "      <th>5616</th>\n",
       "      <td>comfortable</td>\n",
       "      <td>0.999283</td>\n",
       "      <td>0.000717</td>\n",
       "    </tr>\n",
       "    <tr>\n",
       "      <th>23059</th>\n",
       "      <td>restaurants</td>\n",
       "      <td>0.999149</td>\n",
       "      <td>0.000851</td>\n",
       "    </tr>\n",
       "    <tr>\n",
       "      <th>20329</th>\n",
       "      <td>place clean comfortable</td>\n",
       "      <td>0.999131</td>\n",
       "      <td>0.000869</td>\n",
       "    </tr>\n",
       "    <tr>\n",
       "      <th>26654</th>\n",
       "      <td>super clean comfortable</td>\n",
       "      <td>0.998992</td>\n",
       "      <td>0.001008</td>\n",
       "    </tr>\n",
       "    <tr>\n",
       "      <th>26647</th>\n",
       "      <td>super clean</td>\n",
       "      <td>0.998739</td>\n",
       "      <td>0.001261</td>\n",
       "    </tr>\n",
       "    <tr>\n",
       "      <th>12510</th>\n",
       "      <td>highly recommend staying</td>\n",
       "      <td>0.998645</td>\n",
       "      <td>0.001355</td>\n",
       "    </tr>\n",
       "    <tr>\n",
       "      <th>1294</th>\n",
       "      <td>apartment comfortable</td>\n",
       "      <td>0.998569</td>\n",
       "      <td>0.001431</td>\n",
       "    </tr>\n",
       "    <tr>\n",
       "      <th>16397</th>\n",
       "      <td>loved stay</td>\n",
       "      <td>0.998514</td>\n",
       "      <td>0.001486</td>\n",
       "    </tr>\n",
       "    <tr>\n",
       "      <th>15823</th>\n",
       "      <td>location perfect</td>\n",
       "      <td>0.998377</td>\n",
       "      <td>0.001623</td>\n",
       "    </tr>\n",
       "    <tr>\n",
       "      <th>12486</th>\n",
       "      <td>highly recommend</td>\n",
       "      <td>0.998369</td>\n",
       "      <td>0.001631</td>\n",
       "    </tr>\n",
       "    <tr>\n",
       "      <th>5631</th>\n",
       "      <td>comfortable apartment</td>\n",
       "      <td>0.998328</td>\n",
       "      <td>0.001672</td>\n",
       "    </tr>\n",
       "    <tr>\n",
       "      <th>16415</th>\n",
       "      <td>lovely</td>\n",
       "      <td>0.998276</td>\n",
       "      <td>0.001724</td>\n",
       "    </tr>\n",
       "    <tr>\n",
       "      <th>1224</th>\n",
       "      <td>apartment</td>\n",
       "      <td>0.998199</td>\n",
       "      <td>0.001801</td>\n",
       "    </tr>\n",
       "    <tr>\n",
       "      <th>1469</th>\n",
       "      <td>apartment perfect</td>\n",
       "      <td>0.998174</td>\n",
       "      <td>0.001826</td>\n",
       "    </tr>\n",
       "    <tr>\n",
       "      <th>28345</th>\n",
       "      <td>upstairs</td>\n",
       "      <td>0.998066</td>\n",
       "      <td>0.001934</td>\n",
       "    </tr>\n",
       "    <tr>\n",
       "      <th>20701</th>\n",
       "      <td>place perfect</td>\n",
       "      <td>0.997942</td>\n",
       "      <td>0.002058</td>\n",
       "    </tr>\n",
       "    <tr>\n",
       "      <th>29705</th>\n",
       "      <td>wonderful hosts</td>\n",
       "      <td>0.997927</td>\n",
       "      <td>0.002073</td>\n",
       "    </tr>\n",
       "    <tr>\n",
       "      <th>20278</th>\n",
       "      <td>place beautiful</td>\n",
       "      <td>0.997840</td>\n",
       "      <td>0.002160</td>\n",
       "    </tr>\n",
       "    <tr>\n",
       "      <th>7595</th>\n",
       "      <td>dennis</td>\n",
       "      <td>0.997808</td>\n",
       "      <td>0.002192</td>\n",
       "    </tr>\n",
       "    <tr>\n",
       "      <th>29657</th>\n",
       "      <td>wonderful</td>\n",
       "      <td>0.997746</td>\n",
       "      <td>0.002254</td>\n",
       "    </tr>\n",
       "  </tbody>\n",
       "</table>\n",
       "</div>"
      ],
      "text/plain": [
       "                       features  above_5th_percentile  below_5th_percentile\n",
       "5616                comfortable              0.999283              0.000717\n",
       "23059               restaurants              0.999149              0.000851\n",
       "20329   place clean comfortable              0.999131              0.000869\n",
       "26654   super clean comfortable              0.998992              0.001008\n",
       "26647               super clean              0.998739              0.001261\n",
       "12510  highly recommend staying              0.998645              0.001355\n",
       "1294      apartment comfortable              0.998569              0.001431\n",
       "16397                loved stay              0.998514              0.001486\n",
       "15823          location perfect              0.998377              0.001623\n",
       "12486          highly recommend              0.998369              0.001631\n",
       "5631      comfortable apartment              0.998328              0.001672\n",
       "16415                    lovely              0.998276              0.001724\n",
       "1224                  apartment              0.998199              0.001801\n",
       "1469          apartment perfect              0.998174              0.001826\n",
       "28345                  upstairs              0.998066              0.001934\n",
       "20701             place perfect              0.997942              0.002058\n",
       "29705           wonderful hosts              0.997927              0.002073\n",
       "20278           place beautiful              0.997840              0.002160\n",
       "7595                     dennis              0.997808              0.002192\n",
       "29657                 wonderful              0.997746              0.002254"
      ]
     },
     "execution_count": 21,
     "metadata": {},
     "output_type": "execute_result"
    }
   ],
   "source": [
    "word_probs = feature_words.join(prob_df)\n",
    "word_probs.sort_values('above_5th_percentile', ascending = False).head(20)"
   ]
  },
  {
   "cell_type": "code",
   "execution_count": 22,
   "id": "3f678910-2bec-4c94-9687-c13e1b47bf53",
   "metadata": {},
   "outputs": [
    {
     "data": {
      "text/html": [
       "<div>\n",
       "<style scoped>\n",
       "    .dataframe tbody tr th:only-of-type {\n",
       "        vertical-align: middle;\n",
       "    }\n",
       "\n",
       "    .dataframe tbody tr th {\n",
       "        vertical-align: top;\n",
       "    }\n",
       "\n",
       "    .dataframe thead th {\n",
       "        text-align: right;\n",
       "    }\n",
       "</style>\n",
       "<table border=\"1\" class=\"dataframe\">\n",
       "  <thead>\n",
       "    <tr style=\"text-align: right;\">\n",
       "      <th></th>\n",
       "      <th>avg_rating</th>\n",
       "      <th>avg_score_below_4</th>\n",
       "      <th>comments_clean</th>\n",
       "    </tr>\n",
       "  </thead>\n",
       "  <tbody>\n",
       "    <tr>\n",
       "      <th>302045</th>\n",
       "      <td>4.352857</td>\n",
       "      <td>0</td>\n",
       "      <td>initially at booking jasmine wasn t responsive to questions however as the date approached and came she was very responsive had all the items to help our holiday away from home feel homey enjoyed our stay</td>\n",
       "    </tr>\n",
       "    <tr>\n",
       "      <th>302043</th>\n",
       "      <td>4.352857</td>\n",
       "      <td>0</td>\n",
       "      <td>jasmine was very nice she was very responsive and made excellent recommendations public transit was very close by so even though there wasn t much to do in the area we were able to get where we needed with ease would stay again</td>\n",
       "    </tr>\n",
       "    <tr>\n",
       "      <th>302040</th>\n",
       "      <td>4.352857</td>\n",
       "      <td>0</td>\n",
       "      <td>a great place and responsive host the place was very nice and the instructions were clear mattresses were very comfortable the kitchen was very nice and clean and the living room was very nice jasmine was great at checking in and responding to a couple questions we had would definitely stay here again</td>\n",
       "    </tr>\n",
       "    <tr>\n",
       "      <th>302038</th>\n",
       "      <td>4.352857</td>\n",
       "      <td>0</td>\n",
       "      <td>jasmine house was very clean and nice and she got lots of kitchen equipment for people who like to cook we will be here again for sure</td>\n",
       "    </tr>\n",
       "    <tr>\n",
       "      <th>302037</th>\n",
       "      <td>4.352857</td>\n",
       "      <td>0</td>\n",
       "      <td>very cozy house and communication with jasmine was always very fluid everything was great</td>\n",
       "    </tr>\n",
       "    <tr>\n",
       "      <th>...</th>\n",
       "      <td>...</td>\n",
       "      <td>...</td>\n",
       "      <td>...</td>\n",
       "    </tr>\n",
       "    <tr>\n",
       "      <th>108491</th>\n",
       "      <td>4.902857</td>\n",
       "      <td>0</td>\n",
       "      <td>jasmine was so wonderful and quick to respond great host would definitely recommend this place to anyone visiting the dc area super clean home</td>\n",
       "    </tr>\n",
       "    <tr>\n",
       "      <th>108485</th>\n",
       "      <td>4.902857</td>\n",
       "      <td>0</td>\n",
       "      <td>sheridan s place was absolutely darling and immaculate i have been using airbnb for the past five years and i would rate this among the top places first the decor is very vibrant homey and stylish second the room is bright with lots of natural light and very clean it even has a nice airbnb magazine the bathroom is divine fully stocked with travel sized toiletries much like you would find in a ...</td>\n",
       "    </tr>\n",
       "    <tr>\n",
       "      <th>108473</th>\n",
       "      <td>4.902857</td>\n",
       "      <td>0</td>\n",
       "      <td>i use airbnb frequently when i travel but had never stayed in a private room listing sheridan s place has set the bar high the entire home was nice and well decorated the neighborhood was quiet and accessible to the metro line i was primarily using on my trip the other occupants were so cool and helped with any questions i had really would book again if i needed and recommend to anyone who is ...</td>\n",
       "    </tr>\n",
       "    <tr>\n",
       "      <th>299406</th>\n",
       "      <td>4.954286</td>\n",
       "      <td>0</td>\n",
       "      <td>one of the best apartment among 20 places i ve stayed sparkling clean brand new facilities great decor and comfy furnitures wonderful location walkable to all restaurants and stores not to mention the most wonderful host i ve ever met sabri martin jasmine are unbelievably kind thoughtful and accommodating always respond to our messages immediately solve problems proactively and willing to go e...</td>\n",
       "    </tr>\n",
       "    <tr>\n",
       "      <th>72304</th>\n",
       "      <td>4.982857</td>\n",
       "      <td>0</td>\n",
       "      <td>great spacious loft that looks just like the photos lung was very responsive and hugo was a very good boy great location next to the arboretum and easily uber able to the national mall loved the kettle and jasmine tea that was conveniently placed upstairs would recommend</td>\n",
       "    </tr>\n",
       "  </tbody>\n",
       "</table>\n",
       "<p>113 rows × 3 columns</p>\n",
       "</div>"
      ],
      "text/plain": [
       "        avg_rating  avg_score_below_4  \\\n",
       "302045    4.352857                  0   \n",
       "302043    4.352857                  0   \n",
       "302040    4.352857                  0   \n",
       "302038    4.352857                  0   \n",
       "302037    4.352857                  0   \n",
       "...            ...                ...   \n",
       "108491    4.902857                  0   \n",
       "108485    4.902857                  0   \n",
       "108473    4.902857                  0   \n",
       "299406    4.954286                  0   \n",
       "72304     4.982857                  0   \n",
       "\n",
       "                                                                                                                                                                                                                                                                                                                                                                                                         comments_clean  \n",
       "302045                                                                                                                                                                                                     initially at booking jasmine wasn t responsive to questions however as the date approached and came she was very responsive had all the items to help our holiday away from home feel homey enjoyed our stay  \n",
       "302043                                                                                                                                                                              jasmine was very nice she was very responsive and made excellent recommendations public transit was very close by so even though there wasn t much to do in the area we were able to get where we needed with ease would stay again  \n",
       "302040                                                                                                   a great place and responsive host the place was very nice and the instructions were clear mattresses were very comfortable the kitchen was very nice and clean and the living room was very nice jasmine was great at checking in and responding to a couple questions we had would definitely stay here again  \n",
       "302038                                                                                                                                                                                                                                                                           jasmine house was very clean and nice and she got lots of kitchen equipment for people who like to cook we will be here again for sure  \n",
       "302037                                                                                                                                                                                                                                                                                                                        very cozy house and communication with jasmine was always very fluid everything was great  \n",
       "...                                                                                                                                                                                                                                                                                                                                                                                                                 ...  \n",
       "108491                                                                                                                                                                                                                                                                   jasmine was so wonderful and quick to respond great host would definitely recommend this place to anyone visiting the dc area super clean home  \n",
       "108485  sheridan s place was absolutely darling and immaculate i have been using airbnb for the past five years and i would rate this among the top places first the decor is very vibrant homey and stylish second the room is bright with lots of natural light and very clean it even has a nice airbnb magazine the bathroom is divine fully stocked with travel sized toiletries much like you would find in a ...  \n",
       "108473  i use airbnb frequently when i travel but had never stayed in a private room listing sheridan s place has set the bar high the entire home was nice and well decorated the neighborhood was quiet and accessible to the metro line i was primarily using on my trip the other occupants were so cool and helped with any questions i had really would book again if i needed and recommend to anyone who is ...  \n",
       "299406  one of the best apartment among 20 places i ve stayed sparkling clean brand new facilities great decor and comfy furnitures wonderful location walkable to all restaurants and stores not to mention the most wonderful host i ve ever met sabri martin jasmine are unbelievably kind thoughtful and accommodating always respond to our messages immediately solve problems proactively and willing to go e...  \n",
       "72304                                                                                                                                   great spacious loft that looks just like the photos lung was very responsive and hugo was a very good boy great location next to the arboretum and easily uber able to the national mall loved the kettle and jasmine tea that was conveniently placed upstairs would recommend  \n",
       "\n",
       "[113 rows x 3 columns]"
      ]
     },
     "execution_count": 22,
     "metadata": {},
     "output_type": "execute_result"
    }
   ],
   "source": [
    "pd.set_option('display.max_colwidth', 400)\n",
    "df[['avg_rating', 'avg_score_below_4', 'comments_clean']] [df['comments_clean'].str.contains('jasmine')].sort_values('avg_rating')"
   ]
  },
  {
   "cell_type": "code",
   "execution_count": null,
   "id": "272840e6-fcda-4a49-861f-ae0fe7954297",
   "metadata": {},
   "outputs": [],
   "source": []
  }
 ],
 "metadata": {
  "kernelspec": {
   "display_name": "Python 3 (ipykernel)",
   "language": "python",
   "name": "python3"
  },
  "language_info": {
   "codemirror_mode": {
    "name": "ipython",
    "version": 3
   },
   "file_extension": ".py",
   "mimetype": "text/x-python",
   "name": "python",
   "nbconvert_exporter": "python",
   "pygments_lexer": "ipython3",
   "version": "3.11.7"
  }
 },
 "nbformat": 4,
 "nbformat_minor": 5
}
